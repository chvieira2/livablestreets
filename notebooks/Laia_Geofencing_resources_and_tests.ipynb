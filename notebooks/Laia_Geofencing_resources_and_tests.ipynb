{
 "cells": [
  {
   "cell_type": "markdown",
   "id": "442117bb",
   "metadata": {},
   "source": [
    "# Resources and tests for a Spatial grid with coordinates"
   ]
  },
  {
   "cell_type": "markdown",
   "id": "21f88059",
   "metadata": {},
   "source": [
    "## How can I generate a regular geographic grid using python?"
   ]
  },
  {
   "cell_type": "markdown",
   "id": "f3a071f8",
   "metadata": {},
   "source": [
    "https://stackoverflow.com/questions/40342355/how-can-i-generate-a-regular-geographic-grid-using-python\n",
    "I want to retrieve all lat/lon coordinate pairs of a regular grid over a certain map area. "
   ]
  },
  {
   "cell_type": "markdown",
   "id": "c304e361",
   "metadata": {},
   "source": [
    "### **A grid in degrees**\n",
    "\n",
    "If you want it in degrees, you can simply iterate:"
   ]
  },
  {
   "cell_type": "code",
   "execution_count": null,
   "id": "067b5b67",
   "metadata": {},
   "outputs": [],
   "source": [
    "stepsize = 0.001\n",
    "for x in range(lonmin, lonmax, stepsize):\n",
    "    for y in range(latmin, latmax, stepsize):\n",
    "        yield (x, y)\n"
   ]
  },
  {
   "cell_type": "markdown",
   "id": "d9d95bc0",
   "metadata": {},
   "source": [
    "### **A grid in meters**\n",
    "\n",
    "If you want it in meters, you need to project your lat/lon boundaries of your input area (your certain area on a map) into a coordinate system that supports distances in meters.\n",
    "In python, you can use the libraries shapely and pyproj to work on geographic shapes and projections:"
   ]
  },
  {
   "cell_type": "code",
   "execution_count": 5,
   "id": "dd8ba55a",
   "metadata": {},
   "outputs": [
    {
     "ename": "TypeError",
     "evalue": "a bytes-like object is required, not 'str'",
     "output_type": "error",
     "traceback": [
      "\u001b[0;31m---------------------------------------------------------------------------\u001b[0m",
      "\u001b[0;31mTypeError\u001b[0m                                 Traceback (most recent call last)",
      "\u001b[0;32m/tmp/ipykernel_7335/1032511031.py\u001b[0m in \u001b[0;36m<module>\u001b[0;34m\u001b[0m\n\u001b[1;32m     28\u001b[0m \u001b[0;34m\u001b[0m\u001b[0m\n\u001b[1;32m     29\u001b[0m \u001b[0;32mwith\u001b[0m \u001b[0mopen\u001b[0m\u001b[0;34m(\u001b[0m\u001b[0;34m'testout.csv'\u001b[0m\u001b[0;34m,\u001b[0m \u001b[0;34m'wb'\u001b[0m\u001b[0;34m)\u001b[0m \u001b[0;32mas\u001b[0m \u001b[0mof\u001b[0m\u001b[0;34m:\u001b[0m\u001b[0;34m\u001b[0m\u001b[0;34m\u001b[0m\u001b[0m\n\u001b[0;32m---> 30\u001b[0;31m     \u001b[0mof\u001b[0m\u001b[0;34m.\u001b[0m\u001b[0mwrite\u001b[0m\u001b[0;34m(\u001b[0m\u001b[0;34m'lon;lat\\n'\u001b[0m\u001b[0;34m)\u001b[0m\u001b[0;34m\u001b[0m\u001b[0;34m\u001b[0m\u001b[0m\n\u001b[0m\u001b[1;32m     31\u001b[0m     \u001b[0;32mfor\u001b[0m \u001b[0mp\u001b[0m \u001b[0;32min\u001b[0m \u001b[0mgridpoints\u001b[0m\u001b[0;34m:\u001b[0m\u001b[0;34m\u001b[0m\u001b[0;34m\u001b[0m\u001b[0m\n\u001b[1;32m     32\u001b[0m         \u001b[0mof\u001b[0m\u001b[0;34m.\u001b[0m\u001b[0mwrite\u001b[0m\u001b[0;34m(\u001b[0m\u001b[0;34m'{:f};{:f}\\n'\u001b[0m\u001b[0;34m.\u001b[0m\u001b[0mformat\u001b[0m\u001b[0;34m(\u001b[0m\u001b[0mp\u001b[0m\u001b[0;34m.\u001b[0m\u001b[0mx\u001b[0m\u001b[0;34m,\u001b[0m \u001b[0mp\u001b[0m\u001b[0;34m.\u001b[0m\u001b[0my\u001b[0m\u001b[0;34m)\u001b[0m\u001b[0;34m)\u001b[0m\u001b[0;34m\u001b[0m\u001b[0;34m\u001b[0m\u001b[0m\n",
      "\u001b[0;31mTypeError\u001b[0m: a bytes-like object is required, not 'str'"
     ]
    }
   ],
   "source": [
    "import shapely.geometry\n",
    "import pyproj\n",
    "\n",
    "# Set up transformers, EPSG:3857 is metric, same as EPSG:900913\n",
    "to_proxy_transformer = pyproj.Transformer.from_crs('epsg:4326', 'epsg:3857')\n",
    "to_original_transformer = pyproj.Transformer.from_crs('epsg:4326', 'epsg:3857')\n",
    "\n",
    "# Create corners of rectangle to be transformed to a grid\n",
    "sw = shapely.geometry.Point((-5.0, 40.0))\n",
    "ne = shapely.geometry.Point((-4.0, 41.0))\n",
    "\n",
    "stepsize = 5000 # 5 km grid step size\n",
    "\n",
    "# Project corners to target projection\n",
    "transformed_sw = to_proxy_transformer.transform(sw.x, sw.y) # Transform NW point to 3857\n",
    "transformed_ne = to_proxy_transformer.transform(ne.x, ne.y) # .. same for SE\n",
    "\n",
    "# Iterate over 2D area\n",
    "gridpoints = []\n",
    "x = transformed_sw[0]\n",
    "while x < transformed_ne[0]:\n",
    "    y = transformed_sw[1]\n",
    "    while y < transformed_ne[1]:\n",
    "        p = shapely.geometry.Point(to_original_transformer.transform(x, y))\n",
    "        gridpoints.append(p)\n",
    "        y += stepsize\n",
    "    x += stepsize\n",
    "\n",
    "with open('testout.csv', 'wb') as of:\n",
    "    of.write('lon;lat\\n')\n",
    "    for p in gridpoints:\n",
    "        of.write('{:f};{:f}\\n'.format(p.x, p.y))"
   ]
  },
  {
   "cell_type": "markdown",
   "id": "9c59150c",
   "metadata": {},
   "source": [
    "## How to Create a Geofence with Python"
   ]
  },
  {
   "cell_type": "markdown",
   "id": "fd31d29d",
   "metadata": {},
   "source": [
    "https://towardsdatascience.com/how-to-create-a-geofence-with-python-part-1-14c3864cf9cc\n",
    "Geofencing is a useful technique with a wide range of applications whenever one is handling location data. It can be used to signal notifications or flag alerts based on proximity to an individual or landmark. \n",
    "In data science, it is often used in feature engineering and creating boundaries for visualizations\n"
   ]
  },
  {
   "cell_type": "markdown",
   "id": "be2135ac",
   "metadata": {},
   "source": [
    "### Classifying by Location\n",
    "\n",
    "Imagine that we have a dataset which contains records for numerous locations, with the locations for each row item being represented by latitude (df[‘lat’]) and longitude (df[‘long’])."
   ]
  },
  {
   "cell_type": "code",
   "execution_count": null,
   "id": "6cf13775",
   "metadata": {},
   "outputs": [],
   "source": [
    "# Creating a dummy classifier for rural or not\n",
    "df['rural'] = np.where(df.long > -121.961527, 1, 0)"
   ]
  },
  {
   "cell_type": "code",
   "execution_count": null,
   "id": "14c6a5fe",
   "metadata": {},
   "outputs": [],
   "source": [
    "# Creating a dummy classifier for if property is within Seattle city limits or not\n",
    "df['within_seattle_city_limits'] = np.where(\n",
    "      (df.long < -122.251569) # establishes the EAST box border\n",
    "    & (df.long > -122.438230) # establishes the WEST box border\n",
    "    & (df.lat < 47.734178)   # establishes the NORTH box border\n",
    "    & (df.lat > 47.495479),  # establishes the SOUTH box border\n",
    "    1, # assigns 1 to all properties within the bounding box\n",
    "    0 # assigns 0 to all properties outside the bounding box\n",
    ")"
   ]
  },
  {
   "cell_type": "markdown",
   "id": "05934b08",
   "metadata": {},
   "source": [
    "## pypi geogrids\n",
    "\n",
    "https://pypi.org/project/geogrids/\n",
    "A Python implementation of the npm geogrids library by Iván Sánchez Ortega - utilities for working with Global Discrete Geodetic Grids (GDGGs).\n",
    "\n",
    "This module contains both a Location object that can be used to generate a hash or take a has and generate a location, along with an encoders module that can transform the code into a (hopefully) useful text string."
   ]
  },
  {
   "cell_type": "code",
   "execution_count": null,
   "id": "67e0b0c3",
   "metadata": {},
   "outputs": [],
   "source": [
    ">>> from shapely import geometry\n",
    ">>> points = [geometry.shape(vertex) for vertex in vertices]\n",
    ">>> line = geometry.LineString(points)\n",
    ">>> line.length\n",
    "0.11570586750499379\n",
    ">>> polygon = geometry.Polygon(line)\n",
    ">>> polygon.area\n",
    "0.0015986572857657128"
   ]
  },
  {
   "cell_type": "code",
   "execution_count": null,
   "id": "7042b63b",
   "metadata": {},
   "outputs": [],
   "source": []
  }
 ],
 "metadata": {
  "kernelspec": {
   "display_name": "Python 3 (ipykernel)",
   "language": "python",
   "name": "python3"
  },
  "language_info": {
   "codemirror_mode": {
    "name": "ipython",
    "version": 3
   },
   "file_extension": ".py",
   "mimetype": "text/x-python",
   "name": "python",
   "nbconvert_exporter": "python",
   "pygments_lexer": "ipython3",
   "version": "3.8.12"
  },
  "toc": {
   "base_numbering": 1,
   "nav_menu": {},
   "number_sections": true,
   "sideBar": true,
   "skip_h1_title": false,
   "title_cell": "Table of Contents",
   "title_sidebar": "Contents",
   "toc_cell": false,
   "toc_position": {},
   "toc_section_display": true,
   "toc_window_display": true
  }
 },
 "nbformat": 4,
 "nbformat_minor": 5
}
