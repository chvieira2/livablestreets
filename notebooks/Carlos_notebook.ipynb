{
 "cells": [
  {
   "cell_type": "code",
   "execution_count": 1,
   "id": "2f31305a",
   "metadata": {
    "scrolled": true
   },
   "outputs": [
    {
     "name": "stderr",
     "output_type": "stream",
     "text": [
      "/tmp/ipykernel_18406/1651785630.py:8: UserWarning: Geometry is in a geographic CRS. Results from 'centroid' are likely incorrect. Use 'GeoSeries.to_crs()' to re-project geometries to a projected CRS before this operation.\n",
      "\n",
      "  gdf['centroid'] = gdf.centroid\n"
     ]
    },
    {
     "data": {
      "text/html": [
       "<div>\n",
       "<style scoped>\n",
       "    .dataframe tbody tr th:only-of-type {\n",
       "        vertical-align: middle;\n",
       "    }\n",
       "\n",
       "    .dataframe tbody tr th {\n",
       "        vertical-align: top;\n",
       "    }\n",
       "\n",
       "    .dataframe thead th {\n",
       "        text-align: right;\n",
       "    }\n",
       "</style>\n",
       "<table border=\"1\" class=\"dataframe\">\n",
       "  <thead>\n",
       "    <tr style=\"text-align: right;\">\n",
       "      <th></th>\n",
       "      <th>geometry</th>\n",
       "      <th>centroid</th>\n",
       "    </tr>\n",
       "    <tr>\n",
       "      <th>Location</th>\n",
       "      <th></th>\n",
       "      <th></th>\n",
       "    </tr>\n",
       "  </thead>\n",
       "  <tbody>\n",
       "    <tr>\n",
       "      <th>Berlin</th>\n",
       "      <td>MULTIPOLYGON (((13.34255 52.41145, 13.34241 52...</td>\n",
       "      <td>POINT (13.40232 52.50149)</td>\n",
       "    </tr>\n",
       "  </tbody>\n",
       "</table>\n",
       "</div>"
      ],
      "text/plain": [
       "                                                   geometry  \\\n",
       "Location                                                      \n",
       "Berlin    MULTIPOLYGON (((13.34255 52.41145, 13.34241 52...   \n",
       "\n",
       "                           centroid  \n",
       "Location                             \n",
       "Berlin    POINT (13.40232 52.50149)  "
      ]
     },
     "execution_count": 1,
     "metadata": {},
     "output_type": "execute_result"
    }
   ],
   "source": [
    "import geopandas\n",
    "\n",
    "gdf = geopandas.read_file('../raw_data/bezirksgrenzen.geojson')\n",
    "\n",
    "gdf = gdf.dissolve().drop(columns=['Gemeinde_name', \"Gemeinde_schluessel\",\"gml_id\", \"Land_name\",\"Land_schluessel\",\"Schluessel_gesamt\"])\n",
    "gdf['Location'] = 'Berlin'\n",
    "gdf = gdf.set_index(\"Location\")\n",
    "gdf['centroid'] = gdf.centroid\n",
    "gdf"
   ]
  },
  {
   "cell_type": "code",
   "execution_count": 35,
   "id": "c6bdf0a3",
   "metadata": {},
   "outputs": [
    {
     "data": {
      "text/plain": [
       "Location\n",
       "Berlin    True\n",
       "dtype: bool"
      ]
     },
     "execution_count": 35,
     "metadata": {},
     "output_type": "execute_result"
    }
   ],
   "source": [
    "gdf['geometry'].contains(point)"
   ]
  },
  {
   "cell_type": "code",
   "execution_count": 34,
   "id": "238f7295",
   "metadata": {},
   "outputs": [
    {
     "data": {
      "image/svg+xml": [
       "<svg xmlns=\"http://www.w3.org/2000/svg\" xmlns:xlink=\"http://www.w3.org/1999/xlink\" width=\"100.0\" height=\"100.0\" viewBox=\"12.40232 51.50149 2.0 2.0\" preserveAspectRatio=\"xMinYMin meet\"><g transform=\"matrix(1,0,0,-1,0,105.00298)\"><circle cx=\"13.40232\" cy=\"52.50149\" r=\"0.06\" stroke=\"#555555\" stroke-width=\"0.02\" fill=\"#66cc99\" opacity=\"0.6\" /></g></svg>"
      ],
      "text/plain": [
       "<shapely.geometry.point.Point at 0x7fa8d0eed520>"
      ]
     },
     "execution_count": 34,
     "metadata": {},
     "output_type": "execute_result"
    }
   ],
   "source": [
    "from shapely.geometry import Point, Polygon\n",
    "point = Point(13.40232, 52.50149)\n",
    "point"
   ]
  },
  {
   "cell_type": "code",
   "execution_count": 26,
   "id": "9fe204ef",
   "metadata": {},
   "outputs": [
    {
     "data": {
      "text/plain": [
       "Location\n",
       "Berlin    False\n",
       "dtype: bool"
      ]
     },
     "execution_count": 26,
     "metadata": {},
     "output_type": "execute_result"
    }
   ],
   "source": [
    "gdf.boundary.contains(point)"
   ]
  },
  {
   "cell_type": "code",
   "execution_count": 8,
   "id": "1b97ee71",
   "metadata": {},
   "outputs": [
    {
     "data": {
      "text/plain": [
       "Location\n",
       "Berlin    False\n",
       "dtype: bool"
      ]
     },
     "execution_count": 8,
     "metadata": {},
     "output_type": "execute_result"
    }
   ],
   "source": [
    "gdf.contains(point)"
   ]
  },
  {
   "cell_type": "code",
   "execution_count": 7,
   "id": "5a909d27",
   "metadata": {},
   "outputs": [
    {
     "name": "stderr",
     "output_type": "stream",
     "text": [
      "/tmp/ipykernel_18406/3558908884.py:1: UserWarning: Geometry is in a geographic CRS. Results from 'distance' are likely incorrect. Use 'GeoSeries.to_crs()' to re-project geometries to a projected CRS before this operation.\n",
      "\n",
      "  gdf['distance'] = gdf['centroid'].distance(point)\n"
     ]
    },
    {
     "data": {
      "text/plain": [
       "Location\n",
       "Berlin    55.175116\n",
       "Name: distance, dtype: float64"
      ]
     },
     "execution_count": 7,
     "metadata": {},
     "output_type": "execute_result"
    }
   ],
   "source": [
    "gdf['distance'] = gdf['centroid'].distance(point)\n",
    "gdf['distance']"
   ]
  },
  {
   "cell_type": "code",
   "execution_count": null,
   "id": "e53171e8",
   "metadata": {},
   "outputs": [],
   "source": [
    "gdf['distance'].mean()"
   ]
  },
  {
   "cell_type": "code",
   "execution_count": null,
   "id": "e5afd1d6",
   "metadata": {},
   "outputs": [],
   "source": [
    "gdf.plot(\"area\", legend=True);"
   ]
  },
  {
   "cell_type": "code",
   "execution_count": null,
   "id": "9691cb3f",
   "metadata": {},
   "outputs": [],
   "source": [
    "gdf.explore(\"area\", legend=False)"
   ]
  },
  {
   "cell_type": "code",
   "execution_count": null,
   "id": "a40001cc",
   "metadata": {},
   "outputs": [],
   "source": [
    "gdf['area'] = gdf.area\n",
    "gdf = gdf.set_geometry(\"centroid\")\n",
    "gdf.plot(\"area\", legend=True)"
   ]
  },
  {
   "cell_type": "code",
   "execution_count": null,
   "id": "6defeff0",
   "metadata": {},
   "outputs": [],
   "source": [
    "ax = gdf[\"geometry\"].plot()\n",
    "gdf[\"centroid\"].plot(ax=ax, color=\"black\")"
   ]
  },
  {
   "cell_type": "code",
   "execution_count": null,
   "id": "84c3a408",
   "metadata": {},
   "outputs": [],
   "source": [
    "gdf = gdf.set_geometry(\"geometry\")"
   ]
  },
  {
   "cell_type": "code",
   "execution_count": null,
   "id": "080dc17c",
   "metadata": {},
   "outputs": [],
   "source": [
    "gdf['boundary'] = gdf.boundary\n",
    "gdf['boundary']"
   ]
  },
  {
   "cell_type": "code",
   "execution_count": null,
   "id": "be366fa1",
   "metadata": {},
   "outputs": [],
   "source": []
  },
  {
   "cell_type": "code",
   "execution_count": null,
   "id": "b861237b",
   "metadata": {},
   "outputs": [],
   "source": []
  },
  {
   "cell_type": "code",
   "execution_count": null,
   "id": "de53ef33",
   "metadata": {},
   "outputs": [],
   "source": [
    "import fiona\n",
    "mv_collection = fiona.open('../raw_data/bezirksgrenzen.geojson')"
   ]
  },
  {
   "cell_type": "code",
   "execution_count": null,
   "id": "b2786f3a",
   "metadata": {},
   "outputs": [],
   "source": [
    "mv_collection.driver"
   ]
  },
  {
   "cell_type": "code",
   "execution_count": null,
   "id": "cde545ae",
   "metadata": {},
   "outputs": [],
   "source": [
    "mv_collection.crs"
   ]
  },
  {
   "cell_type": "code",
   "execution_count": null,
   "id": "8b556b9e",
   "metadata": {},
   "outputs": [],
   "source": [
    "mv_collection.schema"
   ]
  },
  {
   "cell_type": "code",
   "execution_count": null,
   "id": "9849855b",
   "metadata": {},
   "outputs": [],
   "source": [
    "len(list(mv_collection))  # only a single feature in this file:"
   ]
  },
  {
   "cell_type": "code",
   "execution_count": null,
   "id": "14cb8e09",
   "metadata": {},
   "outputs": [],
   "source": [
    "feature = list(mv_collection)[0]\n",
    "feature"
   ]
  },
  {
   "cell_type": "code",
   "execution_count": null,
   "id": "a94560e8",
   "metadata": {},
   "outputs": [],
   "source": [
    "import matplotlib.pyplot as plt\n",
    "from descartes import PolygonPatch\n",
    "\n",
    "def fig_ax_for_map():\n",
    "    \"\"\"\n",
    "    Return a matplotlib Figure and Axes object setup\n",
    "    for displaying a map.\n",
    "    \"\"\"\n",
    "    fig, ax = plt.subplots(dpi=180)\n",
    "    ax.set_aspect('equal')\n",
    "\n",
    "    ax.get_xaxis().set_visible(False)\n",
    "    ax.get_yaxis().set_visible(False)\n",
    "\n",
    "    return fig, ax"
   ]
  },
  {
   "cell_type": "code",
   "execution_count": null,
   "id": "627a89af",
   "metadata": {},
   "outputs": [],
   "source": [
    "def flatten_list(l):\n",
    "    return sum(l, [])\n",
    "\n",
    "\n",
    "def recursively_flatten_list(l):\n",
    "    if l and isinstance(l[0], list):\n",
    "        return flatten_list([recursively_flatten_list(m) for m in l])\n",
    "    else:\n",
    "        return l\n",
    "\n",
    "def limits_of_values(v, buffer=0.0):\n",
    "    return min(v) - buffer, max(v) + buffer"
   ]
  },
  {
   "cell_type": "code",
   "execution_count": null,
   "id": "9ad12007",
   "metadata": {},
   "outputs": [],
   "source": [
    "fig, ax = fig_ax_for_map()\n",
    "\n",
    "all_geom_coords = recursively_flatten_list(feature['geometry']['coordinates'])\n",
    "lngs, lats = zip(*all_geom_coords)\n",
    "lng_range = limits_of_values(lngs, buffer=0.1)\n",
    "lat_range = limits_of_values(lats, buffer=0.1)\n",
    "\n",
    "ax.set_xlim(lng_range)\n",
    "ax.set_ylim(lat_range)\n",
    "\n",
    "poly_patch = PolygonPatch(feature['geometry'], fc='blue', ec='black', alpha=0.5)\n",
    "ax.add_patch(poly_patch)\n",
    "\n",
    "plt.show()"
   ]
  },
  {
   "cell_type": "code",
   "execution_count": null,
   "id": "02f9c560",
   "metadata": {},
   "outputs": [],
   "source": [
    "from pyproj import Proj\n",
    "from shapely.ops import transform\n",
    "from shapely.geometry import shape"
   ]
  },
  {
   "cell_type": "code",
   "execution_count": null,
   "id": "c7a9c076",
   "metadata": {},
   "outputs": [],
   "source": [
    "def plot_shape(ax, s, buffer=3000):\n",
    "    \"\"\"Plot a shape `s` on matplotlib Axes `ax`\"\"\"\n",
    "    minx, miny, maxx, maxy = s.bounds\n",
    "\n",
    "    ax.set_xlim((minx-buffer, maxx+buffer))\n",
    "    ax.set_ylim((miny-buffer, maxy+buffer))\n",
    "\n",
    "    poly_patch = PolygonPatch(s, fc='blue', ec='black', alpha=0.5)\n",
    "    ax.add_patch(poly_patch)"
   ]
  },
  {
   "cell_type": "code",
   "execution_count": null,
   "id": "187ade64",
   "metadata": {},
   "outputs": [],
   "source": [
    "feat_shape = shape(feature['geometry'])"
   ]
  },
  {
   "cell_type": "code",
   "execution_count": null,
   "id": "1b15ea47",
   "metadata": {},
   "outputs": [],
   "source": [
    "fig, ax = fig_ax_for_map()\n",
    "plot_shape(ax, feat_shape)\n",
    "plt.show();"
   ]
  },
  {
   "cell_type": "code",
   "execution_count": null,
   "id": "8b6af456",
   "metadata": {},
   "outputs": [],
   "source": [
    "feat_shape.bounds"
   ]
  },
  {
   "cell_type": "code",
   "execution_count": null,
   "id": "86f8cc21",
   "metadata": {},
   "outputs": [],
   "source": []
  }
 ],
 "metadata": {
  "kernelspec": {
   "display_name": "Python 3 (ipykernel)",
   "language": "python",
   "name": "python3"
  },
  "language_info": {
   "codemirror_mode": {
    "name": "ipython",
    "version": 3
   },
   "file_extension": ".py",
   "mimetype": "text/x-python",
   "name": "python",
   "nbconvert_exporter": "python",
   "pygments_lexer": "ipython3",
   "version": "3.9.13"
  },
  "toc": {
   "base_numbering": 1,
   "nav_menu": {},
   "number_sections": true,
   "sideBar": true,
   "skip_h1_title": false,
   "title_cell": "Table of Contents",
   "title_sidebar": "Contents",
   "toc_cell": false,
   "toc_position": {},
   "toc_section_display": true,
   "toc_window_display": false
  }
 },
 "nbformat": 4,
 "nbformat_minor": 5
}
