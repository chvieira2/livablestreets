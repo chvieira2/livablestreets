{
 "cells": [
  {
   "cell_type": "code",
   "execution_count": 23,
   "id": "e020ba08",
   "metadata": {},
   "outputs": [
    {
     "name": "stdout",
     "output_type": "stream",
     "text": [
      "<Response [400]>\n"
     ]
    }
   ],
   "source": [
    "from rauth import OAuth1Session\n",
    "\n",
    "consumer_key = 'livablestreetsKey'\n",
    "consumer_secret = 'VTS4vnNUr7P6aW6x'\n",
    "base_url = 'https://rest.immobilienscout24.de/restapi/api/'\n",
    "# endpoint_url = 'search/v1.0/region?realestatetype=apartmentrent&geocodes=1276003001'\n",
    "endpoint_url = '/offer/v1.0/user'\n",
    "\n",
    "\n",
    "def test_get():\n",
    "    url = base_url\n",
    "    client = OAuth1Session(consumer_key,consumer_secret)\n",
    "    r = client.get(url+endpoint_url)\n",
    "    print(r)\n",
    "\n",
    "test_get()"
   ]
  },
  {
   "cell_type": "code",
   "execution_count": null,
   "id": "3a62329f",
   "metadata": {},
   "outputs": [],
   "source": []
  }
 ],
 "metadata": {
  "kernelspec": {
   "display_name": "Python 3 (ipykernel)",
   "language": "python",
   "name": "python3"
  },
  "language_info": {
   "codemirror_mode": {
    "name": "ipython",
    "version": 3
   },
   "file_extension": ".py",
   "mimetype": "text/x-python",
   "name": "python",
   "nbconvert_exporter": "python",
   "pygments_lexer": "ipython3",
   "version": "3.8.12"
  },
  "toc": {
   "base_numbering": 1,
   "nav_menu": {},
   "number_sections": true,
   "sideBar": true,
   "skip_h1_title": false,
   "title_cell": "Table of Contents",
   "title_sidebar": "Contents",
   "toc_cell": false,
   "toc_position": {},
   "toc_section_display": true,
   "toc_window_display": false
  }
 },
 "nbformat": 4,
 "nbformat_minor": 5
}
