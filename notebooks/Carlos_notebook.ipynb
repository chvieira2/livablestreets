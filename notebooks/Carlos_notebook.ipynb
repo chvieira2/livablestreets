{
 "cells": [
  {
   "cell_type": "code",
   "execution_count": 13,
   "id": "2f31305a",
   "metadata": {
    "scrolled": true
   },
   "outputs": [],
   "source": [
    "from livablestreets.generator import LivabilityMap\n",
    "import matplotlib.pyplot as plt"
   ]
  },
  {
   "cell_type": "code",
   "execution_count": 14,
   "id": "9646a51c",
   "metadata": {},
   "outputs": [
    {
     "name": "stdout",
     "output_type": "stream",
     "text": [
      "The directory /home/carlo/code/chvieira2/livablestreets/livablestreets/data/berlin already exists!\n",
      "The directory /home/carlo/code/chvieira2/livablestreets/livablestreets/data/berlin/Features already exists!\n",
      "The directory /home/carlo/code/chvieira2/livablestreets/livablestreets/data/berlin/WorkingTables already exists!\n",
      "/home/carlo/code/chvieira2/livablestreets/livablestreets/data/berlin/WorkingTables/Livability_berlin_grid_100m.csv\n",
      "/home/carlo/code/chvieira2/livablestreets/livablestreets/data/berlin/WorkingTables/berlin_grid_100m.csv\n",
      "===> Loaded berlin_grid_100m.csv locally from: /home/carlo/code/chvieira2/livablestreets/livablestreets/data/berlin/WorkingTables/berlin_grid_100m.csv\n",
      "Obtained shape file for berlin\n",
      "generate_grid 0.12\n",
      "Finally done ⊂(◉‿◉)つ sorry for the wait'\n",
      "              ------------------------------------------------------------/\n",
      "get_features 0.0\n",
      "/home/carlo/code/chvieira2/livablestreets/livablestreets/data/berlin/WorkingTables/FeatCount_berlin_grid_100m.csv\n"
     ]
    },
    {
     "name": "stderr",
     "output_type": "stream",
     "text": [
      "/home/carlo/code/chvieira2/livablestreets/livablestreets/generator.py:50: UserWarning: Geometry is in a geographic CRS. Results from 'centroid' are likely incorrect. Use 'GeoSeries.to_crs()' to re-project geometries to a projected CRS before this operation.\n",
      "\n",
      "  centroid = gdf_shape_location.centroid\n"
     ]
    },
    {
     "name": "stdout",
     "output_type": "stream",
     "text": [
      "===> Loaded FeatCount_berlin_grid_100m.csv locally from: /home/carlo/code/chvieira2/livablestreets/livablestreets/data/berlin/WorkingTables/FeatCount_berlin_grid_100m.csv\n",
      "add_FeatCount_grid 0.65\n",
      "===> Livability_berlin_grid_100m.csv saved locally in /home/carlo/code/chvieira2/livablestreets/livablestreets/data/berlin/WorkingTables/Livability_berlin_grid_100m.csv\n",
      "calc_livability 2.83\n",
      "0         0.0\n",
      "1         0.0\n",
      "2         0.0\n",
      "3         0.0\n",
      "4         0.0\n",
      "         ... \n",
      "134261    0.0\n",
      "134262    0.0\n",
      "134263    0.0\n",
      "134264    0.0\n",
      "134265    0.0\n",
      "Name: livability, Length: 134266, dtype: float64\n"
     ]
    }
   ],
   "source": [
    "city = LivabilityMap(location = 'berlin')\n",
    "city.calc_livability()\n",
    "basic_livab = city.df_grid_Livability['livability']\n",
    "print(basic_livab)"
   ]
  },
  {
   "cell_type": "code",
   "execution_count": 15,
   "id": "c00fdc69",
   "metadata": {},
   "outputs": [
    {
     "ename": "AttributeError",
     "evalue": "'LivabilityMap' object has no attribute 'update_livability'",
     "output_type": "error",
     "traceback": [
      "\u001b[0;31m---------------------------------------------------------------------------\u001b[0m",
      "\u001b[0;31mAttributeError\u001b[0m                            Traceback (most recent call last)",
      "\u001b[0;32m/tmp/ipykernel_23709/338463431.py\u001b[0m in \u001b[0;36m<module>\u001b[0;34m\u001b[0m\n\u001b[0;32m----> 1\u001b[0;31m \u001b[0mcity\u001b[0m\u001b[0;34m.\u001b[0m\u001b[0mupdate_livability\u001b[0m\u001b[0;34m(\u001b[0m\u001b[0mimputed_weights\u001b[0m \u001b[0;34m=\u001b[0m \u001b[0;34m(\u001b[0m\u001b[0;36m0\u001b[0m\u001b[0;34m,\u001b[0m\u001b[0;36m1\u001b[0m\u001b[0;34m,\u001b[0m\u001b[0;36m0\u001b[0m\u001b[0;34m,\u001b[0m\u001b[0;36m0\u001b[0m\u001b[0;34m)\u001b[0m\u001b[0;34m)\u001b[0m\u001b[0;34m\u001b[0m\u001b[0;34m\u001b[0m\u001b[0m\n\u001b[0m\u001b[1;32m      2\u001b[0m \u001b[0mmobi_livab\u001b[0m \u001b[0;34m=\u001b[0m \u001b[0mcity\u001b[0m\u001b[0;34m.\u001b[0m\u001b[0mdf_grid_Livability\u001b[0m\u001b[0;34m[\u001b[0m\u001b[0;34m'livability'\u001b[0m\u001b[0;34m]\u001b[0m\u001b[0;34m\u001b[0m\u001b[0;34m\u001b[0m\u001b[0m\n\u001b[1;32m      3\u001b[0m \u001b[0mprint\u001b[0m\u001b[0;34m(\u001b[0m\u001b[0mmobi_livab\u001b[0m\u001b[0;34m)\u001b[0m\u001b[0;34m\u001b[0m\u001b[0;34m\u001b[0m\u001b[0m\n",
      "\u001b[0;31mAttributeError\u001b[0m: 'LivabilityMap' object has no attribute 'update_livability'"
     ]
    }
   ],
   "source": [
    "city.update_livability(imputed_weights = (0,1,0,0))\n",
    "mobi_livab = city.df_grid_Livability['livability']\n",
    "print(mobi_livab)"
   ]
  },
  {
   "cell_type": "code",
   "execution_count": null,
   "id": "c2d594b8",
   "metadata": {},
   "outputs": [],
   "source": [
    "plt.plot(basic_livab, mobi_livab)"
   ]
  },
  {
   "cell_type": "code",
   "execution_count": null,
   "id": "7fc5647d",
   "metadata": {},
   "outputs": [],
   "source": []
  }
 ],
 "metadata": {
  "kernelspec": {
   "display_name": "Python 3 (ipykernel)",
   "language": "python",
   "name": "python3"
  },
  "language_info": {
   "codemirror_mode": {
    "name": "ipython",
    "version": 3
   },
   "file_extension": ".py",
   "mimetype": "text/x-python",
   "name": "python",
   "nbconvert_exporter": "python",
   "pygments_lexer": "ipython3",
   "version": "3.8.12"
  },
  "toc": {
   "base_numbering": 1,
   "nav_menu": {},
   "number_sections": true,
   "sideBar": true,
   "skip_h1_title": false,
   "title_cell": "Table of Contents",
   "title_sidebar": "Contents",
   "toc_cell": false,
   "toc_position": {},
   "toc_section_display": true,
   "toc_window_display": false
  }
 },
 "nbformat": 4,
 "nbformat_minor": 5
}
