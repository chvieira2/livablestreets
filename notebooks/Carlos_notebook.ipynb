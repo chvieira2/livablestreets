{
 "cells": [
  {
   "cell_type": "code",
   "execution_count": null,
   "id": "b2786f3a",
   "metadata": {},
   "outputs": [],
   "source": [
    "import numpy as np\n",
    "import pandas as pd\n",
    "import shapely.geometry\n",
    "import pyproj\n",
    "\n",
    "\n",
    "def create_geofence_meters(north_lat, south_lat, east_lon, west_lon, stepsize = 1000):\n",
    "    \"\"\" Starting from the north and east-most point, calculate and return\n",
    "    the latitude and longitude of all corner points of the corresponding grid square\n",
    "    \"\"\"\n",
    "    # Set up transformers, EPSG:3857 is metric, same as EPSG:900913\n",
    "    to_proxy_transformer = pyproj.Transformer.from_crs('epsg:4326', 'epsg:3857')\n",
    "    to_original_transformer = pyproj.Transformer.from_crs('epsg:3857', 'epsg:4326')\n",
    "\n",
    "    # Create corners of rectangle to be transformed to a grid\n",
    "    sw = shapely.geometry.Point((south_lat, west_lon))\n",
    "    ne = shapely.geometry.Point((north_lat, east_lon))\n",
    "    \n",
    "    # Project corners to target projection\n",
    "    transformed_sw = to_proxy_transformer.transform(sw.x, sw.y) # Transform NW point to 3857\n",
    "    transformed_ne = to_proxy_transformer.transform(ne.x, ne.y) # .. same for SE\n",
    "\n",
    "    # Iterate over 2D area\n",
    "    gridpoints = []\n",
    "    x = transformed_sw[0]\n",
    "    print(x, transformed_ne[0])\n",
    "    while x < transformed_ne[0]:\n",
    "        y = transformed_sw[1]\n",
    "        while y < transformed_ne[1]:\n",
    "            p = shapely.geometry.Point(to_original_transformer.transform(x, y))\n",
    "            gridpoints.append(p)\n",
    "            y += stepsize\n",
    "        x += stepsize\n",
    "        print(gridpoints)\n",
    "    \n",
    "    return gridpoints\n",
    "\n",
    "     "
   ]
  },
  {
   "cell_type": "code",
   "execution_count": 1,
   "id": "f222e607",
   "metadata": {},
   "outputs": [
    {
     "ename": "ModuleNotFoundError",
     "evalue": "No module named 'livablestreets'",
     "output_type": "error",
     "traceback": [
      "\u001b[0;31m---------------------------------------------------------------------------\u001b[0m",
      "\u001b[0;31mModuleNotFoundError\u001b[0m                       Traceback (most recent call last)",
      "\u001b[0;32m/tmp/ipykernel_6319/7546972.py\u001b[0m in \u001b[0;36m<module>\u001b[0;34m\u001b[0m\n\u001b[0;32m----> 1\u001b[0;31m \u001b[0;32mfrom\u001b[0m \u001b[0mlivablestreets\u001b[0m\u001b[0;34m.\u001b[0m\u001b[0mutils\u001b[0m \u001b[0;32mimport\u001b[0m \u001b[0mm_to_coord\u001b[0m\u001b[0;34m\u001b[0m\u001b[0;34m\u001b[0m\u001b[0m\n\u001b[0m\u001b[1;32m      2\u001b[0m \u001b[0;34m\u001b[0m\u001b[0m\n\u001b[1;32m      3\u001b[0m \u001b[0;34m\u001b[0m\u001b[0m\n\u001b[1;32m      4\u001b[0m \u001b[0mm_to_coord\u001b[0m\u001b[0;34m(\u001b[0m\u001b[0;36m10\u001b[0m\u001b[0;34m)\u001b[0m\u001b[0;34m\u001b[0m\u001b[0;34m\u001b[0m\u001b[0m\n",
      "\u001b[0;31mModuleNotFoundError\u001b[0m: No module named 'livablestreets'"
     ]
    }
   ],
   "source": [
    "from livablestreets.utils import m_to_coord\n",
    "\n",
    "\n",
    "m_to_coord(10)"
   ]
  },
  {
   "cell_type": "code",
   "execution_count": null,
   "id": "9821c59b",
   "metadata": {},
   "outputs": [],
   "source": [
    "import numpy as np\n",
    "import pandas as pd\n",
    "def create_geofence(north_lat, south_lat, east_lon, west_lon, stepsize = 0.001):\n",
    "    if stepsize > 1:\n",
    "        stepsi\n",
    "    grid = []\n",
    "    for x in np.arange(east_lon, west_lon-stepsize, stepsize):\n",
    "        for y in np.arange(north_lat, south_lat-stepsize, stepsize):\n",
    "            grid.append((x, x+stepsize, y, y+stepsize))\n",
    "            \n",
    "    return grid"
   ]
  },
  {
   "cell_type": "code",
   "execution_count": null,
   "id": "fbd88553",
   "metadata": {},
   "outputs": [],
   "source": [
    "create_geofence_degrees(52.343717, 52.650508, 13.114412, 13.739281)"
   ]
  },
  {
   "cell_type": "code",
   "execution_count": null,
   "id": "9ba74293",
   "metadata": {},
   "outputs": [],
   "source": []
  }
 ],
 "metadata": {
  "kernelspec": {
   "display_name": "Python 3 (ipykernel)",
   "language": "python",
   "name": "python3"
  },
  "language_info": {
   "codemirror_mode": {
    "name": "ipython",
    "version": 3
   },
   "file_extension": ".py",
   "mimetype": "text/x-python",
   "name": "python",
   "nbconvert_exporter": "python",
   "pygments_lexer": "ipython3",
   "version": "3.8.12"
  },
  "toc": {
   "base_numbering": 1,
   "nav_menu": {},
   "number_sections": true,
   "sideBar": true,
   "skip_h1_title": false,
   "title_cell": "Table of Contents",
   "title_sidebar": "Contents",
   "toc_cell": false,
   "toc_position": {},
   "toc_section_display": true,
   "toc_window_display": false
  }
 },
 "nbformat": 4,
 "nbformat_minor": 5
}
