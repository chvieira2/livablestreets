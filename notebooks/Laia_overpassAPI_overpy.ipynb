{
 "cells": [
  {
   "cell_type": "markdown",
   "id": "7807f451",
   "metadata": {
    "id": "7807f451"
   },
   "source": [
    "# Queries for OverpassAPI with overpy, shapely and requests"
   ]
  },
  {
   "cell_type": "markdown",
   "id": "040c6e6d",
   "metadata": {
    "id": "040c6e6d"
   },
   "source": [
    "## geolocation by name, get IDnumber\n",
    "\n",
    "NOTE: Search by area using relation or way id. First lookup OSM id in osm.org. The area id needs to be OSM id + 2400000000 for ways and OSM id + 3600000000 for relations. See https://wiki.osm.org/wiki/Overpass_API/Overpass_QL#By_area_.28area.29\n"
   ]
  },
  {
   "cell_type": "code",
   "execution_count": 4,
   "id": "949ba5d6",
   "metadata": {
    "colab": {
     "base_uri": "https://localhost:8080/"
    },
    "id": "949ba5d6",
    "outputId": "cd171812-575a-4379-8463-fcf1457a83a4"
   },
   "outputs": [
    {
     "name": "stdout",
     "output_type": "stream",
     "text": [
      "l'Eliana, L'Eliana, el Camp de Túria, València / Valencia, Comunitat Valenciana, 46183, España node\n",
      "L'Eliana, el Camp de Túria, València / Valencia, Comunitat Valenciana, España relation\n",
      "344537\n"
     ]
    }
   ],
   "source": [
    "from geopy.geocoders import Nominatim\n",
    "import overpy\n",
    "\n",
    "city_name = \"L'Eliana\"\n",
    "\n",
    "# Geocoding request via Nominatim\n",
    "geolocator = Nominatim(user_agent=\"city_compare\")\n",
    "geo_results = geolocator.geocode(city_name, exactly_one=False, limit=3)\n",
    "\n",
    "# Searching for relation in result set\n",
    "for r in geo_results:\n",
    "    print(r.address, r.raw.get(\"osm_type\"))\n",
    "    if r.raw.get(\"osm_type\") == \"relation\":\n",
    "        city = r\n",
    "        break\n",
    "\n",
    "\n",
    "# Calculating area id\n",
    "area_relid = int(city.raw.get(\"osm_id\")) + 3600000000 #for features\n",
    "area_wayid = int(city.raw.get(\"osm_id\")) + 2400000000\n",
    "area_osmid = int(city.raw.get(\"osm_id\")) #for city\n",
    "print(area_osmid)"
   ]
  },
  {
   "cell_type": "markdown",
   "id": "3d8dbf11",
   "metadata": {
    "id": "3d8dbf11"
   },
   "source": [
    "## min max lon lat for city Requests"
   ]
  },
  {
   "cell_type": "code",
   "execution_count": 5,
   "id": "6ca628d1",
   "metadata": {
    "id": "6ca628d1"
   },
   "outputs": [],
   "source": [
    "import requests\n",
    "\n",
    "overpass_url = \"http://overpass-api.de/api/interpreter\"\n",
    "overpass_query = f\"\"\"\n",
    "                [out:json][timeout:25];\n",
    "                rel({area_osmid});\n",
    "                out geom;\n",
    "                \"\"\"\n",
    "response = requests.get(overpass_url, \n",
    "                            params={'data': overpass_query})\n",
    "res = response.json()"
   ]
  },
  {
   "cell_type": "code",
   "execution_count": 6,
   "id": "8ca291a2",
   "metadata": {
    "colab": {
     "base_uri": "https://localhost:8080/"
    },
    "id": "8ca291a2",
    "outputId": "dabbabab-7e1b-4793-ce15-cf4ed2c4a0c1"
   },
   "outputs": [
    {
     "data": {
      "text/plain": [
       "{'minlat': 39.5424517,\n",
       " 'minlon': -0.5545655,\n",
       " 'maxlat': 39.580512,\n",
       " 'maxlon': -0.5015325}"
      ]
     },
     "execution_count": 6,
     "metadata": {},
     "output_type": "execute_result"
    }
   ],
   "source": [
    "res['elements'][0]['bounds']"
   ]
  },
  {
   "cell_type": "markdown",
   "id": "828141e7",
   "metadata": {
    "id": "828141e7"
   },
   "source": [
    "## City boundaries from Shapely"
   ]
  },
  {
   "cell_type": "code",
   "execution_count": 17,
   "id": "3a6a95f5",
   "metadata": {
    "id": "3a6a95f5"
   },
   "outputs": [],
   "source": [
    "import shapely.geometry as geometry\n",
    "from shapely.ops import linemerge, unary_union, polygonize\n",
    "\n",
    "\n",
    "query = f\"\"\"[out:json][timeout:25];\n",
    "rel({area_osmid});\n",
    "out body;\n",
    ">;\n",
    "out skel qt; \"\"\"\n",
    "api = overpy.Overpass()\n",
    "result = api.query(query)\n",
    "\n",
    "lss = []  #convert ways to linstrings\n",
    "\n",
    "for ii_w, way in enumerate(result.ways):\n",
    "    ls_coords = []\n",
    "\n",
    "    for node in way.nodes:\n",
    "        ls_coords.append(\n",
    "            (node.lon, node.lat))  # create a list of node coordinates\n",
    "\n",
    "    lss.append(\n",
    "        geometry.LineString(ls_coords))  # create a LineString from coords\n",
    "\n",
    "merged = linemerge([*lss])  # merge LineStrings\n",
    "borders = unary_union(merged)  # linestrings to a MultiLineString\n",
    "polygons = list(polygonize(borders))\n",
    "city = geometry.MultiPolygon(polygons)"
   ]
  },
  {
   "cell_type": "code",
   "execution_count": 18,
   "id": "8b03629e",
   "metadata": {},
   "outputs": [
    {
     "data": {
      "text/plain": [
       "[<shapely.geometry.linestring.LineString at 0x7ff42eda9b80>,\n",
       " <shapely.geometry.linestring.LineString at 0x7ff4041bfb20>,\n",
       " <shapely.geometry.linestring.LineString at 0x7ff42fdce970>,\n",
       " <shapely.geometry.linestring.LineString at 0x7ff42c543670>]"
      ]
     },
     "execution_count": 18,
     "metadata": {},
     "output_type": "execute_result"
    }
   ],
   "source": [
    "lss"
   ]
  },
  {
   "cell_type": "code",
   "execution_count": 19,
   "id": "1b6f2fd1",
   "metadata": {
    "colab": {
     "base_uri": "https://localhost:8080/",
     "height": 121
    },
    "id": "1b6f2fd1",
    "outputId": "d14bb39a-9ff8-421e-de8f-23ccc50945ee"
   },
   "outputs": [
    {
     "data": {
      "image/svg+xml": [
       "<svg xmlns=\"http://www.w3.org/2000/svg\" xmlns:xlink=\"http://www.w3.org/1999/xlink\" width=\"100.0\" height=\"100.0\" viewBox=\"-0.55668682 39.54033038 0.05727563999999996 0.04230293999999901\" preserveAspectRatio=\"xMinYMin meet\"><g transform=\"matrix(1,0,0,-1,0,79.1229637)\"><g><path fill-rule=\"evenodd\" fill=\"#66cc99\" stroke=\"#555555\" stroke-width=\"0.0011455127999999992\" opacity=\"0.6\" d=\"M -0.5545655,39.5608557 L -0.5543114,39.5612055 L -0.5539121,39.5619719 L -0.5532889,39.5624813 L -0.5517961,39.5638912 L -0.551138,39.5643999 L -0.5497911,39.5652994 L -0.5497735,39.5654702 L -0.549873,39.5659498 L -0.5468348,39.5659577 L -0.546524,39.5665187 L -0.544719,39.5665437 L -0.5425547,39.5688312 L -0.5387912,39.5719115 L -0.5386977,39.5727889 L -0.5377556,39.5741394 L -0.5389236,39.574851 L -0.5365357,39.5766419 L -0.5363392,39.5764698 L -0.5349136,39.5775774 L -0.5354353,39.5779859 L -0.5350575,39.5785301 L -0.533504,39.5776305 L -0.5306934,39.5803413 L -0.529872,39.579764 L -0.5294918,39.5802978 L -0.5290555,39.580512 L -0.5250961,39.5776317 L -0.5242158,39.5771805 L -0.5229991,39.5766951 L -0.5223007,39.5763649 L -0.5215998,39.5761067 L -0.5208511,39.5758835 L -0.5186879,39.5748463 L -0.5194941,39.5737825 L -0.5185831,39.5732134 L -0.5166847,39.5725873 L -0.5144803,39.5717293 L -0.5130352,39.5707974 L -0.5116409,39.5700739 L -0.5097245,39.5689787 L -0.5100704,39.5680943 L -0.5109202,39.5664638 L -0.5110821,39.5662169 L -0.5114619,39.5656376 L -0.5116748,39.5652187 L -0.5117644,39.5640134 L -0.5120812,39.5632905 L -0.5124171,39.5626851 L -0.510896,39.5619317 L -0.5101,39.5617345 L -0.509156,39.5617683 L -0.5082318,39.5619016 L -0.5074778,39.5621557 L -0.5071169,39.562157 L -0.5052379,39.5616482 L -0.5015325,39.5607937 L -0.5033492,39.5582741 L -0.5034843,39.5580867 L -0.5066074,39.5539584 L -0.5068683,39.5536043 L -0.5073224,39.5528137 L -0.5092435,39.5500517 L -0.5102907,39.5482978 L -0.5109406,39.5472702 L -0.5115699,39.546281 L -0.5120395,39.5455428 L -0.5130176,39.5439527 L -0.5140411,39.5424517 L -0.5208573,39.5492349 L -0.5242584,39.5511093 L -0.5300059,39.5534388 L -0.53056,39.5535677 L -0.5313214,39.5535008 L -0.531634,39.5534734 L -0.5319108,39.5535424 L -0.5329413,39.554348 L -0.5336376,39.5547322 L -0.5352788,39.5553797 L -0.537021,39.5561373 L -0.5376668,39.5563042 L -0.5414559,39.5567719 L -0.545207,39.5573287 L -0.5488799,39.5577937 L -0.5492706,39.557937 L -0.5545655,39.5608557 z\" /></g></g></svg>"
      ],
      "text/plain": [
       "<shapely.geometry.multipolygon.MultiPolygon at 0x7ff4041a71c0>"
      ]
     },
     "execution_count": 19,
     "metadata": {},
     "output_type": "execute_result"
    }
   ],
   "source": [
    "city"
   ]
  },
  {
   "cell_type": "code",
   "execution_count": 20,
   "id": "db6d9ce8",
   "metadata": {
    "colab": {
     "base_uri": "https://localhost:8080/"
    },
    "id": "db6d9ce8",
    "outputId": "66b20317-7b9e-4f52-a4f3-aea32cfa6d7e"
   },
   "outputs": [
    {
     "data": {
      "text/plain": [
       "shapely.geometry.multipolygon.MultiPolygon"
      ]
     },
     "execution_count": 20,
     "metadata": {},
     "output_type": "execute_result"
    }
   ],
   "source": [
    "type(city)"
   ]
  },
  {
   "cell_type": "markdown",
   "id": "86531112",
   "metadata": {
    "id": "86531112"
   },
   "source": [
    "### create geojson"
   ]
  },
  {
   "cell_type": "code",
   "execution_count": 21,
   "id": "406088c6",
   "metadata": {
    "id": "406088c6",
    "scrolled": true
   },
   "outputs": [],
   "source": [
    "from shapely.geometry import mapping\n",
    "\n",
    "gjson = mapping(city)"
   ]
  },
  {
   "cell_type": "markdown",
   "id": "f7ff3564",
   "metadata": {
    "id": "f7ff3564"
   },
   "source": [
    "### save geojson"
   ]
  },
  {
   "cell_type": "code",
   "execution_count": 22,
   "id": "d009abe8",
   "metadata": {
    "colab": {
     "base_uri": "https://localhost:8080/",
     "height": 357
    },
    "id": "d009abe8",
    "outputId": "8eacd097-4d7d-459e-8881-38df044a52c2"
   },
   "outputs": [],
   "source": [
    "from geojson import Point, Feature, FeatureCollection, dump\n",
    "\n",
    "with open(f'{city_name}_boundaries.geojson', 'w') as f:\n",
    "   dump(mapping(city), f)"
   ]
  },
  {
   "cell_type": "code",
   "execution_count": null,
   "id": "577062db",
   "metadata": {
    "id": "577062db"
   },
   "outputs": [],
   "source": []
  },
  {
   "cell_type": "markdown",
   "id": "76bf4a38",
   "metadata": {
    "id": "76bf4a38"
   },
   "source": [
    "# Features"
   ]
  },
  {
   "cell_type": "markdown",
   "id": "617090e2",
   "metadata": {
    "id": "617090e2"
   },
   "source": [
    "## function param string"
   ]
  },
  {
   "cell_type": "markdown",
   "id": "43c054c9",
   "metadata": {
    "id": "43c054c9"
   },
   "source": [
    "### Dict for params"
   ]
  },
  {
   "cell_type": "code",
   "execution_count": 23,
   "id": "9766f55a",
   "metadata": {
    "id": "9766f55a"
   },
   "outputs": [],
   "source": [
    "keys_values_osm = {'amenity':['pub', 'cafe']}"
   ]
  },
  {
   "cell_type": "code",
   "execution_count": 24,
   "id": "cbbba312",
   "metadata": {
    "id": "cbbba312"
   },
   "outputs": [],
   "source": [
    "def param_nwr(keys):\n",
    "    '''converts the dict into a string, returns a str'''\n",
    "    osm_keys = ''\n",
    "    for k,val in keys.items():\n",
    "        for v in val:\n",
    "            osm_keys += f\"\"\"nwr['{k}'='{v}'](area.bound);\"\"\"\n",
    "    return osm_keys"
   ]
  },
  {
   "cell_type": "code",
   "execution_count": 25,
   "id": "6935d072",
   "metadata": {
    "colab": {
     "base_uri": "https://localhost:8080/",
     "height": 35
    },
    "id": "6935d072",
    "outputId": "f23d38d6-625c-408b-fbb8-947a0df76f93",
    "scrolled": true
   },
   "outputs": [
    {
     "data": {
      "text/plain": [
       "\"nwr['amenity'='pub'](area.bound);nwr['amenity'='cafe'](area.bound);\""
      ]
     },
     "execution_count": 25,
     "metadata": {},
     "output_type": "execute_result"
    }
   ],
   "source": [
    "param_nwr(keys_values_osm)"
   ]
  },
  {
   "cell_type": "markdown",
   "id": "6ae6866d",
   "metadata": {
    "id": "6ae6866d"
   },
   "source": [
    "## overpass call for features Overpy"
   ]
  },
  {
   "cell_type": "code",
   "execution_count": 26,
   "id": "27b28100",
   "metadata": {
    "colab": {
     "base_uri": "https://localhost:8080/"
    },
    "id": "27b28100",
    "outputId": "d1f726da-c945-41f8-f5b7-45f66ac9cfa4"
   },
   "outputs": [
    {
     "name": "stdout",
     "output_type": "stream",
     "text": [
      "Amenities in nodes: 3\n",
      "Amenities in ways: 1\n",
      "Amenities in areas: 0\n"
     ]
    }
   ],
   "source": [
    "# Excecuting overpass call\n",
    "api = overpy.Overpass()\n",
    "result = api.query(f\"\"\"\n",
    "    area(%s)->.bound;\n",
    "    (\n",
    "      {param_nwr(keys_values_osm)}\n",
    "    );\n",
    "    out center;\n",
    "    \"\"\" % area_relid)\n",
    "\n",
    "# Printing no. of pubs in nodes and ways\n",
    "print(\"Amenities in nodes: %d\" % len(result.nodes))\n",
    "print(\"Amenities in ways: %d\" % len(result.ways))\n",
    "print(\"Amenities in areas: %d\" % len(result.areas))"
   ]
  },
  {
   "cell_type": "code",
   "execution_count": 27,
   "id": "1211e0ff",
   "metadata": {
    "id": "1211e0ff"
   },
   "outputs": [],
   "source": [
    "coords  = []\n",
    "coords += [(float(node.lon), float(node.lat)) \n",
    "           for node in result.nodes]\n",
    "coords += [(float(way.center_lon), float(way.center_lat)) \n",
    "           for way in result.ways]\n",
    "coords += [(float(rel.center_lon), float(rel.center_lat)) \n",
    "           for rel in result.relations]\n"
   ]
  },
  {
   "cell_type": "code",
   "execution_count": 28,
   "id": "22440c2c",
   "metadata": {
    "colab": {
     "base_uri": "https://localhost:8080/"
    },
    "id": "22440c2c",
    "outputId": "9d8a8ac2-8c4c-4d81-ce7e-5a5c4ba44e52",
    "scrolled": true
   },
   "outputs": [
    {
     "data": {
      "text/plain": [
       "[(-0.5305164, 39.5660379),\n",
       " (-0.5316451, 39.5658829),\n",
       " (-0.5288542, 39.5776676),\n",
       " (-0.530182, 39.5664047)]"
      ]
     },
     "execution_count": 28,
     "metadata": {},
     "output_type": "execute_result"
    }
   ],
   "source": [
    "coords"
   ]
  },
  {
   "cell_type": "code",
   "execution_count": null,
   "id": "Xr4u66a3KK0i",
   "metadata": {
    "id": "Xr4u66a3KK0i"
   },
   "outputs": [],
   "source": []
  },
  {
   "cell_type": "markdown",
   "id": "T34utBjpKL5I",
   "metadata": {
    "id": "T34utBjpKL5I"
   },
   "source": [
    "API Reference, test for speeding up, https://python-overpy.readthedocs.io/en/latest/api.html\n",
    "\n",
    "api = overpy.Overpass()\n",
    "api.parse_json(data)\n",
    "\n",
    "overpy.result().parse_json(data)"
   ]
  },
  {
   "cell_type": "markdown",
   "id": "db4cf860",
   "metadata": {
    "id": "db4cf860"
   },
   "source": [
    "## test with areas and polygons"
   ]
  },
  {
   "cell_type": "code",
   "execution_count": 29,
   "id": "ztwHf2YO39zU",
   "metadata": {
    "id": "ztwHf2YO39zU"
   },
   "outputs": [],
   "source": [
    "water = {'natural':['water','beach'],\n",
    "         'amenity':['fountain']}\n",
    "\n",
    "cycle = {'highway':['pedestrian','cycleway']}\n",
    "\n",
    "green = {'landuse':['grass','forest','orchard','allotments','cementery','flowerbed', 'meadow','greenfield', 'recreation_ground','village_green'],\n",
    "         'leisure':['park','playground','garden'],\n",
    "         'natural':['heath','shrubbery','wood','grassland']}"
   ]
  },
  {
   "cell_type": "code",
   "execution_count": 30,
   "id": "02523b80",
   "metadata": {
    "id": "02523b80"
   },
   "outputs": [],
   "source": [
    "areas_osm = {'landuse':['village_green']}"
   ]
  },
  {
   "cell_type": "markdown",
   "id": "vboR-F209s6J",
   "metadata": {
    "id": "vboR-F209s6J"
   },
   "source": [
    "https://python-overpy.readthedocs.io/en/latest/_modules/overpy.html\n",
    "execution times"
   ]
  },
  {
   "cell_type": "code",
   "execution_count": 31,
   "id": "6c919896",
   "metadata": {
    "colab": {
     "base_uri": "https://localhost:8080/",
     "height": 357
    },
    "id": "6c919896",
    "outputId": "99f4367c-88f3-4345-961f-07cf25ee7ed6"
   },
   "outputs": [
    {
     "ename": "AttributeError",
     "evalue": "'dict' object has no attribute '_to_geo'",
     "output_type": "error",
     "traceback": [
      "\u001b[0;31m---------------------------------------------------------------------------\u001b[0m",
      "\u001b[0;31mAttributeError\u001b[0m                            Traceback (most recent call last)",
      "\u001b[0;32m/tmp/ipykernel_2181/3511635984.py\u001b[0m in \u001b[0;36m<module>\u001b[0;34m\u001b[0m\n\u001b[1;32m      2\u001b[0m \u001b[0;32mfrom\u001b[0m \u001b[0mgeopandas\u001b[0m \u001b[0;32mimport\u001b[0m \u001b[0mGeoDataFrame\u001b[0m\u001b[0;34m\u001b[0m\u001b[0;34m\u001b[0m\u001b[0m\n\u001b[1;32m      3\u001b[0m \u001b[0mapi\u001b[0m \u001b[0;34m=\u001b[0m \u001b[0moverpy\u001b[0m\u001b[0;34m.\u001b[0m\u001b[0mOverpass\u001b[0m\u001b[0;34m(\u001b[0m\u001b[0;34m)\u001b[0m\u001b[0;34m\u001b[0m\u001b[0;34m\u001b[0m\u001b[0m\n\u001b[0;32m----> 4\u001b[0;31m \u001b[0ms\u001b[0m \u001b[0;34m=\u001b[0m \u001b[0mGeoDataFrame\u001b[0m\u001b[0;34m.\u001b[0m\u001b[0mto_json\u001b[0m\u001b[0;34m(\u001b[0m\u001b[0mgjson\u001b[0m\u001b[0;34m)\u001b[0m\u001b[0;34m\u001b[0m\u001b[0;34m\u001b[0m\u001b[0m\n\u001b[0m\u001b[1;32m      5\u001b[0m \u001b[0;34m\u001b[0m\u001b[0m\n\u001b[1;32m      6\u001b[0m \u001b[0mapi\u001b[0m\u001b[0;34m.\u001b[0m\u001b[0mparse_json\u001b[0m\u001b[0;34m(\u001b[0m\u001b[0ms\u001b[0m\u001b[0;34m)\u001b[0m\u001b[0;34m\u001b[0m\u001b[0;34m\u001b[0m\u001b[0m\n",
      "\u001b[0;32m~/.pyenv/versions/3.8.12/envs/lewagon/lib/python3.8/site-packages/geopandas/geodataframe.py\u001b[0m in \u001b[0;36mto_json\u001b[0;34m(self, na, show_bbox, drop_id, **kwargs)\u001b[0m\n\u001b[1;32m    748\u001b[0m         \"\"\"\n\u001b[1;32m    749\u001b[0m         return json.dumps(\n\u001b[0;32m--> 750\u001b[0;31m             \u001b[0mself\u001b[0m\u001b[0;34m.\u001b[0m\u001b[0m_to_geo\u001b[0m\u001b[0;34m(\u001b[0m\u001b[0mna\u001b[0m\u001b[0;34m=\u001b[0m\u001b[0mna\u001b[0m\u001b[0;34m,\u001b[0m \u001b[0mshow_bbox\u001b[0m\u001b[0;34m=\u001b[0m\u001b[0mshow_bbox\u001b[0m\u001b[0;34m,\u001b[0m \u001b[0mdrop_id\u001b[0m\u001b[0;34m=\u001b[0m\u001b[0mdrop_id\u001b[0m\u001b[0;34m)\u001b[0m\u001b[0;34m,\u001b[0m \u001b[0;34m**\u001b[0m\u001b[0mkwargs\u001b[0m\u001b[0;34m\u001b[0m\u001b[0;34m\u001b[0m\u001b[0m\n\u001b[0m\u001b[1;32m    751\u001b[0m         )\n\u001b[1;32m    752\u001b[0m \u001b[0;34m\u001b[0m\u001b[0m\n",
      "\u001b[0;31mAttributeError\u001b[0m: 'dict' object has no attribute '_to_geo'"
     ]
    }
   ],
   "source": [
    "# Excecuting overpass call\n",
    "from geopandas import GeoDataFrame\n",
    "api = overpy.Overpass()\n",
    "s = GeoDataFrame.to_json(gjson)\n",
    "\n",
    "api.parse_json(s)\n",
    "\n",
    "result = api.query(f\"\"\"\n",
    "    area(%s)->.bound;\n",
    "    (\n",
    "      {param_nwr(areas_osm)}\n",
    "    );\n",
    "    out center;\n",
    "    \"\"\" % area_relid)\n",
    "\n",
    "# Printing no. of pubs in nodes and ways\n",
    "print(\"Amenities in nodes: %d\" % len(result.nodes))\n",
    "print(\"Amenities in ways: %d\" % len(result.ways))\n",
    "print(\"Amenities in areas: %d\" % len(result.areas))"
   ]
  },
  {
   "cell_type": "code",
   "execution_count": null,
   "id": "917e0834",
   "metadata": {
    "colab": {
     "base_uri": "https://localhost:8080/"
    },
    "id": "917e0834",
    "outputId": "e12fd6d2-b8d4-4717-9e0d-beb405f0d584"
   },
   "outputs": [],
   "source": [
    "lss = []  #convert ways to linstrings\n",
    "\n",
    "for ii_w, way in enumerate(result.ways):\n",
    "    ls_coords = []\n",
    "    nodes = way.get_nodes(resolve_missing=True)\n",
    "    \n",
    "    for node in nodes:\n",
    "        ls_coords.append(\n",
    "            (node.lon, node.lat))  # create a list of node coordinates\n",
    "\n",
    "    lss.append(\n",
    "        geometry.LineString(ls_coords))  # create a LineString from coords\n",
    "\n",
    "merged = linemerge([*lss])  # merge LineStrings\n",
    "borders = unary_union(merged)  # linestrings to a MultiLineString\n",
    "polygons = list(polygonize(borders))\n",
    "%time"
   ]
  },
  {
   "cell_type": "code",
   "execution_count": 32,
   "id": "5c0ee175",
   "metadata": {
    "id": "5c0ee175"
   },
   "outputs": [],
   "source": [
    "parks = geometry.MultiPolygon(polygons)"
   ]
  },
  {
   "cell_type": "code",
   "execution_count": 33,
   "id": "07c378e5",
   "metadata": {
    "colab": {
     "base_uri": "https://localhost:8080/",
     "height": 121
    },
    "id": "07c378e5",
    "outputId": "cbe22937-1056-4b95-b10e-9aa9922c2a7a"
   },
   "outputs": [
    {
     "data": {
      "image/svg+xml": [
       "<svg xmlns=\"http://www.w3.org/2000/svg\" xmlns:xlink=\"http://www.w3.org/1999/xlink\" width=\"100.0\" height=\"100.0\" viewBox=\"-0.55668682 39.54033038 0.05727563999999996 0.04230293999999901\" preserveAspectRatio=\"xMinYMin meet\"><g transform=\"matrix(1,0,0,-1,0,79.1229637)\"><g><path fill-rule=\"evenodd\" fill=\"#66cc99\" stroke=\"#555555\" stroke-width=\"0.0011455127999999992\" opacity=\"0.6\" d=\"M -0.5545655,39.5608557 L -0.5543114,39.5612055 L -0.5539121,39.5619719 L -0.5532889,39.5624813 L -0.5517961,39.5638912 L -0.551138,39.5643999 L -0.5497911,39.5652994 L -0.5497735,39.5654702 L -0.549873,39.5659498 L -0.5468348,39.5659577 L -0.546524,39.5665187 L -0.544719,39.5665437 L -0.5425547,39.5688312 L -0.5387912,39.5719115 L -0.5386977,39.5727889 L -0.5377556,39.5741394 L -0.5389236,39.574851 L -0.5365357,39.5766419 L -0.5363392,39.5764698 L -0.5349136,39.5775774 L -0.5354353,39.5779859 L -0.5350575,39.5785301 L -0.533504,39.5776305 L -0.5306934,39.5803413 L -0.529872,39.579764 L -0.5294918,39.5802978 L -0.5290555,39.580512 L -0.5250961,39.5776317 L -0.5242158,39.5771805 L -0.5229991,39.5766951 L -0.5223007,39.5763649 L -0.5215998,39.5761067 L -0.5208511,39.5758835 L -0.5186879,39.5748463 L -0.5194941,39.5737825 L -0.5185831,39.5732134 L -0.5166847,39.5725873 L -0.5144803,39.5717293 L -0.5130352,39.5707974 L -0.5116409,39.5700739 L -0.5097245,39.5689787 L -0.5100704,39.5680943 L -0.5109202,39.5664638 L -0.5110821,39.5662169 L -0.5114619,39.5656376 L -0.5116748,39.5652187 L -0.5117644,39.5640134 L -0.5120812,39.5632905 L -0.5124171,39.5626851 L -0.510896,39.5619317 L -0.5101,39.5617345 L -0.509156,39.5617683 L -0.5082318,39.5619016 L -0.5074778,39.5621557 L -0.5071169,39.562157 L -0.5052379,39.5616482 L -0.5015325,39.5607937 L -0.5033492,39.5582741 L -0.5034843,39.5580867 L -0.5066074,39.5539584 L -0.5068683,39.5536043 L -0.5073224,39.5528137 L -0.5092435,39.5500517 L -0.5102907,39.5482978 L -0.5109406,39.5472702 L -0.5115699,39.546281 L -0.5120395,39.5455428 L -0.5130176,39.5439527 L -0.5140411,39.5424517 L -0.5208573,39.5492349 L -0.5242584,39.5511093 L -0.5300059,39.5534388 L -0.53056,39.5535677 L -0.5313214,39.5535008 L -0.531634,39.5534734 L -0.5319108,39.5535424 L -0.5329413,39.554348 L -0.5336376,39.5547322 L -0.5352788,39.5553797 L -0.537021,39.5561373 L -0.5376668,39.5563042 L -0.5414559,39.5567719 L -0.545207,39.5573287 L -0.5488799,39.5577937 L -0.5492706,39.557937 L -0.5545655,39.5608557 z\" /></g></g></svg>"
      ],
      "text/plain": [
       "<shapely.geometry.multipolygon.MultiPolygon at 0x7ff404086670>"
      ]
     },
     "execution_count": 33,
     "metadata": {},
     "output_type": "execute_result"
    }
   ],
   "source": [
    "parks"
   ]
  },
  {
   "cell_type": "code",
   "execution_count": 34,
   "id": "Nh48PlQsxRZk",
   "metadata": {
    "id": "Nh48PlQsxRZk"
   },
   "outputs": [],
   "source": [
    "import folium"
   ]
  },
  {
   "cell_type": "code",
   "execution_count": 35,
   "id": "5a82a6f3",
   "metadata": {
    "colab": {
     "base_uri": "https://localhost:8080/"
    },
    "id": "5a82a6f3",
    "outputId": "137a7d24-e06e-4052-c499-d5414198212f"
   },
   "outputs": [
    {
     "data": {
      "text/plain": [
       "<folium.features.GeoJson at 0x7ff3e0e69550>"
      ]
     },
     "execution_count": 35,
     "metadata": {},
     "output_type": "execute_result"
    }
   ],
   "source": [
    "map_test = folium.Map(width=750,height=500,location=[res['elements'][0]['bounds']['maxlat'], res['elements'][0]['bounds']['maxlon'] ],tiles=\"openstreetmap\",   zoom_start=15)\n",
    "folium.GeoJson(mapping(parks)).add_to(map_test)"
   ]
  },
  {
   "cell_type": "code",
   "execution_count": 36,
   "id": "SVAomHVkxTCc",
   "metadata": {
    "colab": {
     "base_uri": "https://localhost:8080/",
     "height": 873
    },
    "id": "SVAomHVkxTCc",
    "outputId": "d7304484-51bb-480a-b098-df47e29a2d57"
   },
   "outputs": [
    {
     "data": {
      "text/html": [
       "<div style=\"width:100%;\"><div style=\"position:relative;width:100%;height:0;padding-bottom:60%;\"><span style=\"color:#565656\">Make this Notebook Trusted to load map: File -> Trust Notebook</span><iframe src=\"about:blank\" style=\"position:absolute;width:100%;height:100%;left:0;top:0;border:none !important;\" data-html=%3C%21DOCTYPE%20html%3E%0A%3Chead%3E%20%20%20%20%0A%20%20%20%20%3Cmeta%20http-equiv%3D%22content-type%22%20content%3D%22text/html%3B%20charset%3DUTF-8%22%20/%3E%0A%20%20%20%20%0A%20%20%20%20%20%20%20%20%3Cscript%3E%0A%20%20%20%20%20%20%20%20%20%20%20%20L_NO_TOUCH%20%3D%20false%3B%0A%20%20%20%20%20%20%20%20%20%20%20%20L_DISABLE_3D%20%3D%20false%3B%0A%20%20%20%20%20%20%20%20%3C/script%3E%0A%20%20%20%20%0A%20%20%20%20%3Cstyle%3Ehtml%2C%20body%20%7Bwidth%3A%20100%25%3Bheight%3A%20100%25%3Bmargin%3A%200%3Bpadding%3A%200%3B%7D%3C/style%3E%0A%20%20%20%20%3Cstyle%3E%23map%20%7Bposition%3Aabsolute%3Btop%3A0%3Bbottom%3A0%3Bright%3A0%3Bleft%3A0%3B%7D%3C/style%3E%0A%20%20%20%20%3Cscript%20src%3D%22https%3A//cdn.jsdelivr.net/npm/leaflet%401.6.0/dist/leaflet.js%22%3E%3C/script%3E%0A%20%20%20%20%3Cscript%20src%3D%22https%3A//code.jquery.com/jquery-1.12.4.min.js%22%3E%3C/script%3E%0A%20%20%20%20%3Cscript%20src%3D%22https%3A//maxcdn.bootstrapcdn.com/bootstrap/3.2.0/js/bootstrap.min.js%22%3E%3C/script%3E%0A%20%20%20%20%3Cscript%20src%3D%22https%3A//cdnjs.cloudflare.com/ajax/libs/Leaflet.awesome-markers/2.0.2/leaflet.awesome-markers.js%22%3E%3C/script%3E%0A%20%20%20%20%3Clink%20rel%3D%22stylesheet%22%20href%3D%22https%3A//cdn.jsdelivr.net/npm/leaflet%401.6.0/dist/leaflet.css%22/%3E%0A%20%20%20%20%3Clink%20rel%3D%22stylesheet%22%20href%3D%22https%3A//maxcdn.bootstrapcdn.com/bootstrap/3.2.0/css/bootstrap.min.css%22/%3E%0A%20%20%20%20%3Clink%20rel%3D%22stylesheet%22%20href%3D%22https%3A//maxcdn.bootstrapcdn.com/bootstrap/3.2.0/css/bootstrap-theme.min.css%22/%3E%0A%20%20%20%20%3Clink%20rel%3D%22stylesheet%22%20href%3D%22https%3A//maxcdn.bootstrapcdn.com/font-awesome/4.6.3/css/font-awesome.min.css%22/%3E%0A%20%20%20%20%3Clink%20rel%3D%22stylesheet%22%20href%3D%22https%3A//cdnjs.cloudflare.com/ajax/libs/Leaflet.awesome-markers/2.0.2/leaflet.awesome-markers.css%22/%3E%0A%20%20%20%20%3Clink%20rel%3D%22stylesheet%22%20href%3D%22https%3A//cdn.jsdelivr.net/gh/python-visualization/folium/folium/templates/leaflet.awesome.rotate.min.css%22/%3E%0A%20%20%20%20%0A%20%20%20%20%20%20%20%20%20%20%20%20%3Cmeta%20name%3D%22viewport%22%20content%3D%22width%3Ddevice-width%2C%0A%20%20%20%20%20%20%20%20%20%20%20%20%20%20%20%20initial-scale%3D1.0%2C%20maximum-scale%3D1.0%2C%20user-scalable%3Dno%22%20/%3E%0A%20%20%20%20%20%20%20%20%20%20%20%20%3Cstyle%3E%0A%20%20%20%20%20%20%20%20%20%20%20%20%20%20%20%20%23map_a23934fbb38646a3b56d615b72bbdeb7%20%7B%0A%20%20%20%20%20%20%20%20%20%20%20%20%20%20%20%20%20%20%20%20position%3A%20relative%3B%0A%20%20%20%20%20%20%20%20%20%20%20%20%20%20%20%20%20%20%20%20width%3A%20750.0px%3B%0A%20%20%20%20%20%20%20%20%20%20%20%20%20%20%20%20%20%20%20%20height%3A%20500.0px%3B%0A%20%20%20%20%20%20%20%20%20%20%20%20%20%20%20%20%20%20%20%20left%3A%200.0%25%3B%0A%20%20%20%20%20%20%20%20%20%20%20%20%20%20%20%20%20%20%20%20top%3A%200.0%25%3B%0A%20%20%20%20%20%20%20%20%20%20%20%20%20%20%20%20%7D%0A%20%20%20%20%20%20%20%20%20%20%20%20%3C/style%3E%0A%20%20%20%20%20%20%20%20%0A%3C/head%3E%0A%3Cbody%3E%20%20%20%20%0A%20%20%20%20%0A%20%20%20%20%20%20%20%20%20%20%20%20%3Cdiv%20class%3D%22folium-map%22%20id%3D%22map_a23934fbb38646a3b56d615b72bbdeb7%22%20%3E%3C/div%3E%0A%20%20%20%20%20%20%20%20%0A%3C/body%3E%0A%3Cscript%3E%20%20%20%20%0A%20%20%20%20%0A%20%20%20%20%20%20%20%20%20%20%20%20var%20map_a23934fbb38646a3b56d615b72bbdeb7%20%3D%20L.map%28%0A%20%20%20%20%20%20%20%20%20%20%20%20%20%20%20%20%22map_a23934fbb38646a3b56d615b72bbdeb7%22%2C%0A%20%20%20%20%20%20%20%20%20%20%20%20%20%20%20%20%7B%0A%20%20%20%20%20%20%20%20%20%20%20%20%20%20%20%20%20%20%20%20center%3A%20%5B39.580512%2C%20-0.5015325%5D%2C%0A%20%20%20%20%20%20%20%20%20%20%20%20%20%20%20%20%20%20%20%20crs%3A%20L.CRS.EPSG3857%2C%0A%20%20%20%20%20%20%20%20%20%20%20%20%20%20%20%20%20%20%20%20zoom%3A%2015%2C%0A%20%20%20%20%20%20%20%20%20%20%20%20%20%20%20%20%20%20%20%20zoomControl%3A%20true%2C%0A%20%20%20%20%20%20%20%20%20%20%20%20%20%20%20%20%20%20%20%20preferCanvas%3A%20false%2C%0A%20%20%20%20%20%20%20%20%20%20%20%20%20%20%20%20%7D%0A%20%20%20%20%20%20%20%20%20%20%20%20%29%3B%0A%0A%20%20%20%20%20%20%20%20%20%20%20%20%0A%0A%20%20%20%20%20%20%20%20%0A%20%20%20%20%0A%20%20%20%20%20%20%20%20%20%20%20%20var%20tile_layer_4f78f24fe2ff4a37ac11a2cbf527672b%20%3D%20L.tileLayer%28%0A%20%20%20%20%20%20%20%20%20%20%20%20%20%20%20%20%22https%3A//%7Bs%7D.tile.openstreetmap.org/%7Bz%7D/%7Bx%7D/%7By%7D.png%22%2C%0A%20%20%20%20%20%20%20%20%20%20%20%20%20%20%20%20%7B%22attribution%22%3A%20%22Data%20by%20%5Cu0026copy%3B%20%5Cu003ca%20href%3D%5C%22http%3A//openstreetmap.org%5C%22%5Cu003eOpenStreetMap%5Cu003c/a%5Cu003e%2C%20under%20%5Cu003ca%20href%3D%5C%22http%3A//www.openstreetmap.org/copyright%5C%22%5Cu003eODbL%5Cu003c/a%5Cu003e.%22%2C%20%22detectRetina%22%3A%20false%2C%20%22maxNativeZoom%22%3A%2018%2C%20%22maxZoom%22%3A%2018%2C%20%22minZoom%22%3A%200%2C%20%22noWrap%22%3A%20false%2C%20%22opacity%22%3A%201%2C%20%22subdomains%22%3A%20%22abc%22%2C%20%22tms%22%3A%20false%7D%0A%20%20%20%20%20%20%20%20%20%20%20%20%29.addTo%28map_a23934fbb38646a3b56d615b72bbdeb7%29%3B%0A%20%20%20%20%20%20%20%20%0A%20%20%20%20%0A%0A%20%20%20%20%20%20%20%20function%20geo_json_68b4dbc659b7437aba0561f0e8615f8c_onEachFeature%28feature%2C%20layer%29%20%7B%0A%20%20%20%20%20%20%20%20%20%20%20%20layer.on%28%7B%0A%20%20%20%20%20%20%20%20%20%20%20%20%7D%29%3B%0A%20%20%20%20%20%20%20%20%7D%3B%0A%20%20%20%20%20%20%20%20var%20geo_json_68b4dbc659b7437aba0561f0e8615f8c%20%3D%20L.geoJson%28null%2C%20%7B%0A%20%20%20%20%20%20%20%20%20%20%20%20%20%20%20%20onEachFeature%3A%20geo_json_68b4dbc659b7437aba0561f0e8615f8c_onEachFeature%2C%0A%20%20%20%20%20%20%20%20%20%20%20%20%0A%20%20%20%20%20%20%20%20%7D%29%3B%0A%0A%20%20%20%20%20%20%20%20function%20geo_json_68b4dbc659b7437aba0561f0e8615f8c_add%20%28data%29%20%7B%0A%20%20%20%20%20%20%20%20%20%20%20%20geo_json_68b4dbc659b7437aba0561f0e8615f8c%0A%20%20%20%20%20%20%20%20%20%20%20%20%20%20%20%20.addData%28data%29%0A%20%20%20%20%20%20%20%20%20%20%20%20%20%20%20%20.addTo%28map_a23934fbb38646a3b56d615b72bbdeb7%29%3B%0A%20%20%20%20%20%20%20%20%7D%0A%20%20%20%20%20%20%20%20%20%20%20%20geo_json_68b4dbc659b7437aba0561f0e8615f8c_add%28%7B%22coordinates%22%3A%20%5B%5B%5B%5B-0.5545655%2C%2039.5608557%5D%2C%20%5B-0.5543114%2C%2039.5612055%5D%2C%20%5B-0.5539121%2C%2039.5619719%5D%2C%20%5B-0.5532889%2C%2039.5624813%5D%2C%20%5B-0.5517961%2C%2039.5638912%5D%2C%20%5B-0.551138%2C%2039.5643999%5D%2C%20%5B-0.5497911%2C%2039.5652994%5D%2C%20%5B-0.5497735%2C%2039.5654702%5D%2C%20%5B-0.549873%2C%2039.5659498%5D%2C%20%5B-0.5468348%2C%2039.5659577%5D%2C%20%5B-0.546524%2C%2039.5665187%5D%2C%20%5B-0.544719%2C%2039.5665437%5D%2C%20%5B-0.5425547%2C%2039.5688312%5D%2C%20%5B-0.5387912%2C%2039.5719115%5D%2C%20%5B-0.5386977%2C%2039.5727889%5D%2C%20%5B-0.5377556%2C%2039.5741394%5D%2C%20%5B-0.5389236%2C%2039.574851%5D%2C%20%5B-0.5365357%2C%2039.5766419%5D%2C%20%5B-0.5363392%2C%2039.5764698%5D%2C%20%5B-0.5349136%2C%2039.5775774%5D%2C%20%5B-0.5354353%2C%2039.5779859%5D%2C%20%5B-0.5350575%2C%2039.5785301%5D%2C%20%5B-0.533504%2C%2039.5776305%5D%2C%20%5B-0.5306934%2C%2039.5803413%5D%2C%20%5B-0.529872%2C%2039.579764%5D%2C%20%5B-0.5294918%2C%2039.5802978%5D%2C%20%5B-0.5290555%2C%2039.580512%5D%2C%20%5B-0.5250961%2C%2039.5776317%5D%2C%20%5B-0.5242158%2C%2039.5771805%5D%2C%20%5B-0.5229991%2C%2039.5766951%5D%2C%20%5B-0.5223007%2C%2039.5763649%5D%2C%20%5B-0.5215998%2C%2039.5761067%5D%2C%20%5B-0.5208511%2C%2039.5758835%5D%2C%20%5B-0.5186879%2C%2039.5748463%5D%2C%20%5B-0.5194941%2C%2039.5737825%5D%2C%20%5B-0.5185831%2C%2039.5732134%5D%2C%20%5B-0.5166847%2C%2039.5725873%5D%2C%20%5B-0.5144803%2C%2039.5717293%5D%2C%20%5B-0.5130352%2C%2039.5707974%5D%2C%20%5B-0.5116409%2C%2039.5700739%5D%2C%20%5B-0.5097245%2C%2039.5689787%5D%2C%20%5B-0.5100704%2C%2039.5680943%5D%2C%20%5B-0.5109202%2C%2039.5664638%5D%2C%20%5B-0.5110821%2C%2039.5662169%5D%2C%20%5B-0.5114619%2C%2039.5656376%5D%2C%20%5B-0.5116748%2C%2039.5652187%5D%2C%20%5B-0.5117644%2C%2039.5640134%5D%2C%20%5B-0.5120812%2C%2039.5632905%5D%2C%20%5B-0.5124171%2C%2039.5626851%5D%2C%20%5B-0.510896%2C%2039.5619317%5D%2C%20%5B-0.5101%2C%2039.5617345%5D%2C%20%5B-0.509156%2C%2039.5617683%5D%2C%20%5B-0.5082318%2C%2039.5619016%5D%2C%20%5B-0.5074778%2C%2039.5621557%5D%2C%20%5B-0.5071169%2C%2039.562157%5D%2C%20%5B-0.5052379%2C%2039.5616482%5D%2C%20%5B-0.5015325%2C%2039.5607937%5D%2C%20%5B-0.5033492%2C%2039.5582741%5D%2C%20%5B-0.5034843%2C%2039.5580867%5D%2C%20%5B-0.5066074%2C%2039.5539584%5D%2C%20%5B-0.5068683%2C%2039.5536043%5D%2C%20%5B-0.5073224%2C%2039.5528137%5D%2C%20%5B-0.5092435%2C%2039.5500517%5D%2C%20%5B-0.5102907%2C%2039.5482978%5D%2C%20%5B-0.5109406%2C%2039.5472702%5D%2C%20%5B-0.5115699%2C%2039.546281%5D%2C%20%5B-0.5120395%2C%2039.5455428%5D%2C%20%5B-0.5130176%2C%2039.5439527%5D%2C%20%5B-0.5140411%2C%2039.5424517%5D%2C%20%5B-0.5208573%2C%2039.5492349%5D%2C%20%5B-0.5242584%2C%2039.5511093%5D%2C%20%5B-0.5300059%2C%2039.5534388%5D%2C%20%5B-0.53056%2C%2039.5535677%5D%2C%20%5B-0.5313214%2C%2039.5535008%5D%2C%20%5B-0.531634%2C%2039.5534734%5D%2C%20%5B-0.5319108%2C%2039.5535424%5D%2C%20%5B-0.5329413%2C%2039.554348%5D%2C%20%5B-0.5336376%2C%2039.5547322%5D%2C%20%5B-0.5352788%2C%2039.5553797%5D%2C%20%5B-0.537021%2C%2039.5561373%5D%2C%20%5B-0.5376668%2C%2039.5563042%5D%2C%20%5B-0.5414559%2C%2039.5567719%5D%2C%20%5B-0.545207%2C%2039.5573287%5D%2C%20%5B-0.5488799%2C%2039.5577937%5D%2C%20%5B-0.5492706%2C%2039.557937%5D%2C%20%5B-0.5545655%2C%2039.5608557%5D%5D%5D%5D%2C%20%22type%22%3A%20%22MultiPolygon%22%7D%29%3B%0A%0A%20%20%20%20%20%20%20%20%0A%3C/script%3E onload=\"this.contentDocument.open();this.contentDocument.write(    decodeURIComponent(this.getAttribute('data-html')));this.contentDocument.close();\" allowfullscreen webkitallowfullscreen mozallowfullscreen></iframe></div></div>"
      ],
      "text/plain": [
       "<folium.folium.Map at 0x7ff3e0e69730>"
      ]
     },
     "execution_count": 36,
     "metadata": {},
     "output_type": "execute_result"
    }
   ],
   "source": [
    "map_test"
   ]
  },
  {
   "cell_type": "code",
   "execution_count": null,
   "id": "5tOImkDHyMqv",
   "metadata": {
    "id": "5tOImkDHyMqv"
   },
   "outputs": [],
   "source": []
  },
  {
   "cell_type": "code",
   "execution_count": null,
   "id": "ebd4e60f",
   "metadata": {},
   "outputs": [],
   "source": []
  }
 ],
 "metadata": {
  "colab": {
   "collapsed_sections": [],
   "name": "Laia_overpassAPI_overpy.ipynb",
   "provenance": []
  },
  "kernelspec": {
   "display_name": "Python 3 (ipykernel)",
   "language": "python",
   "name": "python3"
  },
  "language_info": {
   "codemirror_mode": {
    "name": "ipython",
    "version": 3
   },
   "file_extension": ".py",
   "mimetype": "text/x-python",
   "name": "python",
   "nbconvert_exporter": "python",
   "pygments_lexer": "ipython3",
   "version": "3.8.12"
  },
  "toc": {
   "base_numbering": 1,
   "nav_menu": {},
   "number_sections": true,
   "sideBar": true,
   "skip_h1_title": false,
   "title_cell": "Table of Contents",
   "title_sidebar": "Contents",
   "toc_cell": false,
   "toc_position": {},
   "toc_section_display": true,
   "toc_window_display": true
  }
 },
 "nbformat": 4,
 "nbformat_minor": 5
}
