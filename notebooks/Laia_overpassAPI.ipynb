{
 "cells": [
  {
   "cell_type": "markdown",
   "id": "dde2bf76",
   "metadata": {
    "heading_collapsed": true
   },
   "source": [
    "# Query data from overpassAPI (openstreetmaps)\n"
   ]
  },
  {
   "cell_type": "markdown",
   "id": "5e7a89a0",
   "metadata": {
    "hidden": true
   },
   "source": [
    "query now with Python by using the requests package in order to access the Overpass API\n",
    "\n",
    "https://towardsdatascience.com/loading-data-from-openstreetmap-with-python-and-the-overpass-api-513882a27fd0"
   ]
  },
  {
   "cell_type": "markdown",
   "id": "98c1a63c",
   "metadata": {
    "hidden": true
   },
   "source": [
    "## Area[] Berlin \n",
    "area[\"ISO3166-2\"=\"DE-BE\"]\n",
    "https://www.openstreetmap.org/relation/62422\n",
    "\n",
    "## admin_level=4\n",
    "admin_level=2 through admin_level=10 allow for different administrative subdivision schemes to be handled in a consistent way by data consumers. The use of a numbering scheme rather than words for the values helps avoid confusion due to different terminology used in different countries\n",
    "A data consumer looking for municipalities corresponding to \"city\", \"town\" or \"village\" boundaries will find these tagged anywhere from admin_level=4 (e.g. relation Berlin)"
   ]
  },
  {
   "cell_type": "code",
   "execution_count": null,
   "id": "3beeaa6e",
   "metadata": {
    "hidden": true
   },
   "outputs": [],
   "source": [
    "import requests\n",
    "import json\n",
    "\n",
    "overpass_url = \"http://overpass-api.de/api/interpreter\"\n",
    "overpass_query = \"\"\"\n",
    "[out:json];\n",
    "area[\"ISO3166-2\"=\"DE-BE\"][admin_level=4];\n",
    "(node['shop'='convenience'](area);\n",
    " way['shop'='convenience' ](area);\n",
    " rel['shop'='convenience' ](area);\n",
    ");\n",
    "out center;\n",
    "\"\"\"\n",
    "response = requests.get(overpass_url, \n",
    "                        params={'data': overpass_query})\n",
    "data = response.json()"
   ]
  },
  {
   "cell_type": "code",
   "execution_count": null,
   "id": "5d09c2ce",
   "metadata": {
    "hidden": true
   },
   "outputs": [],
   "source": [
    "overpass_query"
   ]
  },
  {
   "cell_type": "markdown",
   "id": "63e6c636",
   "metadata": {
    "hidden": true
   },
   "source": [
    "## Plotting "
   ]
  },
  {
   "cell_type": "code",
   "execution_count": null,
   "id": "c55d2ff2",
   "metadata": {
    "hidden": true
   },
   "outputs": [],
   "source": [
    "import numpy as np\n",
    "import matplotlib.pyplot as plt\n",
    "\n",
    "# Collect coords into list\n",
    "coords = []\n",
    "for element in data['elements']:\n",
    "  if element['type'] == 'node':\n",
    "    lon = element['lon']\n",
    "    lat = element['lat']\n",
    "    coords.append((lon, lat))\n",
    "  elif 'center' in element:\n",
    "    lon = element['center']['lon']\n",
    "    lat = element['center']['lat']\n",
    "    coords.append((lon, lat))# Convert coordinates into numpy array\n",
    "X = np.array(coords)\n",
    "\n",
    "plt.plot(X[:, 0], X[:, 1], 'o')\n",
    "plt.title('Spatkauf in Berlin')\n",
    "plt.xlabel('Longitude')\n",
    "plt.ylabel('Latitude')\n",
    "plt.axis('equal')\n",
    "plt.show()"
   ]
  },
  {
   "cell_type": "markdown",
   "id": "08ca456c",
   "metadata": {},
   "source": [
    "# overpy package"
   ]
  },
  {
   "cell_type": "code",
   "execution_count": null,
   "id": "92bc66fc",
   "metadata": {},
   "outputs": [],
   "source": [
    "import overpy\n",
    "\n",
    "api = overpy.Overpass()\n",
    "\n",
    "r = api.query(\"\"\"\n",
    "area[\"ISO3166-2\"=\"DE-BE\"][admin_level=4];\n",
    "(node[\"amenity\"=\"biergarten\"](area);\n",
    " way[\"amenity\"=\"biergarten\"](area);\n",
    " rel[\"amenity\"=\"biergarten\"](area);\n",
    ");\n",
    "out center;\n",
    "\"\"\")\n",
    "\n",
    "coords  = []\n",
    "coords += [(float(node.lon), float(node.lat)) \n",
    "           for node in r.nodes]\n",
    "coords += [(float(way.center_lon), float(way.center_lat)) \n",
    "           for way in r.ways]\n",
    "coords += [(float(rel.center_lon), float(rel.center_lat)) \n",
    "           for rel in r.relations]"
   ]
  },
  {
   "cell_type": "code",
   "execution_count": null,
   "id": "6208d8ae",
   "metadata": {},
   "outputs": [],
   "source": [
    "r.__dict__"
   ]
  },
  {
   "cell_type": "markdown",
   "id": "cdb40eb9",
   "metadata": {},
   "source": [
    "# get boundaries and outline of city"
   ]
  },
  {
   "cell_type": "code",
   "execution_count": null,
   "id": "aea20667",
   "metadata": {},
   "outputs": [],
   "source": [
    "import overpy\n",
    "import requests\n",
    "import json\n",
    "\n",
    "country_name = 'Germany'\n",
    "city_name = 'Berlin'\n",
    "\n",
    "'''example'''\n",
    "# area[name=\"Köln\"]->.b;\n",
    "# rel(area.b)[name=\"Innenstadt\"];\n",
    "# map_to_area -> .a;\n",
    "# node(area.a)[amenity=pub];\n",
    "# out meta;\n",
    "\n",
    "'''not working'''\n",
    "# study_area = f\"\"\"area[name='{country_name}']->.a;\n",
    "#              rel(area.a)['boundary'='administrative'];\n",
    "#              map_to_area -> .b;\"\"\"\n",
    "# params = f\"\"\"area[name='{city_name}'](area.b);\"\"\"\n",
    "\n",
    "'''not working'''\n",
    "# study_area = f\"\"\"{{{{geocodeArea:{country_name}}}}}->.a;\"\"\"\n",
    "# params = f\"\"\"area[name='{city_name}'](area.a);\"\"\"\n",
    "# ['admin_level'='8']\n",
    "\n",
    "study_area = f\"\"\"area['name:en'='{country_name}']->.a\"\"\"\n",
    "params = f\"\"\"rel['name'='{city_name}'](area.a)\"\"\"\n",
    "\n",
    "limit = ''\n",
    "out_type = 'geom'\n",
    "\n",
    "border_query = f\"\"\"{study_area};\n",
    "                ({params};\n",
    "                );\n",
    "                out {limit} {out_type};\n",
    "                \"\"\""
   ]
  },
  {
   "cell_type": "code",
   "execution_count": null,
   "id": "1ec67cc6",
   "metadata": {
    "scrolled": false
   },
   "outputs": [],
   "source": [
    "print(border_query)"
   ]
  },
  {
   "cell_type": "code",
   "execution_count": null,
   "id": "5657b378",
   "metadata": {},
   "outputs": [],
   "source": [
    "api = overpy.Overpass()\n",
    "\n",
    "overy_request = api.query(border_query)\n",
    "overy_request"
   ]
  },
  {
   "cell_type": "code",
   "execution_count": null,
   "id": "18ff2acd",
   "metadata": {
    "scrolled": false
   },
   "outputs": [],
   "source": [
    "overy_request.__dict__"
   ]
  },
  {
   "cell_type": "code",
   "execution_count": null,
   "id": "b28b8f1d",
   "metadata": {
    "scrolled": true
   },
   "outputs": [],
   "source": [
    "overy_request.relations[0].__dict__"
   ]
  },
  {
   "cell_type": "code",
   "execution_count": null,
   "id": "e6faf5b7",
   "metadata": {},
   "outputs": [],
   "source": [
    "overpass_url = \"http://overpass-api.de/api/interpreter\"\n",
    "\n",
    "overpass_query = f\"\"\"\n",
    "                [out:json][timeout:25];\n",
    "                {study_area};\n",
    "                {params};\n",
    "                out {limit} {out_type};\n",
    "                \"\"\"\n",
    "response = requests.get(overpass_url, \n",
    "                            params={'data': overpass_query})\n",
    "res = response.json()"
   ]
  },
  {
   "cell_type": "code",
   "execution_count": null,
   "id": "bf5fadc8",
   "metadata": {},
   "outputs": [],
   "source": [
    "id_city = res['elements'][0]['id']"
   ]
  },
  {
   "cell_type": "code",
   "execution_count": null,
   "id": "af918d37",
   "metadata": {},
   "outputs": [],
   "source": [
    "res['elements'][0]['bounds']"
   ]
  },
  {
   "cell_type": "markdown",
   "id": "a07f3a67",
   "metadata": {},
   "source": [
    "# shapely boundary"
   ]
  },
  {
   "cell_type": "code",
   "execution_count": null,
   "id": "67aac765",
   "metadata": {},
   "outputs": [],
   "source": [
    "import shapely.geometry as geometry\n",
    "from shapely.ops import linemerge, unary_union, polygonize\n",
    "\n",
    "\n",
    "query = f\"\"\"[out:json][timeout:25];\n",
    "rel({id_city});\n",
    "out body;\n",
    ">;\n",
    "out skel qt; \"\"\"\n",
    "api = overpy.Overpass()\n",
    "result = api.query(query)\n",
    "\n",
    "lss = []  #convert ways to linstrings\n",
    "\n",
    "for ii_w, way in enumerate(result.ways):\n",
    "    ls_coords = []\n",
    "\n",
    "    for node in way.nodes:\n",
    "        ls_coords.append(\n",
    "            (node.lon, node.lat))  # create a list of node coordinates\n",
    "\n",
    "    lss.append(\n",
    "        geometry.LineString(ls_coords))  # create a LineString from coords\n",
    "\n",
    "merged = linemerge([*lss])  # merge LineStrings\n",
    "borders = unary_union(merged)  # linestrings to a MultiLineString\n",
    "polygons = list(polygonize(borders))\n",
    "city = geometry.MultiPolygon(polygons)"
   ]
  },
  {
   "cell_type": "code",
   "execution_count": null,
   "id": "5226f464",
   "metadata": {
    "scrolled": true
   },
   "outputs": [],
   "source": [
    "id_city"
   ]
  },
  {
   "cell_type": "code",
   "execution_count": null,
   "id": "f6cc647c",
   "metadata": {},
   "outputs": [],
   "source": [
    "import numpy as np\n",
    "import pandas as pd\n",
    "pd.DataFrame(np.array(result.ways))"
   ]
  },
  {
   "cell_type": "code",
   "execution_count": null,
   "id": "2f02cf14",
   "metadata": {
    "scrolled": true
   },
   "outputs": [],
   "source": [
    "lss = []  #convert ways to linstrings\n",
    "\n",
    "for ii_w, way in enumerate(result.ways):\n",
    "    ls_coords = []\n",
    "    print()\n",
    "#     for node in way.nodes:\n",
    "#         ls_coords.append(\n",
    "#             (node.lon, node.lat))  # create a list of node coordinates\n",
    "\n",
    "#     lss.append(\n",
    "#         geometry.LineString(ls_coords))  # create a LineString from coords"
   ]
  },
  {
   "cell_type": "markdown",
   "id": "6d152171",
   "metadata": {},
   "source": [
    "## params function"
   ]
  },
  {
   "cell_type": "code",
   "execution_count": null,
   "id": "fcbc71c9",
   "metadata": {},
   "outputs": [],
   "source": [
    "#not working\n",
    "# def param_key(keys):\n",
    "    \n",
    "#     #params defining the whole key example 'leisure' \n",
    "# #     get every type of leisure instalation, as a list returns several keys\n",
    "    \n",
    "#     string_keys = ''\n",
    "#     for k in keys: \n",
    "#         string_keys += f\"\"\"node[{k}](area);\"\"\"\n",
    "#     return string_keys\n",
    "\n",
    "# def param_key_value(key, value):\n",
    "    \n",
    "#     #params defining the key and value, example 'leisure' 'parks' will only get parks\n",
    "    \n",
    "#     string_key = f\"\"\"\\\n",
    "#     node['{key}'='{value}'](area);\n",
    "#     way['{key}'='{value}'](area);\n",
    "#     rel['{key}'='{value}'](area);\n",
    "#     \"\"\"\n",
    "#     return string_key"
   ]
  },
  {
   "cell_type": "markdown",
   "id": "5a123902",
   "metadata": {},
   "source": [
    "## imports"
   ]
  },
  {
   "cell_type": "code",
   "execution_count": null,
   "id": "cb3c1a5c",
   "metadata": {},
   "outputs": [],
   "source": [
    "import requests\n",
    "import json"
   ]
  },
  {
   "cell_type": "code",
   "execution_count": null,
   "id": "21ea13d6",
   "metadata": {},
   "outputs": [],
   "source": [
    "#style working properly\n",
    "# osm_keys_ok = \"\"\"node[\"amenity\"=\"pub\"](area.berlin);\n",
    "#             node[\"amenity\"=\"bar\"](area.berlin); \n",
    "#             \"\"\""
   ]
  },
  {
   "cell_type": "markdown",
   "id": "e62741fb",
   "metadata": {},
   "source": [
    "## query function"
   ]
  },
  {
   "cell_type": "code",
   "execution_count": null,
   "id": "426d6a33",
   "metadata": {},
   "outputs": [],
   "source": [
    "overpass_url = \"http://overpass-api.de/api/interpreter\"\n",
    "\n",
    "# study_area = 'area[\"ISO3166-2\"=\"DE-BE\"]->.berlin'\n",
    "study_area = f\"\"\"area(62422)->.bound\"\"\"\n",
    "\n",
    "out_type = 'body qt'\n",
    "\n",
    "keys_values_osm = {'amenity':['bbq','drinking_water']}\n",
    "\n",
    "\n",
    "def param_nodes(keys):\n",
    "    '''converts the dict into a string, returns a str'''\n",
    "    osm_keys = ''\n",
    "    for k,val in keys.items():\n",
    "        for v in val:\n",
    "            osm_keys += f\"\"\"nwr['{k}'='{v}'](area.bound);\"\"\"\n",
    "    return osm_keys\n",
    "    \n",
    "def param_ways(keys):\n",
    "    '''converts the dict into a string, returns a str'''\n",
    "    osm_keys = ''\n",
    "    for k,val in keys.items():\n",
    "        for v in val:\n",
    "            osm_keys += f\"\"\"way['{k}'='{v}'](area.bound);\"\"\"\n",
    "    return osm_keys\n",
    "\n",
    "def param_areas(keys):\n",
    "    '''converts the dict into a string, returns a str'''\n",
    "    osm_keys = ''\n",
    "    for k,val in keys.items():\n",
    "        for v in val:\n",
    "            osm_keys += f\"\"\"area['{k}'='{v}'](area.bound);\"\"\"\n",
    "    return osm_keys\n",
    "\n",
    "\n",
    "def query_params_osm(keys, feat, limit=''):\n",
    "    '''Adding keys and values as a dictionary, example: keys_values_osm = {'amenity':['bbq','cafe']}\n",
    "    several values can added to a same key as a list, returns a dict\n",
    "    feat = nodes, ways or areas (geometry type)\n",
    "    limit = number (optional query limit)'''\n",
    "    \n",
    "    if feat == 'ways':\n",
    "        params = param_ways(keys)\n",
    "        out_type = 'geom'\n",
    "    if feat == 'areas':\n",
    "        params = param_areas(keys)\n",
    "        out_type = 'geom'\n",
    "    if feat == 'nodes':\n",
    "        params = param_nodes(keys)\n",
    "        out_type = 'center'\n",
    "        \n",
    "    overpass_query = f\"\"\"[out:json][timeout:25];{study_area};({params});\n",
    "                        out {limit} {out_type};\n",
    "                    \"\"\"\n",
    "    response = requests.get(overpass_url, \n",
    "                            params={'data': overpass_query})\n",
    "    return response.json(),"
   ]
  },
  {
   "cell_type": "code",
   "execution_count": null,
   "id": "75c57b4a",
   "metadata": {},
   "outputs": [],
   "source": [
    "keys_values_osm = {'amenity':['bbq']}\n"
   ]
  },
  {
   "cell_type": "code",
   "execution_count": null,
   "id": "53047de2",
   "metadata": {
    "scrolled": true
   },
   "outputs": [],
   "source": [
    "from geopy.geocoders import Nominatim\n",
    "import overpy\n",
    "\n",
    "city_name = \"berlin\"\n",
    "\n",
    "# Geocoding request via Nominatim\n",
    "geolocator = Nominatim(user_agent=\"city_compare\")\n",
    "geo_results = geolocator.geocode(city_name, exactly_one=False, limit=3)\n",
    "\n",
    "# Searching for relation in result set\n",
    "for r in geo_results:\n",
    "    print(r.address, r.raw.get(\"osm_type\"))\n",
    "    if r.raw.get(\"osm_type\") == \"relation\":\n",
    "        city = r\n",
    "        break\n",
    "\n",
    "# Calculating area id\n",
    "area_id = int(city.raw.get(\"osm_id\")) + 3600000000\n",
    "\n",
    "# Excecuting overpass call\n",
    "api = overpy.Overpass()\n",
    "result = api.query(f\"\"\"\n",
    "    area(%s)->.bound;\n",
    "    (\n",
    "      {param_nodes(keys_values_osm)}\n",
    "    );\n",
    "    out body;\n",
    "    \"\"\" % area_id)\n",
    "\n",
    "# Printing no. of pubs in nodes and ways\n",
    "print(\"Amenities in nodes: %d\" % len(result.nodes))\n",
    "print(\"Amenities in ways: %d\" % len(result.ways))\n",
    "print(\"Amenities in areas: %d\" % len(result.areas))"
   ]
  },
  {
   "cell_type": "code",
   "execution_count": null,
   "id": "fa78f7a7",
   "metadata": {},
   "outputs": [],
   "source": [
    "result.nodes"
   ]
  },
  {
   "cell_type": "code",
   "execution_count": null,
   "id": "3dfacc6a",
   "metadata": {},
   "outputs": [],
   "source": [
    "keys_values_osm"
   ]
  },
  {
   "cell_type": "code",
   "execution_count": null,
   "id": "4aa96ca5",
   "metadata": {},
   "outputs": [],
   "source": [
    "param_nodes(keys_values_osm)"
   ]
  },
  {
   "cell_type": "code",
   "execution_count": null,
   "id": "f3681741",
   "metadata": {
    "scrolled": true
   },
   "outputs": [],
   "source": [
    "data = query_params_osm(keys_values_osm, feat='nodes')"
   ]
  },
  {
   "cell_type": "code",
   "execution_count": null,
   "id": "82e19490",
   "metadata": {
    "scrolled": true
   },
   "outputs": [],
   "source": [
    "data"
   ]
  },
  {
   "cell_type": "code",
   "execution_count": null,
   "id": "3e4f0c14",
   "metadata": {},
   "outputs": [],
   "source": [
    "len(data['elements'])"
   ]
  },
  {
   "cell_type": "markdown",
   "id": "b56e6356",
   "metadata": {},
   "source": [
    "# Params for Mobility"
   ]
  },
  {
   "cell_type": "markdown",
   "id": "9e2b2f18",
   "metadata": {},
   "source": [
    "## Get dict for public transport"
   ]
  },
  {
   "cell_type": "markdown",
   "id": "27f87f83",
   "metadata": {},
   "source": [
    "nodes"
   ]
  },
  {
   "cell_type": "code",
   "execution_count": null,
   "id": "50828bcd",
   "metadata": {},
   "outputs": [],
   "source": [
    "public_transport = {'amenity':['bus_station'],\n",
    "                    'bus_bay':'',\n",
    "                   'highway':['bus_stop','platform'],\n",
    "                   'public_transport':['stop_position','platform','station','stop_area'],\n",
    "                   'railway':['station','tram_stop', 'subway_entrance']}\n",
    "\n",
    "bike_infraestructure =  {'amenity':['bicycle_parking', 'bicycle_repair_station', 'bicycle_rental']}"
   ]
  },
  {
   "cell_type": "code",
   "execution_count": null,
   "id": "b3a0e56c",
   "metadata": {},
   "outputs": [],
   "source": [
    "param_nodes(public_transport)"
   ]
  },
  {
   "cell_type": "code",
   "execution_count": null,
   "id": "964d604e",
   "metadata": {},
   "outputs": [],
   "source": [
    "query_publictransport = query_params_osm(public_transport, 'nodes')\n",
    "query_bikeinfraestructure = query_params_osm(bike_infraestructure, 'nodes')"
   ]
  },
  {
   "cell_type": "markdown",
   "id": "5d26632a",
   "metadata": {},
   "source": [
    "## Get dict for Cyclelanes and pedestrians"
   ]
  },
  {
   "cell_type": "markdown",
   "id": "7dfd9d5d",
   "metadata": {},
   "source": [
    "Ways queries"
   ]
  },
  {
   "cell_type": "code",
   "execution_count": null,
   "id": "21370d9f",
   "metadata": {},
   "outputs": [],
   "source": [
    "cycle_paths = {'bicycle':['designated']}\n",
    "# 'highway':['cycleway']"
   ]
  },
  {
   "cell_type": "code",
   "execution_count": null,
   "id": "bd62ca09",
   "metadata": {},
   "outputs": [],
   "source": [
    "param_ways(cycle_paths)"
   ]
  },
  {
   "cell_type": "code",
   "execution_count": null,
   "id": "e5b19287",
   "metadata": {},
   "outputs": [],
   "source": [
    "data_cycle = query_params_osm(cycle_paths, feat='ways')"
   ]
  },
  {
   "cell_type": "code",
   "execution_count": null,
   "id": "fb171268",
   "metadata": {},
   "outputs": [],
   "source": [
    "len(data_cycle['elements'])"
   ]
  },
  {
   "cell_type": "markdown",
   "id": "d1b7e3be",
   "metadata": {},
   "source": [
    "# Params for Social Life"
   ]
  },
  {
   "cell_type": "markdown",
   "id": "413984da",
   "metadata": {},
   "source": [
    "nodes"
   ]
  },
  {
   "cell_type": "code",
   "execution_count": null,
   "id": "390cacdc",
   "metadata": {},
   "outputs": [],
   "source": [
    "eating = {'amenity':['cafe','restaurant', 'food_court', 'ice_cream']}\n",
    "\n",
    "night_life = { 'amenity':['bar','pub','biergarten', 'nightclub', 'swingerclub', 'casino']}\n",
    "\n",
    "culture = {'amenity':['social_centre','theatre','public_bookcase',\n",
    "                      'fountain', 'events_venue', 'community_centre', 'cinema', \n",
    "                      'arts_centre', 'conference_centre']}\n",
    "\n",
    "community = {'office': ['association','charity', 'coworking', \n",
    "                        'educational_institution', 'employment_agency', 'foundation', \n",
    "                        'ngo', ; 'political_party', 'research']}"
   ]
  },
  {
   "cell_type": "markdown",
   "id": "0806c944",
   "metadata": {},
   "source": [
    "# Params for Activities\n"
   ]
  },
  {
   "cell_type": "markdown",
   "id": "27f44208",
   "metadata": {},
   "source": [
    "nodes"
   ]
  },
  {
   "cell_type": "code",
   "execution_count": null,
   "id": "797cc58c",
   "metadata": {},
   "outputs": [],
   "source": [
    "health_care = {'amenity':['baby_hatch','clinic','dentist',\n",
    "                      'doctors', 'hospital', 'nursing_home', 'pharmacy', \n",
    "                      'social_facility', 'veterinary']}\n",
    "\n",
    "public_service = {'amenity':['courthouse','fire_station','police',\n",
    "                      'post_box', 'post_office', 'townhall']}\n",
    "\n",
    "education = {'amenity':['college','kindergarten','language_school',\n",
    "                      'library', 'music_school', 'school', 'university']}\n",
    "\n",
    "economic = {'amenity':['atm', 'bank', 'bureau_de_change']}"
   ]
  },
  {
   "cell_type": "markdown",
   "id": "347ee568",
   "metadata": {},
   "source": [
    "#  Params for Comfort"
   ]
  },
  {
   "cell_type": "markdown",
   "id": "f0aeacd8",
   "metadata": {},
   "source": [
    "## Node Queries"
   ]
  },
  {
   "cell_type": "code",
   "execution_count": null,
   "id": "e1c573ed",
   "metadata": {},
   "outputs": [],
   "source": [
    "comfort_spots = {'amenity':['bbq','bench','dog_toilet',\n",
    "                      '\tdrinking_water', 'give_box', 'shelter', 'shower', \n",
    "                      'toilets', 'water_point', 'watering_place']}\n",
    "\n",
    "leisure_spots = {'leisure':['bandstand','bird_hide','dog_park',\n",
    "                      'firepit', 'swimming_pool', 'stadium', 'sports_centre', \n",
    "                      'pitch', 'picnic_table', 'fitness_centre'],\n",
    "                 'historic':''}\n",
    "\n",
    "trees = []\n"
   ]
  },
  {
   "cell_type": "markdown",
   "id": "adfa80a7",
   "metadata": {},
   "source": [
    "## Area querys"
   ]
  },
  {
   "cell_type": "code",
   "execution_count": null,
   "id": "e4d4025f",
   "metadata": {},
   "outputs": [],
   "source": [
    "leirsure_areas = {'leisure':['park','garden','swimming_area',\n",
    "                      'playground', 'nature_reserve', 'marina'],\n",
    "                 'landuse':['forest']}"
   ]
  },
  {
   "cell_type": "markdown",
   "id": "c7236451",
   "metadata": {},
   "source": [
    "# test of geometries query "
   ]
  },
  {
   "cell_type": "code",
   "execution_count": null,
   "id": "16503897",
   "metadata": {},
   "outputs": [],
   "source": [
    "test = {'amenity':['bbq']}"
   ]
  },
  {
   "cell_type": "code",
   "execution_count": null,
   "id": "8f3f4d5b",
   "metadata": {},
   "outputs": [],
   "source": [
    "leisure = query_params_osm(leirsure_areas, 'areas',10)"
   ]
  },
  {
   "cell_type": "code",
   "execution_count": null,
   "id": "0d69de7b",
   "metadata": {},
   "outputs": [],
   "source": [
    "len(leisure['elements'])"
   ]
  },
  {
   "cell_type": "code",
   "execution_count": null,
   "id": "40689c87",
   "metadata": {},
   "outputs": [],
   "source": [
    "leisure"
   ]
  },
  {
   "cell_type": "code",
   "execution_count": null,
   "id": "ae143e70",
   "metadata": {},
   "outputs": [],
   "source": [
    "import pandas as pd\n",
    "import numpy as np"
   ]
  },
  {
   "cell_type": "code",
   "execution_count": null,
   "id": "87b386f5",
   "metadata": {},
   "outputs": [],
   "source": [
    "def osm_json_to_DF(response):\n",
    "    response_elements = response['elements']\n",
    "    elements_tmp = []\n",
    "\n",
    "    for element in response_elements:\n",
    "        elements_tmp.append(element['geometry'])\n",
    "\n",
    "    return pd.DataFrame({'Coords':elements_tmp})"
   ]
  },
  {
   "cell_type": "code",
   "execution_count": null,
   "id": "38acd273",
   "metadata": {},
   "outputs": [],
   "source": [
    "df1 = osm_json_to_DF(leisure)"
   ]
  },
  {
   "cell_type": "code",
   "execution_count": null,
   "id": "2b3e34f0",
   "metadata": {},
   "outputs": [],
   "source": [
    "df1"
   ]
  },
  {
   "cell_type": "markdown",
   "id": "d5422a36",
   "metadata": {},
   "source": [
    "## converting to csv"
   ]
  },
  {
   "cell_type": "code",
   "execution_count": null,
   "id": "f57f76b8",
   "metadata": {},
   "outputs": [],
   "source": [
    "df1.to_csv('../livablestreets/data/areas_test.csv', index=False)"
   ]
  },
  {
   "cell_type": "markdown",
   "id": "bdf05710",
   "metadata": {},
   "source": [
    "# quering with a pattern DF"
   ]
  },
  {
   "cell_type": "code",
   "execution_count": 251,
   "id": "c200c2f7",
   "metadata": {},
   "outputs": [
    {
     "name": "stdout",
     "output_type": "stream",
     "text": [
      "The autoreload extension is already loaded. To reload it, use:\n",
      "  %reload_ext autoreload\n"
     ]
    }
   ],
   "source": [
    "%load_ext autoreload\n",
    "%autoreload 2\n",
    "\n",
    "import pandas as pd\n",
    "from livablestreets.osm_query import query_params_osm\n",
    "from livablestreets.query_names_detailed import master_query, master_query_complex, master_query_negative\n",
    "\n",
    "import time"
   ]
  },
  {
   "cell_type": "code",
   "execution_count": 256,
   "id": "7c9ccfff",
   "metadata": {},
   "outputs": [],
   "source": [
    "query_df = master_query_negative()"
   ]
  },
  {
   "cell_type": "code",
   "execution_count": 257,
   "id": "d05014ad",
   "metadata": {},
   "outputs": [
    {
     "data": {
      "text/html": [
       "<div>\n",
       "<style scoped>\n",
       "    .dataframe tbody tr th:only-of-type {\n",
       "        vertical-align: middle;\n",
       "    }\n",
       "\n",
       "    .dataframe tbody tr th {\n",
       "        vertical-align: top;\n",
       "    }\n",
       "\n",
       "    .dataframe thead th {\n",
       "        text-align: right;\n",
       "    }\n",
       "</style>\n",
       "<table border=\"1\" class=\"dataframe\">\n",
       "  <thead>\n",
       "    <tr style=\"text-align: right;\">\n",
       "      <th></th>\n",
       "      <th>query_string</th>\n",
       "      <th>name</th>\n",
       "      <th>distance</th>\n",
       "      <th>geomtype</th>\n",
       "      <th>jsontype</th>\n",
       "      <th>shapelytype</th>\n",
       "      <th>category</th>\n",
       "    </tr>\n",
       "  </thead>\n",
       "  <tbody>\n",
       "    <tr>\n",
       "      <th>street_motorway</th>\n",
       "      <td>{'highway': ['motorway']}</td>\n",
       "      <td>street_motorway</td>\n",
       "      <td>500</td>\n",
       "      <td>Way</td>\n",
       "      <td>Line</td>\n",
       "      <td>lineString</td>\n",
       "      <td>negative</td>\n",
       "    </tr>\n",
       "    <tr>\n",
       "      <th>street_primary</th>\n",
       "      <td>{'highway': ['primary']}</td>\n",
       "      <td>street_primary</td>\n",
       "      <td>250</td>\n",
       "      <td>Way</td>\n",
       "      <td>Line</td>\n",
       "      <td>lineString</td>\n",
       "      <td>negative</td>\n",
       "    </tr>\n",
       "    <tr>\n",
       "      <th>street_secondary</th>\n",
       "      <td>{'highway': ['secondary']}</td>\n",
       "      <td>street_secondary</td>\n",
       "      <td>100</td>\n",
       "      <td>Way</td>\n",
       "      <td>Line</td>\n",
       "      <td>lineString</td>\n",
       "      <td>negative</td>\n",
       "    </tr>\n",
       "    <tr>\n",
       "      <th>street_terteary</th>\n",
       "      <td>{'highway': ['terteary']}</td>\n",
       "      <td>street_terteary</td>\n",
       "      <td>50</td>\n",
       "      <td>Way</td>\n",
       "      <td>Line</td>\n",
       "      <td>lineString</td>\n",
       "      <td>negative</td>\n",
       "    </tr>\n",
       "    <tr>\n",
       "      <th>railway</th>\n",
       "      <td>{'railway': ['light_rail'], 'bridge': ['viaduc...</td>\n",
       "      <td>railway</td>\n",
       "      <td>50</td>\n",
       "      <td>Way</td>\n",
       "      <td>Line</td>\n",
       "      <td>lineString</td>\n",
       "      <td>negative</td>\n",
       "    </tr>\n",
       "  </tbody>\n",
       "</table>\n",
       "</div>"
      ],
      "text/plain": [
       "                                                       query_string  \\\n",
       "street_motorway                           {'highway': ['motorway']}   \n",
       "street_primary                             {'highway': ['primary']}   \n",
       "street_secondary                         {'highway': ['secondary']}   \n",
       "street_terteary                           {'highway': ['terteary']}   \n",
       "railway           {'railway': ['light_rail'], 'bridge': ['viaduc...   \n",
       "\n",
       "                              name  distance geomtype jsontype shapelytype  \\\n",
       "street_motorway    street_motorway       500      Way     Line  lineString   \n",
       "street_primary      street_primary       250      Way     Line  lineString   \n",
       "street_secondary  street_secondary       100      Way     Line  lineString   \n",
       "street_terteary    street_terteary        50      Way     Line  lineString   \n",
       "railway                    railway        50      Way     Line  lineString   \n",
       "\n",
       "                  category  \n",
       "street_motorway   negative  \n",
       "street_primary    negative  \n",
       "street_secondary  negative  \n",
       "street_terteary   negative  \n",
       "railway           negative  "
      ]
     },
     "execution_count": 257,
     "metadata": {},
     "output_type": "execute_result"
    }
   ],
   "source": [
    "query_df"
   ]
  },
  {
   "cell_type": "code",
   "execution_count": 254,
   "id": "edf6c8e0",
   "metadata": {
    "scrolled": true
   },
   "outputs": [
    {
     "data": {
      "text/html": [
       "<div>\n",
       "<style scoped>\n",
       "    .dataframe tbody tr th:only-of-type {\n",
       "        vertical-align: middle;\n",
       "    }\n",
       "\n",
       "    .dataframe tbody tr th {\n",
       "        vertical-align: top;\n",
       "    }\n",
       "\n",
       "    .dataframe thead th {\n",
       "        text-align: right;\n",
       "    }\n",
       "</style>\n",
       "<table border=\"1\" class=\"dataframe\">\n",
       "  <thead>\n",
       "    <tr style=\"text-align: right;\">\n",
       "      <th></th>\n",
       "      <th>query_string</th>\n",
       "      <th>name</th>\n",
       "      <th>distance</th>\n",
       "      <th>geomtype</th>\n",
       "      <th>jsontype</th>\n",
       "      <th>shapelytype</th>\n",
       "      <th>category</th>\n",
       "    </tr>\n",
       "  </thead>\n",
       "  <tbody>\n",
       "    <tr>\n",
       "      <th>street_secondary</th>\n",
       "      <td>{'highway': ['secondary']}</td>\n",
       "      <td>street_secondary</td>\n",
       "      <td>100</td>\n",
       "      <td>Way</td>\n",
       "      <td>Line</td>\n",
       "      <td>lineString</td>\n",
       "      <td>negative</td>\n",
       "    </tr>\n",
       "  </tbody>\n",
       "</table>\n",
       "</div>"
      ],
      "text/plain": [
       "                                query_string              name  distance  \\\n",
       "street_secondary  {'highway': ['secondary']}  street_secondary       100   \n",
       "\n",
       "                 geomtype jsontype shapelytype  category  \n",
       "street_secondary      Way     Line  lineString  negative  "
      ]
     },
     "execution_count": 254,
     "metadata": {},
     "output_type": "execute_result"
    }
   ],
   "source": [
    "query_df = query_df.iloc[2:3]\n",
    "query_df"
   ]
  },
  {
   "cell_type": "code",
   "execution_count": 255,
   "id": "27e1b69f",
   "metadata": {},
   "outputs": [
    {
     "ename": "KeyError",
     "evalue": "'geometry'",
     "output_type": "error",
     "traceback": [
      "\u001b[0;31m---------------------------------------------------------------------------\u001b[0m",
      "\u001b[0;31mKeyError\u001b[0m                                  Traceback (most recent call last)",
      "\u001b[0;32m~/.pyenv/versions/3.8.12/envs/lewagon/lib/python3.8/site-packages/pandas/core/indexes/base.py\u001b[0m in \u001b[0;36mget_loc\u001b[0;34m(self, key, method, tolerance)\u001b[0m\n\u001b[1;32m   3360\u001b[0m             \u001b[0;32mtry\u001b[0m\u001b[0;34m:\u001b[0m\u001b[0;34m\u001b[0m\u001b[0;34m\u001b[0m\u001b[0m\n\u001b[0;32m-> 3361\u001b[0;31m                 \u001b[0;32mreturn\u001b[0m \u001b[0mself\u001b[0m\u001b[0;34m.\u001b[0m\u001b[0m_engine\u001b[0m\u001b[0;34m.\u001b[0m\u001b[0mget_loc\u001b[0m\u001b[0;34m(\u001b[0m\u001b[0mcasted_key\u001b[0m\u001b[0;34m)\u001b[0m\u001b[0;34m\u001b[0m\u001b[0;34m\u001b[0m\u001b[0m\n\u001b[0m\u001b[1;32m   3362\u001b[0m             \u001b[0;32mexcept\u001b[0m \u001b[0mKeyError\u001b[0m \u001b[0;32mas\u001b[0m \u001b[0merr\u001b[0m\u001b[0;34m:\u001b[0m\u001b[0;34m\u001b[0m\u001b[0;34m\u001b[0m\u001b[0m\n",
      "\u001b[0;32m~/.pyenv/versions/3.8.12/envs/lewagon/lib/python3.8/site-packages/pandas/_libs/index.pyx\u001b[0m in \u001b[0;36mpandas._libs.index.IndexEngine.get_loc\u001b[0;34m()\u001b[0m\n",
      "\u001b[0;32m~/.pyenv/versions/3.8.12/envs/lewagon/lib/python3.8/site-packages/pandas/_libs/index.pyx\u001b[0m in \u001b[0;36mpandas._libs.index.IndexEngine.get_loc\u001b[0;34m()\u001b[0m\n",
      "\u001b[0;32mpandas/_libs/hashtable_class_helper.pxi\u001b[0m in \u001b[0;36mpandas._libs.hashtable.PyObjectHashTable.get_item\u001b[0;34m()\u001b[0m\n",
      "\u001b[0;32mpandas/_libs/hashtable_class_helper.pxi\u001b[0m in \u001b[0;36mpandas._libs.hashtable.PyObjectHashTable.get_item\u001b[0;34m()\u001b[0m\n",
      "\u001b[0;31mKeyError\u001b[0m: 'geometry'",
      "\nThe above exception was the direct cause of the following exception:\n",
      "\u001b[0;31mKeyError\u001b[0m                                  Traceback (most recent call last)",
      "\u001b[0;32m/tmp/ipykernel_15566/2376882501.py\u001b[0m in \u001b[0;36m<module>\u001b[0;34m\u001b[0m\n\u001b[0;32m----> 1\u001b[0;31m \u001b[0mne\u001b[0m \u001b[0;34m=\u001b[0m\u001b[0mdf\u001b[0m\u001b[0;34m[\u001b[0m\u001b[0mdf\u001b[0m\u001b[0;34m[\u001b[0m\u001b[0;34m'geometry'\u001b[0m\u001b[0;34m]\u001b[0m\u001b[0;34m.\u001b[0m\u001b[0mnotna\u001b[0m\u001b[0;34m(\u001b[0m\u001b[0;34m)\u001b[0m\u001b[0;34m]\u001b[0m\u001b[0;34m\u001b[0m\u001b[0;34m\u001b[0m\u001b[0m\n\u001b[0m",
      "\u001b[0;32m~/.pyenv/versions/3.8.12/envs/lewagon/lib/python3.8/site-packages/pandas/core/frame.py\u001b[0m in \u001b[0;36m__getitem__\u001b[0;34m(self, key)\u001b[0m\n\u001b[1;32m   3456\u001b[0m             \u001b[0;32mif\u001b[0m \u001b[0mself\u001b[0m\u001b[0;34m.\u001b[0m\u001b[0mcolumns\u001b[0m\u001b[0;34m.\u001b[0m\u001b[0mnlevels\u001b[0m \u001b[0;34m>\u001b[0m \u001b[0;36m1\u001b[0m\u001b[0;34m:\u001b[0m\u001b[0;34m\u001b[0m\u001b[0;34m\u001b[0m\u001b[0m\n\u001b[1;32m   3457\u001b[0m                 \u001b[0;32mreturn\u001b[0m \u001b[0mself\u001b[0m\u001b[0;34m.\u001b[0m\u001b[0m_getitem_multilevel\u001b[0m\u001b[0;34m(\u001b[0m\u001b[0mkey\u001b[0m\u001b[0;34m)\u001b[0m\u001b[0;34m\u001b[0m\u001b[0;34m\u001b[0m\u001b[0m\n\u001b[0;32m-> 3458\u001b[0;31m             \u001b[0mindexer\u001b[0m \u001b[0;34m=\u001b[0m \u001b[0mself\u001b[0m\u001b[0;34m.\u001b[0m\u001b[0mcolumns\u001b[0m\u001b[0;34m.\u001b[0m\u001b[0mget_loc\u001b[0m\u001b[0;34m(\u001b[0m\u001b[0mkey\u001b[0m\u001b[0;34m)\u001b[0m\u001b[0;34m\u001b[0m\u001b[0;34m\u001b[0m\u001b[0m\n\u001b[0m\u001b[1;32m   3459\u001b[0m             \u001b[0;32mif\u001b[0m \u001b[0mis_integer\u001b[0m\u001b[0;34m(\u001b[0m\u001b[0mindexer\u001b[0m\u001b[0;34m)\u001b[0m\u001b[0;34m:\u001b[0m\u001b[0;34m\u001b[0m\u001b[0;34m\u001b[0m\u001b[0m\n\u001b[1;32m   3460\u001b[0m                 \u001b[0mindexer\u001b[0m \u001b[0;34m=\u001b[0m \u001b[0;34m[\u001b[0m\u001b[0mindexer\u001b[0m\u001b[0;34m]\u001b[0m\u001b[0;34m\u001b[0m\u001b[0;34m\u001b[0m\u001b[0m\n",
      "\u001b[0;32m~/.pyenv/versions/3.8.12/envs/lewagon/lib/python3.8/site-packages/pandas/core/indexes/base.py\u001b[0m in \u001b[0;36mget_loc\u001b[0;34m(self, key, method, tolerance)\u001b[0m\n\u001b[1;32m   3361\u001b[0m                 \u001b[0;32mreturn\u001b[0m \u001b[0mself\u001b[0m\u001b[0;34m.\u001b[0m\u001b[0m_engine\u001b[0m\u001b[0;34m.\u001b[0m\u001b[0mget_loc\u001b[0m\u001b[0;34m(\u001b[0m\u001b[0mcasted_key\u001b[0m\u001b[0;34m)\u001b[0m\u001b[0;34m\u001b[0m\u001b[0;34m\u001b[0m\u001b[0m\n\u001b[1;32m   3362\u001b[0m             \u001b[0;32mexcept\u001b[0m \u001b[0mKeyError\u001b[0m \u001b[0;32mas\u001b[0m \u001b[0merr\u001b[0m\u001b[0;34m:\u001b[0m\u001b[0;34m\u001b[0m\u001b[0;34m\u001b[0m\u001b[0m\n\u001b[0;32m-> 3363\u001b[0;31m                 \u001b[0;32mraise\u001b[0m \u001b[0mKeyError\u001b[0m\u001b[0;34m(\u001b[0m\u001b[0mkey\u001b[0m\u001b[0;34m)\u001b[0m \u001b[0;32mfrom\u001b[0m \u001b[0merr\u001b[0m\u001b[0;34m\u001b[0m\u001b[0;34m\u001b[0m\u001b[0m\n\u001b[0m\u001b[1;32m   3364\u001b[0m \u001b[0;34m\u001b[0m\u001b[0m\n\u001b[1;32m   3365\u001b[0m         \u001b[0;32mif\u001b[0m \u001b[0mis_scalar\u001b[0m\u001b[0;34m(\u001b[0m\u001b[0mkey\u001b[0m\u001b[0;34m)\u001b[0m \u001b[0;32mand\u001b[0m \u001b[0misna\u001b[0m\u001b[0;34m(\u001b[0m\u001b[0mkey\u001b[0m\u001b[0;34m)\u001b[0m \u001b[0;32mand\u001b[0m \u001b[0;32mnot\u001b[0m \u001b[0mself\u001b[0m\u001b[0;34m.\u001b[0m\u001b[0mhasnans\u001b[0m\u001b[0;34m:\u001b[0m\u001b[0;34m\u001b[0m\u001b[0;34m\u001b[0m\u001b[0m\n",
      "\u001b[0;31mKeyError\u001b[0m: 'geometry'"
     ]
    }
   ],
   "source": [
    "ne =df[df['geometry'].notna()]"
   ]
  },
  {
   "cell_type": "code",
   "execution_count": 189,
   "id": "e4faa77f",
   "metadata": {},
   "outputs": [
    {
     "data": {
      "text/html": [
       "<div>\n",
       "<style scoped>\n",
       "    .dataframe tbody tr th:only-of-type {\n",
       "        vertical-align: middle;\n",
       "    }\n",
       "\n",
       "    .dataframe tbody tr th {\n",
       "        vertical-align: top;\n",
       "    }\n",
       "\n",
       "    .dataframe thead th {\n",
       "        text-align: right;\n",
       "    }\n",
       "</style>\n",
       "<table border=\"1\" class=\"dataframe\">\n",
       "  <thead>\n",
       "    <tr style=\"text-align: right;\">\n",
       "      <th></th>\n",
       "      <th>type</th>\n",
       "      <th>id</th>\n",
       "      <th>lat</th>\n",
       "      <th>lon</th>\n",
       "      <th>tags</th>\n",
       "      <th>bounds</th>\n",
       "      <th>nodes</th>\n",
       "      <th>geometry</th>\n",
       "    </tr>\n",
       "  </thead>\n",
       "  <tbody>\n",
       "    <tr>\n",
       "      <th>114</th>\n",
       "      <td>way</td>\n",
       "      <td>42465643</td>\n",
       "      <td>NaN</td>\n",
       "      <td>NaN</td>\n",
       "      <td>{'highway': 'footway', 'lit': 'yes', 'surface'...</td>\n",
       "      <td>{'minlat': 49.6927106, 'minlon': 6.5770306, 'm...</td>\n",
       "      <td>[530193230, 530193219, 530193221, 6379328970]</td>\n",
       "      <td>[{'lat': 49.693162, 'lon': 6.5771262}, {'lat':...</td>\n",
       "    </tr>\n",
       "    <tr>\n",
       "      <th>115</th>\n",
       "      <td>way</td>\n",
       "      <td>56132342</td>\n",
       "      <td>NaN</td>\n",
       "      <td>NaN</td>\n",
       "      <td>{'highway': 'footway'}</td>\n",
       "      <td>{'minlat': 43.6108665, 'minlon': 3.483429, 'ma...</td>\n",
       "      <td>[704411344, 7099941847, 7099941846, 7099941845...</td>\n",
       "      <td>[{'lat': 43.6108665, 'lon': 3.483429}, {'lat':...</td>\n",
       "    </tr>\n",
       "    <tr>\n",
       "      <th>116</th>\n",
       "      <td>way</td>\n",
       "      <td>197914145</td>\n",
       "      <td>NaN</td>\n",
       "      <td>NaN</td>\n",
       "      <td>{'highway': 'footway'}</td>\n",
       "      <td>{'minlat': 43.6059594, 'minlon': 3.4949988, 'm...</td>\n",
       "      <td>[705690069, 2081125961, 2081125973, 2081125975]</td>\n",
       "      <td>[{'lat': 43.6059594, 'lon': 3.4950204}, {'lat'...</td>\n",
       "    </tr>\n",
       "    <tr>\n",
       "      <th>117</th>\n",
       "      <td>way</td>\n",
       "      <td>198468259</td>\n",
       "      <td>NaN</td>\n",
       "      <td>NaN</td>\n",
       "      <td>{'bridge': 'yes', 'highway': 'footway', 'layer...</td>\n",
       "      <td>{'minlat': 43.6012006, 'minlon': 3.4833954, 'm...</td>\n",
       "      <td>[2085948036, 2085948031]</td>\n",
       "      <td>[{'lat': 43.6012077, 'lon': 3.4833954}, {'lat'...</td>\n",
       "    </tr>\n",
       "    <tr>\n",
       "      <th>118</th>\n",
       "      <td>way</td>\n",
       "      <td>205948986</td>\n",
       "      <td>NaN</td>\n",
       "      <td>NaN</td>\n",
       "      <td>{'highway': 'footway'}</td>\n",
       "      <td>{'minlat': 43.6011588, 'minlon': 3.4836402, 'm...</td>\n",
       "      <td>[2085948031, 2085948021, 2085948017, 208594801...</td>\n",
       "      <td>[{'lat': 43.6012006, 'lon': 3.4836402}, {'lat'...</td>\n",
       "    </tr>\n",
       "  </tbody>\n",
       "</table>\n",
       "</div>"
      ],
      "text/plain": [
       "    type         id  lat  lon  \\\n",
       "114  way   42465643  NaN  NaN   \n",
       "115  way   56132342  NaN  NaN   \n",
       "116  way  197914145  NaN  NaN   \n",
       "117  way  198468259  NaN  NaN   \n",
       "118  way  205948986  NaN  NaN   \n",
       "\n",
       "                                                  tags  \\\n",
       "114  {'highway': 'footway', 'lit': 'yes', 'surface'...   \n",
       "115                             {'highway': 'footway'}   \n",
       "116                             {'highway': 'footway'}   \n",
       "117  {'bridge': 'yes', 'highway': 'footway', 'layer...   \n",
       "118                             {'highway': 'footway'}   \n",
       "\n",
       "                                                bounds  \\\n",
       "114  {'minlat': 49.6927106, 'minlon': 6.5770306, 'm...   \n",
       "115  {'minlat': 43.6108665, 'minlon': 3.483429, 'ma...   \n",
       "116  {'minlat': 43.6059594, 'minlon': 3.4949988, 'm...   \n",
       "117  {'minlat': 43.6012006, 'minlon': 3.4833954, 'm...   \n",
       "118  {'minlat': 43.6011588, 'minlon': 3.4836402, 'm...   \n",
       "\n",
       "                                                 nodes  \\\n",
       "114      [530193230, 530193219, 530193221, 6379328970]   \n",
       "115  [704411344, 7099941847, 7099941846, 7099941845...   \n",
       "116    [705690069, 2081125961, 2081125973, 2081125975]   \n",
       "117                           [2085948036, 2085948031]   \n",
       "118  [2085948031, 2085948021, 2085948017, 208594801...   \n",
       "\n",
       "                                              geometry  \n",
       "114  [{'lat': 49.693162, 'lon': 6.5771262}, {'lat':...  \n",
       "115  [{'lat': 43.6108665, 'lon': 3.483429}, {'lat':...  \n",
       "116  [{'lat': 43.6059594, 'lon': 3.4950204}, {'lat'...  \n",
       "117  [{'lat': 43.6012077, 'lon': 3.4833954}, {'lat'...  \n",
       "118  [{'lat': 43.6012006, 'lon': 3.4836402}, {'lat'...  "
      ]
     },
     "execution_count": 189,
     "metadata": {},
     "output_type": "execute_result"
    }
   ],
   "source": [
    "ne.head()"
   ]
  },
  {
   "cell_type": "code",
   "execution_count": 190,
   "id": "ec970cc2",
   "metadata": {},
   "outputs": [],
   "source": [
    "xss = ne['geometry']\n",
    "flat_list = [x for xs in xss for x in xs]"
   ]
  },
  {
   "cell_type": "code",
   "execution_count": 191,
   "id": "7e6f6232",
   "metadata": {},
   "outputs": [
    {
     "data": {
      "text/plain": [
       "[{'lat': 49.693162, 'lon': 6.5771262},\n",
       " {'lat': 49.6930275, 'lon': 6.577048},\n",
       " {'lat': 49.6929167, 'lon': 6.5770306},\n",
       " {'lat': 49.6927106, 'lon': 6.5772754},\n",
       " {'lat': 43.6108665, 'lon': 3.483429},\n",
       " {'lat': 43.6109833, 'lon': 3.4834788},\n",
       " {'lat': 43.6109693, 'lon': 3.4835605},\n",
       " {'lat': 43.6110462, 'lon': 3.4835873},\n",
       " {'lat': 43.6110724, 'lon': 3.4835383},\n",
       " {'lat': 43.611113, 'lon': 3.4835434},\n",
       " {'lat': 43.6112593, 'lon': 3.4836153},\n",
       " {'lat': 43.6112652, 'lon': 3.4836826},\n",
       " {'lat': 43.6113943, 'lon': 3.4837362},\n",
       " {'lat': 43.6059594, 'lon': 3.4950204},\n",
       " {'lat': 43.6060568, 'lon': 3.4950201},\n",
       " {'lat': 43.6061772, 'lon': 3.4950175},\n",
       " {'lat': 43.6062606, 'lon': 3.4949988},\n",
       " {'lat': 43.6012077, 'lon': 3.4833954},\n",
       " {'lat': 43.6012006, 'lon': 3.4836402},\n",
       " {'lat': 43.6012006, 'lon': 3.4836402},\n",
       " {'lat': 43.6011839, 'lon': 3.4836868},\n",
       " {'lat': 43.6011683, 'lon': 3.4837191},\n",
       " {'lat': 43.6011647, 'lon': 3.4837895},\n",
       " {'lat': 43.6011588, 'lon': 3.483872},\n",
       " {'lat': 43.6012232, 'lon': 3.4838815},\n",
       " {'lat': 43.2291431, 'lon': 2.8474592},\n",
       " {'lat': 43.2291334, 'lon': 2.8475618},\n",
       " {'lat': 43.2290914, 'lon': 2.8477807},\n",
       " {'lat': 43.2282314, 'lon': 2.8478735},\n",
       " {'lat': 43.2282069, 'lon': 2.8481531},\n",
       " {'lat': 43.228178, 'lon': 2.8483928},\n",
       " {'lat': 43.2282069, 'lon': 2.8481531},\n",
       " {'lat': 43.2282376, 'lon': 2.848197},\n",
       " {'lat': 43.2283342, 'lon': 2.8483325},\n",
       " {'lat': 43.228647, 'lon': 2.8483264},\n",
       " {'lat': 43.6052748, 'lon': 3.4911211},\n",
       " {'lat': 43.6052036, 'lon': 3.491148},\n",
       " {'lat': 43.6051402, 'lon': 3.4912384},\n",
       " {'lat': 43.6049582, 'lon': 3.4916579},\n",
       " {'lat': 43.6049606, 'lon': 3.4917323},\n",
       " {'lat': 43.6050257, 'lon': 3.492176},\n",
       " {'lat': 43.6050302, 'lon': 3.4922285},\n",
       " {'lat': 43.6121792, 'lon': 3.4962577},\n",
       " {'lat': 43.6121065, 'lon': 3.4962748},\n",
       " {'lat': 43.6119996, 'lon': 3.4962887},\n",
       " {'lat': 49.6915021, 'lon': 6.5767687},\n",
       " {'lat': 49.6914102, 'lon': 6.5770825},\n",
       " {'lat': 49.691398, 'lon': 6.5771335},\n",
       " {'lat': 49.6913564, 'lon': 6.5771844},\n",
       " {'lat': 49.6911295, 'lon': 6.5777298},\n",
       " {'lat': 49.6906564, 'lon': 6.5804906},\n",
       " {'lat': 49.6905575, 'lon': 6.5805925},\n",
       " {'lat': 49.6904881, 'lon': 6.5807025},\n",
       " {'lat': 49.6903857, 'lon': 6.5807159},\n",
       " {'lat': 49.6902747, 'lon': 6.5806327},\n",
       " {'lat': 49.6901069, 'lon': 6.5804922},\n",
       " {'lat': 43.6089767, 'lon': 3.4821999},\n",
       " {'lat': 43.6090344, 'lon': 3.4824923},\n",
       " {'lat': 43.608987, 'lon': 3.4827481},\n",
       " {'lat': 43.6089198, 'lon': 3.4830207},\n",
       " {'lat': 43.6088786, 'lon': 3.4830964},\n",
       " {'lat': 43.6087892, 'lon': 3.483197},\n",
       " {'lat': 43.6087615, 'lon': 3.4831919},\n",
       " {'lat': 49.6937987, 'lon': 6.5797296},\n",
       " {'lat': 49.6935582, 'lon': 6.5795473},\n",
       " {'lat': 49.6934695, 'lon': 6.5795268},\n",
       " {'lat': 43.601551, 'lon': 3.4910388},\n",
       " {'lat': 43.6016027, 'lon': 3.4911999},\n",
       " {'lat': 43.6063238, 'lon': 3.4894846},\n",
       " {'lat': 43.6062068, 'lon': 3.4898268},\n",
       " {'lat': 49.6903491, 'lon': 6.5767322},\n",
       " {'lat': 49.6903686, 'lon': 6.5767836},\n",
       " {'lat': 49.6926846, 'lon': 6.5780358},\n",
       " {'lat': 49.6926361, 'lon': 6.578083},\n",
       " {'lat': 49.6930854, 'lon': 6.577663},\n",
       " {'lat': 49.6929754, 'lon': 6.5777495},\n",
       " {'lat': 49.6930854, 'lon': 6.5775704},\n",
       " {'lat': 49.6929175, 'lon': 6.577595},\n",
       " {'lat': 49.6931336, 'lon': 6.5778825},\n",
       " {'lat': 49.6930611, 'lon': 6.5779674},\n",
       " {'lat': 49.6927974, 'lon': 6.5782316},\n",
       " {'lat': 49.69272, 'lon': 6.5783214},\n",
       " {'lat': 49.6915247, 'lon': 6.5767135},\n",
       " {'lat': 49.6915021, 'lon': 6.5767687},\n",
       " {'lat': 49.6924686, 'lon': 6.5776321},\n",
       " {'lat': 49.6924344, 'lon': 6.5776864},\n",
       " {'lat': 49.6926724, 'lon': 6.5773237},\n",
       " {'lat': 49.6926559, 'lon': 6.5773442},\n",
       " {'lat': 49.6925857, 'lon': 6.5774564},\n",
       " {'lat': 43.6108344, 'lon': 3.4829039},\n",
       " {'lat': 43.6109087, 'lon': 3.4828645},\n",
       " {'lat': 43.6109292, 'lon': 3.4828846},\n",
       " {'lat': 43.6110001, 'lon': 3.4828129},\n",
       " {'lat': 43.611011, 'lon': 3.4828119},\n",
       " {'lat': 43.6110166, 'lon': 3.4828337},\n",
       " {'lat': 43.6110293, 'lon': 3.4830683},\n",
       " {'lat': 43.6110419, 'lon': 3.4830737},\n",
       " {'lat': 43.6111458, 'lon': 3.4828377},\n",
       " {'lat': 43.6112268, 'lon': 3.4829088},\n",
       " {'lat': 43.6112439, 'lon': 3.4828846},\n",
       " {'lat': 43.6112613, 'lon': 3.4828363},\n",
       " {'lat': 43.6112656, 'lon': 3.4828001},\n",
       " {'lat': 43.6112633, 'lon': 3.4827478},\n",
       " {'lat': 43.6041856, 'lon': 3.4909963},\n",
       " {'lat': 43.6041696, 'lon': 3.4910345},\n",
       " {'lat': 43.604155, 'lon': 3.4910694},\n",
       " {'lat': 43.6041376, 'lon': 3.4910922},\n",
       " {'lat': 43.6040913, 'lon': 3.4911289},\n",
       " {'lat': 43.6114337, 'lon': 3.4835793},\n",
       " {'lat': 43.6113943, 'lon': 3.4837362},\n",
       " {'lat': 43.6113783, 'lon': 3.4838153},\n",
       " {'lat': 43.6115171, 'lon': 3.4838753},\n",
       " {'lat': 43.6117274, 'lon': 3.4839662},\n",
       " {'lat': 43.6120167, 'lon': 3.4840936},\n",
       " {'lat': 43.6120682, 'lon': 3.483863},\n",
       " {'lat': 43.6114337, 'lon': 3.4835793},\n",
       " {'lat': 43.6025326, 'lon': 3.4910262},\n",
       " {'lat': 43.6025158, 'lon': 3.4910454},\n",
       " {'lat': 43.6112656, 'lon': 3.4828001},\n",
       " {'lat': 43.6114186, 'lon': 3.4828109}]"
      ]
     },
     "execution_count": 191,
     "metadata": {},
     "output_type": "execute_result"
    }
   ],
   "source": [
    "flat_list"
   ]
  },
  {
   "cell_type": "code",
   "execution_count": 192,
   "id": "8ca7bc39",
   "metadata": {},
   "outputs": [],
   "source": [
    "df_new_querie = pd.DataFrame(flat_list)[['lat', 'lon']]\n",
    "df_new_querie['coor'] = list(zip(df_new_querie.lat, df_new_querie.lon))"
   ]
  },
  {
   "cell_type": "code",
   "execution_count": 193,
   "id": "945f4688",
   "metadata": {},
   "outputs": [
    {
     "data": {
      "text/html": [
       "<div>\n",
       "<style scoped>\n",
       "    .dataframe tbody tr th:only-of-type {\n",
       "        vertical-align: middle;\n",
       "    }\n",
       "\n",
       "    .dataframe tbody tr th {\n",
       "        vertical-align: top;\n",
       "    }\n",
       "\n",
       "    .dataframe thead th {\n",
       "        text-align: right;\n",
       "    }\n",
       "</style>\n",
       "<table border=\"1\" class=\"dataframe\">\n",
       "  <thead>\n",
       "    <tr style=\"text-align: right;\">\n",
       "      <th></th>\n",
       "      <th>lat</th>\n",
       "      <th>lon</th>\n",
       "      <th>coor</th>\n",
       "    </tr>\n",
       "  </thead>\n",
       "  <tbody>\n",
       "    <tr>\n",
       "      <th>0</th>\n",
       "      <td>49.693162</td>\n",
       "      <td>6.577126</td>\n",
       "      <td>(49.693162, 6.5771262)</td>\n",
       "    </tr>\n",
       "    <tr>\n",
       "      <th>1</th>\n",
       "      <td>49.693027</td>\n",
       "      <td>6.577048</td>\n",
       "      <td>(49.6930275, 6.577048)</td>\n",
       "    </tr>\n",
       "    <tr>\n",
       "      <th>2</th>\n",
       "      <td>49.692917</td>\n",
       "      <td>6.577031</td>\n",
       "      <td>(49.6929167, 6.5770306)</td>\n",
       "    </tr>\n",
       "    <tr>\n",
       "      <th>3</th>\n",
       "      <td>49.692711</td>\n",
       "      <td>6.577275</td>\n",
       "      <td>(49.6927106, 6.5772754)</td>\n",
       "    </tr>\n",
       "    <tr>\n",
       "      <th>4</th>\n",
       "      <td>43.610867</td>\n",
       "      <td>3.483429</td>\n",
       "      <td>(43.6108665, 3.483429)</td>\n",
       "    </tr>\n",
       "    <tr>\n",
       "      <th>...</th>\n",
       "      <td>...</td>\n",
       "      <td>...</td>\n",
       "      <td>...</td>\n",
       "    </tr>\n",
       "    <tr>\n",
       "      <th>115</th>\n",
       "      <td>43.611434</td>\n",
       "      <td>3.483579</td>\n",
       "      <td>(43.6114337, 3.4835793)</td>\n",
       "    </tr>\n",
       "    <tr>\n",
       "      <th>116</th>\n",
       "      <td>43.602533</td>\n",
       "      <td>3.491026</td>\n",
       "      <td>(43.6025326, 3.4910262)</td>\n",
       "    </tr>\n",
       "    <tr>\n",
       "      <th>117</th>\n",
       "      <td>43.602516</td>\n",
       "      <td>3.491045</td>\n",
       "      <td>(43.6025158, 3.4910454)</td>\n",
       "    </tr>\n",
       "    <tr>\n",
       "      <th>118</th>\n",
       "      <td>43.611266</td>\n",
       "      <td>3.482800</td>\n",
       "      <td>(43.6112656, 3.4828001)</td>\n",
       "    </tr>\n",
       "    <tr>\n",
       "      <th>119</th>\n",
       "      <td>43.611419</td>\n",
       "      <td>3.482811</td>\n",
       "      <td>(43.6114186, 3.4828109)</td>\n",
       "    </tr>\n",
       "  </tbody>\n",
       "</table>\n",
       "<p>120 rows × 3 columns</p>\n",
       "</div>"
      ],
      "text/plain": [
       "           lat       lon                     coor\n",
       "0    49.693162  6.577126   (49.693162, 6.5771262)\n",
       "1    49.693027  6.577048   (49.6930275, 6.577048)\n",
       "2    49.692917  6.577031  (49.6929167, 6.5770306)\n",
       "3    49.692711  6.577275  (49.6927106, 6.5772754)\n",
       "4    43.610867  3.483429   (43.6108665, 3.483429)\n",
       "..         ...       ...                      ...\n",
       "115  43.611434  3.483579  (43.6114337, 3.4835793)\n",
       "116  43.602533  3.491026  (43.6025326, 3.4910262)\n",
       "117  43.602516  3.491045  (43.6025158, 3.4910454)\n",
       "118  43.611266  3.482800  (43.6112656, 3.4828001)\n",
       "119  43.611419  3.482811  (43.6114186, 3.4828109)\n",
       "\n",
       "[120 rows x 3 columns]"
      ]
     },
     "execution_count": 193,
     "metadata": {},
     "output_type": "execute_result"
    }
   ],
   "source": [
    "df_new_querie"
   ]
  },
  {
   "cell_type": "code",
   "execution_count": 264,
   "id": "dc937e30",
   "metadata": {},
   "outputs": [],
   "source": [
    "def get_csv(city):\n",
    "    \n",
    "    #query_df = df.iloc[2:]\n",
    "    for index, row in query_df.iterrows():\n",
    "        filter_name = index\n",
    "        string = row['query_string']\n",
    "        category = row['category']\n",
    "        geomtype = row['geomtype']\n",
    "#         cwd = os.getcwd()\n",
    "        \n",
    "#         if not os.path.exists(f'{cwd}/data/{city.lower()}/Features/{category}_{filter_name}.csv'):\n",
    "\n",
    "        if geomtype != 'Node':\n",
    "            print(f'getting {filter_name} as ways')\n",
    "            new_querie = query_params_osm(location = city.capitalize(), keys = string, features = 'ways')\n",
    "#             print(new_querie['elements'])\n",
    "            \n",
    "            if new_querie['elements']:\n",
    "                df_new_querie = pd.DataFrame(new_querie['elements'])\n",
    "                print(f'------------------------------------------------------------>')\n",
    "\n",
    "                ne = df_new_querie[df_new_querie['geometry'].notna()]\n",
    "                xss = ne['geometry']\n",
    "                flat_list = [x for xs in xss for x in xs]\n",
    "                df_new_querie = pd.DataFrame(flat_list)[['lat', 'lon']]\n",
    "                df_new_querie['coor'] = list(zip(df_new_querie.lat, df_new_querie.lon))\n",
    "                print(f'waiting time 60seconds')\n",
    "                time.sleep(3)\n",
    "\n",
    "\n",
    "        if geomtype == 'Node':\n",
    "            print(f'getting {filter_name} as nodes')\n",
    "            new_querie = query_params_osm(location = city.capitalize(), keys = string, features = 'nodes')\n",
    "            if new_querie['elements']:\n",
    "                print(f'------------------------> {new_querie}')\n",
    "\n",
    "                df_new_querie = pd.DataFrame(new_querie['elements'])[['lat', 'lon']]\n",
    "                df_new_querie['coor'] = list(zip(df_new_querie.lat, df_new_querie.lon))\n",
    "            \n",
    "        print(df_new_querie.head(2))\n",
    "\n",
    "#         \n",
    "#         df_new_querie.to_csv(f'{cwd}/data/{city.lower()}/Features/{category}_{filter_name}.csv', index=False)"
   ]
  },
  {
   "cell_type": "code",
   "execution_count": 265,
   "id": "351671cb",
   "metadata": {
    "scrolled": true
   },
   "outputs": [
    {
     "data": {
      "text/html": [
       "<div>\n",
       "<style scoped>\n",
       "    .dataframe tbody tr th:only-of-type {\n",
       "        vertical-align: middle;\n",
       "    }\n",
       "\n",
       "    .dataframe tbody tr th {\n",
       "        vertical-align: top;\n",
       "    }\n",
       "\n",
       "    .dataframe thead th {\n",
       "        text-align: right;\n",
       "    }\n",
       "</style>\n",
       "<table border=\"1\" class=\"dataframe\">\n",
       "  <thead>\n",
       "    <tr style=\"text-align: right;\">\n",
       "      <th></th>\n",
       "      <th>query_string</th>\n",
       "      <th>name</th>\n",
       "      <th>distance</th>\n",
       "      <th>geomtype</th>\n",
       "      <th>jsontype</th>\n",
       "      <th>shapelytype</th>\n",
       "      <th>category</th>\n",
       "    </tr>\n",
       "  </thead>\n",
       "  <tbody>\n",
       "    <tr>\n",
       "      <th>street_motorway</th>\n",
       "      <td>{'highway': ['motorway']}</td>\n",
       "      <td>street_motorway</td>\n",
       "      <td>500</td>\n",
       "      <td>Way</td>\n",
       "      <td>Line</td>\n",
       "      <td>lineString</td>\n",
       "      <td>negative</td>\n",
       "    </tr>\n",
       "    <tr>\n",
       "      <th>street_primary</th>\n",
       "      <td>{'highway': ['primary']}</td>\n",
       "      <td>street_primary</td>\n",
       "      <td>250</td>\n",
       "      <td>Way</td>\n",
       "      <td>Line</td>\n",
       "      <td>lineString</td>\n",
       "      <td>negative</td>\n",
       "    </tr>\n",
       "    <tr>\n",
       "      <th>street_secondary</th>\n",
       "      <td>{'highway': ['secondary']}</td>\n",
       "      <td>street_secondary</td>\n",
       "      <td>100</td>\n",
       "      <td>Way</td>\n",
       "      <td>Line</td>\n",
       "      <td>lineString</td>\n",
       "      <td>negative</td>\n",
       "    </tr>\n",
       "    <tr>\n",
       "      <th>street_terteary</th>\n",
       "      <td>{'highway': ['terteary']}</td>\n",
       "      <td>street_terteary</td>\n",
       "      <td>50</td>\n",
       "      <td>Way</td>\n",
       "      <td>Line</td>\n",
       "      <td>lineString</td>\n",
       "      <td>negative</td>\n",
       "    </tr>\n",
       "    <tr>\n",
       "      <th>railway</th>\n",
       "      <td>{'railway': ['light_rail'], 'bridge': ['viaduc...</td>\n",
       "      <td>railway</td>\n",
       "      <td>50</td>\n",
       "      <td>Way</td>\n",
       "      <td>Line</td>\n",
       "      <td>lineString</td>\n",
       "      <td>negative</td>\n",
       "    </tr>\n",
       "  </tbody>\n",
       "</table>\n",
       "</div>"
      ],
      "text/plain": [
       "                                                       query_string  \\\n",
       "street_motorway                           {'highway': ['motorway']}   \n",
       "street_primary                             {'highway': ['primary']}   \n",
       "street_secondary                         {'highway': ['secondary']}   \n",
       "street_terteary                           {'highway': ['terteary']}   \n",
       "railway           {'railway': ['light_rail'], 'bridge': ['viaduc...   \n",
       "\n",
       "                              name  distance geomtype jsontype shapelytype  \\\n",
       "street_motorway    street_motorway       500      Way     Line  lineString   \n",
       "street_primary      street_primary       250      Way     Line  lineString   \n",
       "street_secondary  street_secondary       100      Way     Line  lineString   \n",
       "street_terteary    street_terteary        50      Way     Line  lineString   \n",
       "railway                    railway        50      Way     Line  lineString   \n",
       "\n",
       "                  category  \n",
       "street_motorway   negative  \n",
       "street_primary    negative  \n",
       "street_secondary  negative  \n",
       "street_terteary   negative  \n",
       "railway           negative  "
      ]
     },
     "execution_count": 265,
     "metadata": {},
     "output_type": "execute_result"
    }
   ],
   "source": [
    "query_df"
   ]
  },
  {
   "cell_type": "code",
   "execution_count": 266,
   "id": "1076ed90",
   "metadata": {
    "scrolled": true
   },
   "outputs": [
    {
     "name": "stdout",
     "output_type": "stream",
     "text": [
      "getting street_motorway as ways\n",
      "------------------------------------------------------------>\n",
      "waiting time 60seconds\n",
      "         lat       lon                     coor\n",
      "0  43.585179  3.465471  (43.5851792, 3.4654706)\n",
      "1  43.586440  3.465352  (43.5864398, 3.4653522)\n",
      "getting street_primary as ways\n",
      "------------------------------------------------------------>\n",
      "waiting time 60seconds\n",
      "         lat       lon                     coor\n",
      "0  43.597101  3.493232   (43.597101, 3.4932322)\n",
      "1  43.598088  3.492721  (43.5980877, 3.4927211)\n",
      "getting street_secondary as ways\n"
     ]
    },
    {
     "ename": "JSONDecodeError",
     "evalue": "[Errno Expecting value] <?xml version=\"1.0\" encoding=\"UTF-8\"?>\n<!DOCTYPE html PUBLIC \"-//W3C//DTD XHTML 1.0 Strict//EN\"\n    \"http://www.w3.org/TR/xhtml1/DTD/xhtml1-strict.dtd\">\n<html xmlns=\"http://www.w3.org/1999/xhtml\" xml:lang=\"en\" lang=\"en\">\n<head>\n  <meta http-equiv=\"content-type\" content=\"text/html; charset=utf-8\" lang=\"en\"/>\n  <title>OSM3S Response</title>\n</head>\n<body>\n\n<p>The data included in this document is from www.openstreetmap.org. The data is made available under ODbL.</p>\n<p><strong style=\"color:#FF0000\">Error</strong>: runtime error: open64: 0 Success /osm3s_v0.7.58_osm_base Dispatcher_Client::request_read_and_idx::timeout. The server is probably too busy to handle your request. </p>\n\n</body>\n</html>\n: 0",
     "output_type": "error",
     "traceback": [
      "\u001b[0;31m---------------------------------------------------------------------------\u001b[0m",
      "\u001b[0;31mJSONDecodeError\u001b[0m                           Traceback (most recent call last)",
      "\u001b[0;32m~/.pyenv/versions/3.8.12/envs/lewagon/lib/python3.8/site-packages/requests/models.py\u001b[0m in \u001b[0;36mjson\u001b[0;34m(self, **kwargs)\u001b[0m\n\u001b[1;32m    909\u001b[0m         \u001b[0;32mtry\u001b[0m\u001b[0;34m:\u001b[0m\u001b[0;34m\u001b[0m\u001b[0;34m\u001b[0m\u001b[0m\n\u001b[0;32m--> 910\u001b[0;31m             \u001b[0;32mreturn\u001b[0m \u001b[0mcomplexjson\u001b[0m\u001b[0;34m.\u001b[0m\u001b[0mloads\u001b[0m\u001b[0;34m(\u001b[0m\u001b[0mself\u001b[0m\u001b[0;34m.\u001b[0m\u001b[0mtext\u001b[0m\u001b[0;34m,\u001b[0m \u001b[0;34m**\u001b[0m\u001b[0mkwargs\u001b[0m\u001b[0;34m)\u001b[0m\u001b[0;34m\u001b[0m\u001b[0;34m\u001b[0m\u001b[0m\n\u001b[0m\u001b[1;32m    911\u001b[0m         \u001b[0;32mexcept\u001b[0m \u001b[0mJSONDecodeError\u001b[0m \u001b[0;32mas\u001b[0m \u001b[0me\u001b[0m\u001b[0;34m:\u001b[0m\u001b[0;34m\u001b[0m\u001b[0;34m\u001b[0m\u001b[0m\n",
      "\u001b[0;32m~/.pyenv/versions/3.8.12/lib/python3.8/json/__init__.py\u001b[0m in \u001b[0;36mloads\u001b[0;34m(s, cls, object_hook, parse_float, parse_int, parse_constant, object_pairs_hook, **kw)\u001b[0m\n\u001b[1;32m    356\u001b[0m             parse_constant is None and object_pairs_hook is None and not kw):\n\u001b[0;32m--> 357\u001b[0;31m         \u001b[0;32mreturn\u001b[0m \u001b[0m_default_decoder\u001b[0m\u001b[0;34m.\u001b[0m\u001b[0mdecode\u001b[0m\u001b[0;34m(\u001b[0m\u001b[0ms\u001b[0m\u001b[0;34m)\u001b[0m\u001b[0;34m\u001b[0m\u001b[0;34m\u001b[0m\u001b[0m\n\u001b[0m\u001b[1;32m    358\u001b[0m     \u001b[0;32mif\u001b[0m \u001b[0mcls\u001b[0m \u001b[0;32mis\u001b[0m \u001b[0;32mNone\u001b[0m\u001b[0;34m:\u001b[0m\u001b[0;34m\u001b[0m\u001b[0;34m\u001b[0m\u001b[0m\n",
      "\u001b[0;32m~/.pyenv/versions/3.8.12/lib/python3.8/json/decoder.py\u001b[0m in \u001b[0;36mdecode\u001b[0;34m(self, s, _w)\u001b[0m\n\u001b[1;32m    336\u001b[0m         \"\"\"\n\u001b[0;32m--> 337\u001b[0;31m         \u001b[0mobj\u001b[0m\u001b[0;34m,\u001b[0m \u001b[0mend\u001b[0m \u001b[0;34m=\u001b[0m \u001b[0mself\u001b[0m\u001b[0;34m.\u001b[0m\u001b[0mraw_decode\u001b[0m\u001b[0;34m(\u001b[0m\u001b[0ms\u001b[0m\u001b[0;34m,\u001b[0m \u001b[0midx\u001b[0m\u001b[0;34m=\u001b[0m\u001b[0m_w\u001b[0m\u001b[0;34m(\u001b[0m\u001b[0ms\u001b[0m\u001b[0;34m,\u001b[0m \u001b[0;36m0\u001b[0m\u001b[0;34m)\u001b[0m\u001b[0;34m.\u001b[0m\u001b[0mend\u001b[0m\u001b[0;34m(\u001b[0m\u001b[0;34m)\u001b[0m\u001b[0;34m)\u001b[0m\u001b[0;34m\u001b[0m\u001b[0;34m\u001b[0m\u001b[0m\n\u001b[0m\u001b[1;32m    338\u001b[0m         \u001b[0mend\u001b[0m \u001b[0;34m=\u001b[0m \u001b[0m_w\u001b[0m\u001b[0;34m(\u001b[0m\u001b[0ms\u001b[0m\u001b[0;34m,\u001b[0m \u001b[0mend\u001b[0m\u001b[0;34m)\u001b[0m\u001b[0;34m.\u001b[0m\u001b[0mend\u001b[0m\u001b[0;34m(\u001b[0m\u001b[0;34m)\u001b[0m\u001b[0;34m\u001b[0m\u001b[0;34m\u001b[0m\u001b[0m\n",
      "\u001b[0;32m~/.pyenv/versions/3.8.12/lib/python3.8/json/decoder.py\u001b[0m in \u001b[0;36mraw_decode\u001b[0;34m(self, s, idx)\u001b[0m\n\u001b[1;32m    354\u001b[0m         \u001b[0;32mexcept\u001b[0m \u001b[0mStopIteration\u001b[0m \u001b[0;32mas\u001b[0m \u001b[0merr\u001b[0m\u001b[0;34m:\u001b[0m\u001b[0;34m\u001b[0m\u001b[0;34m\u001b[0m\u001b[0m\n\u001b[0;32m--> 355\u001b[0;31m             \u001b[0;32mraise\u001b[0m \u001b[0mJSONDecodeError\u001b[0m\u001b[0;34m(\u001b[0m\u001b[0;34m\"Expecting value\"\u001b[0m\u001b[0;34m,\u001b[0m \u001b[0ms\u001b[0m\u001b[0;34m,\u001b[0m \u001b[0merr\u001b[0m\u001b[0;34m.\u001b[0m\u001b[0mvalue\u001b[0m\u001b[0;34m)\u001b[0m \u001b[0;32mfrom\u001b[0m \u001b[0;32mNone\u001b[0m\u001b[0;34m\u001b[0m\u001b[0;34m\u001b[0m\u001b[0m\n\u001b[0m\u001b[1;32m    356\u001b[0m         \u001b[0;32mreturn\u001b[0m \u001b[0mobj\u001b[0m\u001b[0;34m,\u001b[0m \u001b[0mend\u001b[0m\u001b[0;34m\u001b[0m\u001b[0;34m\u001b[0m\u001b[0m\n",
      "\u001b[0;31mJSONDecodeError\u001b[0m: Expecting value: line 1 column 1 (char 0)",
      "\nDuring handling of the above exception, another exception occurred:\n",
      "\u001b[0;31mJSONDecodeError\u001b[0m                           Traceback (most recent call last)",
      "\u001b[0;32m/tmp/ipykernel_15566/1484557531.py\u001b[0m in \u001b[0;36m<module>\u001b[0;34m\u001b[0m\n\u001b[0;32m----> 1\u001b[0;31m \u001b[0mget_csv\u001b[0m\u001b[0;34m(\u001b[0m\u001b[0;34m'Canet'\u001b[0m\u001b[0;34m)\u001b[0m\u001b[0;34m\u001b[0m\u001b[0;34m\u001b[0m\u001b[0m\n\u001b[0m",
      "\u001b[0;32m/tmp/ipykernel_15566/2744980779.py\u001b[0m in \u001b[0;36mget_csv\u001b[0;34m(city)\u001b[0m\n\u001b[1;32m     13\u001b[0m         \u001b[0;32mif\u001b[0m \u001b[0mgeomtype\u001b[0m \u001b[0;34m!=\u001b[0m \u001b[0;34m'Node'\u001b[0m\u001b[0;34m:\u001b[0m\u001b[0;34m\u001b[0m\u001b[0;34m\u001b[0m\u001b[0m\n\u001b[1;32m     14\u001b[0m             \u001b[0mprint\u001b[0m\u001b[0;34m(\u001b[0m\u001b[0;34mf'getting {filter_name} as ways'\u001b[0m\u001b[0;34m)\u001b[0m\u001b[0;34m\u001b[0m\u001b[0;34m\u001b[0m\u001b[0m\n\u001b[0;32m---> 15\u001b[0;31m             \u001b[0mnew_querie\u001b[0m \u001b[0;34m=\u001b[0m \u001b[0mquery_params_osm\u001b[0m\u001b[0;34m(\u001b[0m\u001b[0mlocation\u001b[0m \u001b[0;34m=\u001b[0m \u001b[0mcity\u001b[0m\u001b[0;34m.\u001b[0m\u001b[0mcapitalize\u001b[0m\u001b[0;34m(\u001b[0m\u001b[0;34m)\u001b[0m\u001b[0;34m,\u001b[0m \u001b[0mkeys\u001b[0m \u001b[0;34m=\u001b[0m \u001b[0mstring\u001b[0m\u001b[0;34m,\u001b[0m \u001b[0mfeatures\u001b[0m \u001b[0;34m=\u001b[0m \u001b[0;34m'ways'\u001b[0m\u001b[0;34m)\u001b[0m\u001b[0;34m\u001b[0m\u001b[0;34m\u001b[0m\u001b[0m\n\u001b[0m\u001b[1;32m     16\u001b[0m \u001b[0;31m#             print(new_querie['elements'])\u001b[0m\u001b[0;34m\u001b[0m\u001b[0;34m\u001b[0m\u001b[0;34m\u001b[0m\u001b[0m\n\u001b[1;32m     17\u001b[0m \u001b[0;34m\u001b[0m\u001b[0m\n",
      "\u001b[0;32m~/code/Laiagdla/livablestreets/livablestreets/osm_query.py\u001b[0m in \u001b[0;36mquery_params_osm\u001b[0;34m(location, keys, features, limit)\u001b[0m\n\u001b[1;32m     88\u001b[0m     response = requests.get(overpass_url,\n\u001b[1;32m     89\u001b[0m                             params={'data': overpass_query})\n\u001b[0;32m---> 90\u001b[0;31m     \u001b[0;32mreturn\u001b[0m \u001b[0mresponse\u001b[0m\u001b[0;34m.\u001b[0m\u001b[0mjson\u001b[0m\u001b[0;34m(\u001b[0m\u001b[0;34m)\u001b[0m\u001b[0;34m\u001b[0m\u001b[0;34m\u001b[0m\u001b[0m\n\u001b[0m",
      "\u001b[0;32m~/.pyenv/versions/3.8.12/envs/lewagon/lib/python3.8/site-packages/requests/models.py\u001b[0m in \u001b[0;36mjson\u001b[0;34m(self, **kwargs)\u001b[0m\n\u001b[1;32m    915\u001b[0m                 \u001b[0;32mraise\u001b[0m \u001b[0mRequestsJSONDecodeError\u001b[0m\u001b[0;34m(\u001b[0m\u001b[0me\u001b[0m\u001b[0;34m.\u001b[0m\u001b[0mmessage\u001b[0m\u001b[0;34m)\u001b[0m\u001b[0;34m\u001b[0m\u001b[0;34m\u001b[0m\u001b[0m\n\u001b[1;32m    916\u001b[0m             \u001b[0;32melse\u001b[0m\u001b[0;34m:\u001b[0m\u001b[0;34m\u001b[0m\u001b[0;34m\u001b[0m\u001b[0m\n\u001b[0;32m--> 917\u001b[0;31m                 \u001b[0;32mraise\u001b[0m \u001b[0mRequestsJSONDecodeError\u001b[0m\u001b[0;34m(\u001b[0m\u001b[0me\u001b[0m\u001b[0;34m.\u001b[0m\u001b[0mmsg\u001b[0m\u001b[0;34m,\u001b[0m \u001b[0me\u001b[0m\u001b[0;34m.\u001b[0m\u001b[0mdoc\u001b[0m\u001b[0;34m,\u001b[0m \u001b[0me\u001b[0m\u001b[0;34m.\u001b[0m\u001b[0mpos\u001b[0m\u001b[0;34m)\u001b[0m\u001b[0;34m\u001b[0m\u001b[0;34m\u001b[0m\u001b[0m\n\u001b[0m\u001b[1;32m    918\u001b[0m \u001b[0;34m\u001b[0m\u001b[0m\n\u001b[1;32m    919\u001b[0m     \u001b[0;34m@\u001b[0m\u001b[0mproperty\u001b[0m\u001b[0;34m\u001b[0m\u001b[0;34m\u001b[0m\u001b[0m\n",
      "\u001b[0;31mJSONDecodeError\u001b[0m: [Errno Expecting value] <?xml version=\"1.0\" encoding=\"UTF-8\"?>\n<!DOCTYPE html PUBLIC \"-//W3C//DTD XHTML 1.0 Strict//EN\"\n    \"http://www.w3.org/TR/xhtml1/DTD/xhtml1-strict.dtd\">\n<html xmlns=\"http://www.w3.org/1999/xhtml\" xml:lang=\"en\" lang=\"en\">\n<head>\n  <meta http-equiv=\"content-type\" content=\"text/html; charset=utf-8\" lang=\"en\"/>\n  <title>OSM3S Response</title>\n</head>\n<body>\n\n<p>The data included in this document is from www.openstreetmap.org. The data is made available under ODbL.</p>\n<p><strong style=\"color:#FF0000\">Error</strong>: runtime error: open64: 0 Success /osm3s_v0.7.58_osm_base Dispatcher_Client::request_read_and_idx::timeout. The server is probably too busy to handle your request. </p>\n\n</body>\n</html>\n: 0"
     ]
    }
   ],
   "source": [
    "get_csv('Canet')"
   ]
  },
  {
   "cell_type": "code",
   "execution_count": 9,
   "id": "197821c0",
   "metadata": {},
   "outputs": [
    {
     "name": "stdout",
     "output_type": "stream",
     "text": [
      "{{geocodeArea:cit}}->.city\n"
     ]
    }
   ],
   "source": [
    "location = 'cit'\n",
    "print(f'{{{{geocodeArea:{location}}}}}->.city')"
   ]
  },
  {
   "cell_type": "code",
   "execution_count": null,
   "id": "9a3d2da6",
   "metadata": {},
   "outputs": [],
   "source": []
  }
 ],
 "metadata": {
  "kernelspec": {
   "display_name": "Python 3 (ipykernel)",
   "language": "python",
   "name": "python3"
  },
  "language_info": {
   "codemirror_mode": {
    "name": "ipython",
    "version": 3
   },
   "file_extension": ".py",
   "mimetype": "text/x-python",
   "name": "python",
   "nbconvert_exporter": "python",
   "pygments_lexer": "ipython3",
   "version": "3.8.12"
  },
  "toc": {
   "base_numbering": 1,
   "nav_menu": {},
   "number_sections": true,
   "sideBar": true,
   "skip_h1_title": false,
   "title_cell": "Table of Contents",
   "title_sidebar": "Contents",
   "toc_cell": false,
   "toc_position": {},
   "toc_section_display": true,
   "toc_window_display": true
  }
 },
 "nbformat": 4,
 "nbformat_minor": 5
}
