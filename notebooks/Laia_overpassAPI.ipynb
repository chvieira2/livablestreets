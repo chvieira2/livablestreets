{
 "cells": [
  {
   "cell_type": "markdown",
   "id": "abbb27f5",
   "metadata": {},
   "source": [
    "# Query data from overpassAPI (openstreetmaps)\n"
   ]
  },
  {
   "cell_type": "markdown",
   "id": "9abf0373",
   "metadata": {},
   "source": [
    "query now with Python by using the requests package in order to access the Overpass AP"
   ]
  },
  {
   "cell_type": "markdown",
   "id": "338a2fc2",
   "metadata": {},
   "source": [
    "## Area[] Berlin \n",
    "area[\"ISO3166-2\"=\"DE-BE\"]\n",
    "https://www.openstreetmap.org/relation/62422\n",
    "\n",
    "## admin_level=4\n",
    "admin_level=2 through admin_level=10 allow for different administrative subdivision schemes to be handled in a consistent way by data consumers. The use of a numbering scheme rather than words for the values helps avoid confusion due to different terminology used in different countries\n",
    "A data consumer looking for municipalities corresponding to \"city\", \"town\" or \"village\" boundaries will find these tagged anywhere from admin_level=4 (e.g. relation Berlin)"
   ]
  },
  {
   "cell_type": "code",
   "execution_count": null,
   "id": "faab0eff",
   "metadata": {},
   "outputs": [],
   "source": [
    "import requests\n",
    "import json\n",
    "\n",
    "overpass_url = \"http://overpass-api.de/api/interpreter\"\n",
    "overpass_query = \"\"\"\n",
    "[out:json];\n",
    "area[\"ISO3166-2\"=\"DE-BE\"][admin_level=4];\n",
    "(node['shop'='convenience'](area);\n",
    " way['shop'='convenience' ](area);\n",
    " rel['shop'='convenience' ](area);\n",
    ");\n",
    "out center;\n",
    "\"\"\"\n",
    "response = requests.get(overpass_url, \n",
    "                        params={'data': overpass_query})\n",
    "data = response.json()"
   ]
  },
  {
   "cell_type": "code",
   "execution_count": null,
   "id": "df364c6e",
   "metadata": {},
   "outputs": [],
   "source": [
    "overpass_query"
   ]
  },
  {
   "cell_type": "code",
   "execution_count": null,
   "id": "7c6da620",
   "metadata": {},
   "outputs": [],
   "source": [
    "data"
   ]
  },
  {
   "cell_type": "markdown",
   "id": "0528a6b1",
   "metadata": {},
   "source": [
    "## Plotting "
   ]
  },
  {
   "cell_type": "code",
   "execution_count": null,
   "id": "3b2a0f1f",
   "metadata": {},
   "outputs": [],
   "source": [
    "import numpy as np\n",
    "import matplotlib.pyplot as plt\n",
    "\n",
    "# Collect coords into list\n",
    "coords = []\n",
    "for element in data['elements']:\n",
    "  if element['type'] == 'node':\n",
    "    lon = element['lon']\n",
    "    lat = element['lat']\n",
    "    coords.append((lon, lat))\n",
    "  elif 'center' in element:\n",
    "    lon = element['center']['lon']\n",
    "    lat = element['center']['lat']\n",
    "    coords.append((lon, lat))# Convert coordinates into numpy array\n",
    "X = np.array(coords)\n",
    "\n",
    "plt.plot(X[:, 0], X[:, 1], 'o')\n",
    "plt.title('Spatkauf in Berlin')\n",
    "plt.xlabel('Longitude')\n",
    "plt.ylabel('Latitude')\n",
    "plt.axis('equal')\n",
    "plt.show()"
   ]
  },
  {
   "cell_type": "code",
   "execution_count": null,
   "id": "8de89b4c",
   "metadata": {},
   "outputs": [],
   "source": [
    "kkk"
   ]
  },
  {
   "cell_type": "markdown",
   "id": "6d152171",
   "metadata": {},
   "source": [
    "## params function"
   ]
  },
  {
   "cell_type": "code",
   "execution_count": null,
   "id": "fcbc71c9",
   "metadata": {},
   "outputs": [],
   "source": [
    "#not working\n",
    "# def param_key(keys):\n",
    "    \n",
    "#     #params defining the whole key example 'leisure' \n",
    "# #     get every type of leisure instalation, as a list returns several keys\n",
    "    \n",
    "#     string_keys = ''\n",
    "#     for k in keys: \n",
    "#         string_keys += f\"\"\"node[{k}](area);\"\"\"\n",
    "#     return string_keys\n",
    "\n",
    "# def param_key_value(key, value):\n",
    "    \n",
    "#     #params defining the key and value, example 'leisure' 'parks' will only get parks\n",
    "    \n",
    "#     string_key = f\"\"\"\\\n",
    "#     node['{key}'='{value}'](area);\n",
    "#     way['{key}'='{value}'](area);\n",
    "#     rel['{key}'='{value}'](area);\n",
    "#     \"\"\"\n",
    "#     return string_key"
   ]
  },
  {
   "cell_type": "markdown",
   "id": "bb0b6023",
   "metadata": {},
   "source": [
    "## imports"
   ]
  },
  {
   "cell_type": "code",
   "execution_count": 3,
   "id": "ad7be86a",
   "metadata": {},
   "outputs": [],
   "source": [
    "import requests\n",
    "import json"
   ]
  },
  {
   "cell_type": "code",
   "execution_count": 4,
   "id": "59175d8d",
   "metadata": {},
   "outputs": [],
   "source": [
    "#style working properly\n",
    "# osm_keys_ok = \"\"\"node[\"amenity\"=\"pub\"](area.berlin);\n",
    "#             node[\"amenity\"=\"bar\"](area.berlin); \n",
    "#             \"\"\""
   ]
  },
  {
   "cell_type": "markdown",
   "id": "8e03e9b9",
   "metadata": {},
   "source": [
    "## query function"
   ]
  },
  {
   "cell_type": "code",
   "execution_count": 5,
   "id": "426d6a33",
   "metadata": {},
   "outputs": [],
   "source": [
    "overpass_url = \"http://overpass-api.de/api/interpreter\"\n",
    "\n",
    "study_area = 'area[\"ISO3166-2\"=\"DE-BE\"]->.berlin'\n",
    "\n",
    "keys_values_osm = {'amenity':['bbq','cafe']}\n",
    "\n",
    "\n",
    "def param_nodes(keys):\n",
    "    '''converts the dict into a string, returns a str'''\n",
    "    osm_keys = ''\n",
    "    for k,val in keys.items():\n",
    "        for v in val:\n",
    "            osm_keys += f\"\"\"node['{k}'='{v}'](area.berlin);\"\"\"\n",
    "    return osm_keys\n",
    "    \n",
    "def param_ways(keys):\n",
    "    '''converts the dict into a string, returns a str'''\n",
    "    osm_keys = ''\n",
    "    for k,val in keys.items():\n",
    "        for v in val:\n",
    "            osm_keys += f\"\"\"way['{k}'='{v}'](area.berlin);\"\"\"\n",
    "    return osm_keys\n",
    "\n",
    "def param_area(keys):\n",
    "    '''converts the dict into a string, returns a str'''\n",
    "    osm_keys = ''\n",
    "    for k,val in keys.items():\n",
    "        for v in val:\n",
    "            osm_keys += f\"\"\"area['{k}'='{v}'](area.berlin);\"\"\"\n",
    "    return osm_keys\n",
    "\n",
    "\n",
    "def query_params_osm(keys, feat='nodes'):\n",
    "    '''Adding keys and values as a dictionary, example: keys_values_osm = {'amenity':['bbq','cafe']}\n",
    "    several values can added to a same key as a list, returns a dict\n",
    "    arg feat = nodes, ways or areas'''\n",
    "    \n",
    "    if feat == 'ways':\n",
    "        params = param_ways(keys)\n",
    "        out_type = 'skel'\n",
    "    if feat == 'areas':\n",
    "        params = params_areas(keys)\n",
    "        out_type = 'skel'\n",
    "    else:\n",
    "        params = param_nodes(keys)\n",
    "        out_type = 'center'\n",
    "        \n",
    "    overpass_query = f\"\"\"\n",
    "                    [out:json];\n",
    "                    {study_area};\n",
    "                    ({params}\n",
    "                    );\n",
    "                    out {out_type};\n",
    "                    \"\"\"\n",
    "    response = requests.get(overpass_url, \n",
    "                            params={'data': overpass_query})\n",
    "    return response.json()"
   ]
  },
  {
   "cell_type": "code",
   "execution_count": 6,
   "id": "3dfacc6a",
   "metadata": {},
   "outputs": [
    {
     "data": {
      "text/plain": [
       "{'amenity': ['bbq', 'cafe']}"
      ]
     },
     "execution_count": 6,
     "metadata": {},
     "output_type": "execute_result"
    }
   ],
   "source": [
    "keys_values_osm"
   ]
  },
  {
   "cell_type": "code",
   "execution_count": 7,
   "id": "4aa96ca5",
   "metadata": {},
   "outputs": [
    {
     "data": {
      "text/plain": [
       "\"node['amenity'='bbq'](area.berlin);node['amenity'='cafe'](area.berlin);\""
      ]
     },
     "execution_count": 7,
     "metadata": {},
     "output_type": "execute_result"
    }
   ],
   "source": [
    "param_nodes(keys_values_osm)"
   ]
  },
  {
   "cell_type": "code",
   "execution_count": 8,
   "id": "f3681741",
   "metadata": {
    "scrolled": true
   },
   "outputs": [],
   "source": [
    "data = query_params_osm(keys_values_osm, feat='nodes')"
   ]
  },
  {
   "cell_type": "code",
   "execution_count": null,
   "id": "82e19490",
   "metadata": {
    "scrolled": true
   },
   "outputs": [],
   "source": [
    "data"
   ]
  },
  {
   "cell_type": "code",
   "execution_count": null,
   "id": "3e4f0c14",
   "metadata": {},
   "outputs": [],
   "source": [
    "len(data['elements'])"
   ]
  },
  {
   "cell_type": "markdown",
   "id": "cf31b7e9",
   "metadata": {},
   "source": [
    "# Params for Mobility"
   ]
  },
  {
   "cell_type": "markdown",
   "id": "902bf138",
   "metadata": {},
   "source": [
    "## Get dict for public transport"
   ]
  },
  {
   "cell_type": "code",
   "execution_count": null,
   "id": "988345f4",
   "metadata": {},
   "outputs": [],
   "source": [
    "public_transport = {'amenity':['bus_station'],\n",
    "                    'bus_bay':'',\n",
    "                   'highway':['bus_stop','platform'],\n",
    "                   'public_transport':['stop_position','platform','station','stop_area'],\n",
    "                   'railway':['station','tram_stop', 'subway_entrance']}\n",
    "\n",
    "bike_infraestructure =  {'amenity':['bicycle_parking', 'bicycle_repair_station', 'bicycle_rental']}"
   ]
  },
  {
   "cell_type": "code",
   "execution_count": null,
   "id": "d73cfdac",
   "metadata": {},
   "outputs": [],
   "source": [
    "param_nodes(public_transport)"
   ]
  },
  {
   "cell_type": "code",
   "execution_count": null,
   "id": "0932754c",
   "metadata": {},
   "outputs": [],
   "source": [
    "data = query_params_osm(public_transport)"
   ]
  },
  {
   "cell_type": "code",
   "execution_count": null,
   "id": "7ad1b51c",
   "metadata": {},
   "outputs": [],
   "source": [
    "len(data['elements'])"
   ]
  },
  {
   "cell_type": "markdown",
   "id": "0e07a8cd",
   "metadata": {},
   "source": [
    "## Get dict for Cyclelanes and pedestrians"
   ]
  },
  {
   "cell_type": "markdown",
   "id": "ea97faa5",
   "metadata": {},
   "source": [
    "Ways queries"
   ]
  },
  {
   "cell_type": "code",
   "execution_count": 9,
   "id": "5a80a54d",
   "metadata": {},
   "outputs": [],
   "source": [
    "cycle_paths = {'bicycle':['designated'],\n",
    "              'highway':['cycleway']}"
   ]
  },
  {
   "cell_type": "code",
   "execution_count": 10,
   "id": "24d76cb9",
   "metadata": {},
   "outputs": [
    {
     "data": {
      "text/plain": [
       "\"way['bicycle'='designated'](area.berlin);\""
      ]
     },
     "execution_count": 10,
     "metadata": {},
     "output_type": "execute_result"
    }
   ],
   "source": [
    "param_ways(cycle_paths)"
   ]
  },
  {
   "cell_type": "code",
   "execution_count": null,
   "id": "d1050d2d",
   "metadata": {},
   "outputs": [],
   "source": [
    "data_cycle = query_params_osm(cycle_paths, feat='ways')"
   ]
  },
  {
   "cell_type": "code",
   "execution_count": null,
   "id": "7ce0bb31",
   "metadata": {},
   "outputs": [],
   "source": [
    "data_cycle"
   ]
  },
  {
   "cell_type": "markdown",
   "id": "d0927259",
   "metadata": {},
   "source": [
    "# Params for Social Life"
   ]
  },
  {
   "cell_type": "markdown",
   "id": "13bb3597",
   "metadata": {},
   "source": [
    "nodes"
   ]
  },
  {
   "cell_type": "code",
   "execution_count": null,
   "id": "6b933275",
   "metadata": {},
   "outputs": [],
   "source": [
    "eating = {'amenity':['cafe','restaurant', 'food_court', 'ice_cream']}\n",
    "\n",
    "night_life = { 'amenity':['bar','pub','biergarten', 'nightclub', 'swingerclub', 'casino']}\n",
    "\n",
    "culture = {'amenity':['social_centre','theatre','public_bookcase',\n",
    "                      'fountain', 'events_venue', 'community_centre', 'cinema', \n",
    "                      'arts_centre', 'conference_centre']}\n",
    "\n",
    "community = {'office': ['association','charity', 'coworking', \n",
    "                        'educational_institution', 'employment_agency', 'foundation', \n",
    "                        'ngo', ; 'political_party', 'research']}"
   ]
  },
  {
   "cell_type": "markdown",
   "id": "d7c36b4e",
   "metadata": {},
   "source": [
    "# Params for Activities\n"
   ]
  },
  {
   "cell_type": "markdown",
   "id": "2dc30e03",
   "metadata": {},
   "source": [
    "nodes"
   ]
  },
  {
   "cell_type": "code",
   "execution_count": null,
   "id": "91da9957",
   "metadata": {},
   "outputs": [],
   "source": [
    "health_care = {'amenity':['baby_hatch','clinic','dentist',\n",
    "                      'doctors', 'hospital', 'nursing_home', 'pharmacy', \n",
    "                      'social_facility', 'veterinary']}\n",
    "\n",
    "public_service = {'amenity':['courthouse','fire_station','police',\n",
    "                      'post_box', 'post_office', 'townhall']}\n",
    "\n",
    "education = {'amenity':['college','kindergarten','language_school',\n",
    "                      'library', 'music_school', 'school', 'university']}\n",
    "\n",
    "economic = {'amenity':['atm', 'bank', 'bureau_de_change']}"
   ]
  },
  {
   "cell_type": "markdown",
   "id": "4a680fed",
   "metadata": {},
   "source": [
    "#  Params for Comfort"
   ]
  },
  {
   "cell_type": "markdown",
   "id": "8c670888",
   "metadata": {},
   "source": [
    "## Node Queries"
   ]
  },
  {
   "cell_type": "code",
   "execution_count": null,
   "id": "aa17d95e",
   "metadata": {},
   "outputs": [],
   "source": [
    "comfort_spots = {'amenity':['bbq','bench','dog_toilet',\n",
    "                      '\tdrinking_water', 'give_box', 'shelter', 'shower', \n",
    "                      'toilets', 'water_point', 'watering_place']}\n",
    "\n",
    "leisure_spots = {'leisure':['bandstand','bird_hide','dog_park',\n",
    "                      'firepit', 'swimming_pool', 'stadium', 'sports_centre', \n",
    "                      'pitch', 'picnic_table', 'fitness_centre'],\n",
    "                 'historic':''}\n",
    "\n",
    "trees = []\n"
   ]
  },
  {
   "cell_type": "markdown",
   "id": "9a3d6415",
   "metadata": {},
   "source": [
    "## Area querys"
   ]
  },
  {
   "cell_type": "code",
   "execution_count": null,
   "id": "95733cef",
   "metadata": {},
   "outputs": [],
   "source": [
    "leirsure_areas = {'leisure':['park','garden','swimming_area',\n",
    "                      'playground', 'nature_reserve', 'marina'],\n",
    "                 'landuse':['forest']}"
   ]
  }
 ],
 "metadata": {
  "kernelspec": {
   "display_name": "Python 3 (ipykernel)",
   "language": "python",
   "name": "python3"
  },
  "language_info": {
   "codemirror_mode": {
    "name": "ipython",
    "version": 3
   },
   "file_extension": ".py",
   "mimetype": "text/x-python",
   "name": "python",
   "nbconvert_exporter": "python",
   "pygments_lexer": "ipython3",
   "version": "3.8.12"
  },
  "toc": {
   "base_numbering": 1,
   "nav_menu": {},
   "number_sections": true,
   "sideBar": true,
   "skip_h1_title": false,
   "title_cell": "Table of Contents",
   "title_sidebar": "Contents",
   "toc_cell": false,
   "toc_position": {},
   "toc_section_display": true,
   "toc_window_display": true
  }
 },
 "nbformat": 4,
 "nbformat_minor": 5
}
