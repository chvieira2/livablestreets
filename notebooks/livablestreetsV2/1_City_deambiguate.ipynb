{
 "cells": [
  {
   "cell_type": "markdown",
   "metadata": {},
   "source": [
    "## Livable streets App"
   ]
  },
  {
   "cell_type": "markdown",
   "metadata": {},
   "source": [
    "# Imports"
   ]
  },
  {
   "cell_type": "code",
   "execution_count": 1,
   "metadata": {},
   "outputs": [],
   "source": [
    "%load_ext autoreload\n",
    "%autoreload 2"
   ]
  },
  {
   "cell_type": "code",
   "execution_count": 23,
   "metadata": {},
   "outputs": [],
   "source": [
    "#deambiguation\n",
    "from geopy.geocoders import Nominatim\n",
    "import os\n",
    "import json\n",
    "\n",
    "get_working_dir = os.getcwd()"
   ]
  },
  {
   "cell_type": "markdown",
   "metadata": {},
   "source": [
    "## Deambiguate with Nominatim"
   ]
  },
  {
   "cell_type": "code",
   "execution_count": 12,
   "metadata": {},
   "outputs": [
    {
     "name": "stdout",
     "output_type": "stream",
     "text": [
      "Kreuzberg, Friedrichshain-Kreuzberg, Berlin, Deutschland relation\n",
      "55765\n"
     ]
    }
   ],
   "source": [
    "city_name = \"Kreuzberg\"\n",
    "country_code = \"de\"\n",
    "\n",
    "# Geocoding request via Nominatim\n",
    "geolocator = Nominatim(user_agent=\"livablestreets\")\n",
    "geo_results = geolocator.geocode(city_name, country_codes = country_code, exactly_one=False, limit=3)\n",
    "\n",
    "# Searching for relation in result set\n",
    "for r in geo_results:\n",
    "    print(r.address, r.raw.get(\"osm_type\"))\n",
    "    if r.raw.get(\"osm_type\") == \"relation\":\n",
    "        city = r\n",
    "        break\n",
    "\n",
    "\n",
    "# Calculating area id\n",
    "area_relid = int(city.raw.get(\"osm_id\")) + 3600000000 #for features\n",
    "area_wayid = int(city.raw.get(\"osm_id\")) + 2400000000\n",
    "area_osmid = int(city.raw.get(\"osm_id\")) #for city\n",
    "print(area_osmid)"
   ]
  },
  {
   "cell_type": "code",
   "execution_count": 13,
   "metadata": {},
   "outputs": [
    {
     "data": {
      "text/plain": [
       "{'place_id': 297622950,\n",
       " 'licence': 'Data © OpenStreetMap contributors, ODbL 1.0. https://osm.org/copyright',\n",
       " 'osm_type': 'relation',\n",
       " 'osm_id': 55765,\n",
       " 'boundingbox': ['52.4827923', '52.5093816', '13.3682291', '13.4529296'],\n",
       " 'lat': '52.4976443',\n",
       " 'lon': '13.411914',\n",
       " 'display_name': 'Kreuzberg, Friedrichshain-Kreuzberg, Berlin, Deutschland',\n",
       " 'class': 'boundary',\n",
       " 'type': 'administrative',\n",
       " 'importance': 0.6289461142330656,\n",
       " 'icon': 'https://nominatim.openstreetmap.org/ui/mapicons/poi_boundary_administrative.p.20.png'}"
      ]
     },
     "execution_count": 13,
     "metadata": {},
     "output_type": "execute_result"
    }
   ],
   "source": [
    "geo_results[0].raw"
   ]
  },
  {
   "cell_type": "code",
   "execution_count": 19,
   "metadata": {},
   "outputs": [
    {
     "data": {
      "text/plain": [
       "\"('52.4827923','13.3682291','52.5093816','13.4529296')\""
      ]
     },
     "execution_count": 19,
     "metadata": {},
     "output_type": "execute_result"
    }
   ],
   "source": [
    "minlat, maxlat, minlon, maxlon = geo_results[0].raw['boundingbox']\n",
    "bbox = (minlat, minlon, maxlat, maxlon)\n",
    "str(bbox).replace(' ', '')"
   ]
  },
  {
   "cell_type": "code",
   "execution_count": null,
   "metadata": {},
   "outputs": [],
   "source": [
    "#example bouding box\n",
    "#node[\"amenity\"=\"parking\"][\"park_ride\"=\"yes\"](52.48502723795695,13.409706115722656,52.495688659468755,13.431438446044922);"
   ]
  },
  {
   "cell_type": "markdown",
   "metadata": {},
   "source": [
    "## saving json"
   ]
  },
  {
   "cell_type": "code",
   "execution_count": 25,
   "metadata": {},
   "outputs": [],
   "source": [
    "# kreuzberg_nominatim.json\n",
    "\n",
    "with open(os.path.join(get_working_dir, 'data', f\"{city_name}_nominatim.json\"), \"w\") as f:\n",
    "    f.write(json.dumps(geo_results[0].raw, indent=4))"
   ]
  }
 ],
 "metadata": {
  "kernelspec": {
   "display_name": "Python 3.8.12 64-bit ('livsomnx-env')",
   "language": "python",
   "name": "python3"
  },
  "language_info": {
   "codemirror_mode": {
    "name": "ipython",
    "version": 3
   },
   "file_extension": ".py",
   "mimetype": "text/x-python",
   "name": "python",
   "nbconvert_exporter": "python",
   "pygments_lexer": "ipython3",
   "version": "3.8.12"
  },
  "orig_nbformat": 4,
  "vscode": {
   "interpreter": {
    "hash": "21de5a02355850eeccd32a198157a6af76e1b1121e696e3c54cfd9a2ca75645b"
   }
  }
 },
 "nbformat": 4,
 "nbformat_minor": 2
}
