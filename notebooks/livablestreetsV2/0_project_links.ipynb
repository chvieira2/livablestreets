{
 "cells": [
  {
   "cell_type": "markdown",
   "metadata": {},
   "source": [
    "# useful links\n"
   ]
  },
  {
   "cell_type": "markdown",
   "metadata": {},
   "source": [
    "## h3 cell buildind and smoothing\n",
    "\n",
    "Spatial weights\n",
    "https://geographicdata.science/book/notebooks/04_spatial_weights.html\n",
    "\n",
    "notebooks with h3 smoothing with weights example\n",
    "https://h3-pandas.readthedocs.io/en/latest/notebook/01-unified-data-layers.html\n",
    "\n",
    "smothing examples \n",
    "https://observablehq.com/@nrabinowitz/surface-construction-with-h3\n",
    "\n",
    "GTFS mobility dataset catalogs\n",
    "https://github.com/MobilityData/mobility-database-catalogs#get-and-filter-sources\n"
   ]
  },
  {
   "cell_type": "markdown",
   "metadata": {},
   "source": [
    "## GTFS and routing\n",
    "\n",
    "transit feeds, moibility dataset\n",
    "https://database.mobilitydata.org/\n",
    "\n",
    "opentripplaner\n",
    "https://github.com/opentripplanner/OpenTripPlanner\n",
    "http://www.opentripplanner.org/\n",
    "\n",
    "getfs router examples\n",
    "https://github.com/wsp-sag/gtfs-router/tree/master/examples\n",
    "\n",
    "routing distance between two points\n",
    "https://towardsdatascience.com/driving-distance-between-two-or-more-places-in-python-89779d691def\n",
    "\n",
    "local computing distance walk and bike\n",
    "https://towardsdatascience.com/visualization-in-python-finding-routes-between-points-2d97d4881996\n",
    "\n",
    "google distance matrix api\n",
    "https://stackoverflow.com/questions/17267807/python-google-maps-driving-time\n",
    "https://medium.com/how-to-use-google-distance-matrix-api-in-python/how-to-use-google-distance-matrix-api-in-python-ef9cd895303c"
   ]
  },
  {
   "cell_type": "markdown",
   "metadata": {},
   "source": [
    "## Tools\n",
    "\n",
    "mosaic apache spark\n",
    "https://databrickslabs.github.io/mosaic/api/spatial-functions.html?highlight=mosaic_fill#mosaicfill\n",
    "https://databrickslabs.github.io/mosaic/"
   ]
  },
  {
   "cell_type": "markdown",
   "metadata": {},
   "source": []
  }
 ],
 "metadata": {
  "kernelspec": {
   "display_name": "Python 3.8.12 64-bit ('notebooksenv')",
   "language": "python",
   "name": "python3"
  },
  "language_info": {
   "name": "python",
   "version": "3.8.12"
  },
  "orig_nbformat": 4,
  "vscode": {
   "interpreter": {
    "hash": "36027c3bbe89195a86ffb2ead47341c29effd71b78c6a9a311624dd880b727a2"
   }
  }
 },
 "nbformat": 4,
 "nbformat_minor": 2
}
