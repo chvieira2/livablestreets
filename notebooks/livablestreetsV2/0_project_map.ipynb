{
 "cells": [
  {
   "cell_type": "markdown",
   "metadata": {},
   "source": [
    "# livable streets steps"
   ]
  },
  {
   "cell_type": "markdown",
   "metadata": {},
   "source": [
    "## Create study area\n",
    "\n",
    "1. City name, and OSM id with Nominatim\n",
    "2. Create Boundary and padding, (save to gpkg)\n",
    "3. polyfill with hepxagon indexes and geometry\n",
    "4. Create a bouding_boxes from geohash (save to gpkg)\n",
    "5. save study_grid geodataframe (gpkg)\n",
    "\n",
    "## Get OSM data\n",
    "\n",
    "6. Read queries.csv and build a query\n",
    "7. Read bounding_boxes.gpx and iterate each query\n",
    "8. combine bounding boxes and save to gpkg\n",
    "\n",
    "## add osm data to h3 indexes\n",
    "1. open osm data.gpkg and group_by h3 index\n",
    "2. concatenate all dataframes with study grid\n",
    "\n",
    "## accesibility\n",
    "1. open study_grid.gpkg \n",
    "2. create identity matrix from h3 indexes and centroids\n",
    "3. perform walking distance calculation on k_neighbors\n",
    "4. save to sparce matrix\n",
    "\n",
    "## create index\n",
    "1. open study_grid.gpkg\n",
    "2. overlap accesibility matrix as weights\n",
    "3. perform final calculations"
   ]
  },
  {
   "cell_type": "markdown",
   "metadata": {},
   "source": []
  }
 ],
 "metadata": {
  "kernelspec": {
   "display_name": "Python 3.10.6 64-bit ('shims': pyenv)",
   "language": "python",
   "name": "python3"
  },
  "language_info": {
   "name": "python",
   "version": "3.8.12"
  },
  "orig_nbformat": 4,
  "vscode": {
   "interpreter": {
    "hash": "1bb7ecd17a80137a6d613fd5f330f51c52fcbaee8479eab57c4dbef628b1ba14"
   }
  }
 },
 "nbformat": 4,
 "nbformat_minor": 2
}
