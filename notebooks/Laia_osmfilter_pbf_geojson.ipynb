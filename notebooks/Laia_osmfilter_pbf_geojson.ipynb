{
 "cells": [
  {
   "cell_type": "markdown",
   "id": "100e734c",
   "metadata": {},
   "source": [
    "# Tests for quering local PBF osm files\n",
    "\n",
    "guide for using the filter https://pypi.org/project/esy-osmfilter/\n"
   ]
  },
  {
   "cell_type": "markdown",
   "id": "d438e4f5",
   "metadata": {},
   "source": [
    "## imports"
   ]
  },
  {
   "cell_type": "code",
   "execution_count": 13,
   "id": "150bbc77",
   "metadata": {},
   "outputs": [],
   "source": [
    "import configparser, contextlib\n",
    "import os, sys\n",
    "\n",
    "from esy.osmfilter import osm_colors as CC\n",
    "from esy.osmfilter import run_filter \n",
    "from esy.osmfilter import Node, Way, Relation\n",
    "\n",
    "import urllib.request\n"
   ]
  },
  {
   "cell_type": "markdown",
   "id": "d5a0243a",
   "metadata": {},
   "source": [
    "## Get file"
   ]
  },
  {
   "cell_type": "code",
   "execution_count": 43,
   "id": "f31a937c",
   "metadata": {},
   "outputs": [],
   "source": [
    "city_name = 'liechtenstein-latest'\n",
    "c = 'berlin-latest'"
   ]
  },
  {
   "cell_type": "code",
   "execution_count": 44,
   "id": "0b5b102d",
   "metadata": {},
   "outputs": [],
   "source": [
    "PBF_inputfile = os.path.join(os.getcwd(), f'test-osmfilter/{city_name}.osm.pbf')\n",
    "JSON_outputfile = os.path.join(os.getcwd(), f'test-osmfilter/{city_name}.json')"
   ]
  },
  {
   "cell_type": "code",
   "execution_count": 45,
   "id": "83c92d27",
   "metadata": {},
   "outputs": [
    {
     "data": {
      "text/plain": [
       "'/home/laia/code/Laiagdla/livablestreets/notebooks/test-osmfilter/liechtenstein-latest.osm.pbf'"
      ]
     },
     "execution_count": 45,
     "metadata": {},
     "output_type": "execute_result"
    }
   ],
   "source": [
    "PBF_inputfile"
   ]
  },
  {
   "cell_type": "code",
   "execution_count": 46,
   "id": "f31efca2",
   "metadata": {},
   "outputs": [],
   "source": [
    "if not os.path.exists(f'test-osmfilter/{city_name}.osm.pbf'):\n",
    "    filename, headers = urllib.request.urlretrieve(\n",
    "        f'https://download.geofabrik.de/europe/{city_name}.osm.pbf',\n",
    "        filename=f'test-osmfilter/{city_name}.osm.pbf')\n",
    "PBF_inputfile = filename"
   ]
  },
  {
   "cell_type": "markdown",
   "id": "ee702180",
   "metadata": {},
   "source": [
    "## Filter main data"
   ]
  },
  {
   "cell_type": "code",
   "execution_count": 47,
   "id": "0b39abc6",
   "metadata": {},
   "outputs": [],
   "source": [
    "prefilter   = {Node: {}, Way: {\"man_made\":[\"pipeline\",],}, Relation: {}}\n",
    "blackfilter = [(\"pipeline\",\"substation\"),]\n",
    "whitefilter =[((\"waterway\",\"drain\"),(\"name\",\"Wäschgräble\")), ]"
   ]
  },
  {
   "cell_type": "code",
   "execution_count": 48,
   "id": "2d1a3b8b",
   "metadata": {},
   "outputs": [
    {
     "name": "stderr",
     "output_type": "stream",
     "text": [
      "INFO:esy.osmfilter.pre_filter:\u001b[30m\u001b[47mPreFilter OSM GAS DATA\u001b[0m\n",
      "INFO:esy.osmfilter.pre_filter:InputFile     : \u001b[36mtest-osmfilter/liechtenstein-latest.osm.pbf\u001b[0m\n",
      "INFO:esy.osmfilter.pre_filter:Size          : 2692            kbyte\n",
      "INFO:esy.osmfilter.pre_filter:Estimated Time: 0.38            s\n",
      "INFO:esy.osmfilter.pre_filter:=============================\n",
      "INFO:esy.osmfilter.pre_filter:0.5\n",
      "INFO:esy.osmfilter.pre_filter:1\n",
      "INFO:esy.osmfilter.pre_filter:1.2\n",
      "INFO:esy.osmfilter.pre_filter:1.2\n",
      "INFO:esy.osmfilter.pre_filter:1.2\n",
      "INFO:esy.osmfilter.pre_filter:1.2\n",
      "INFO:esy.osmfilter.pre_filter:1.2\n",
      "INFO:esy.osmfilter.pre_filter:1.2\n",
      "INFO:esy.osmfilter.pre_filter:1.2\n",
      "INFO:esy.osmfilter.pre_filter:1.2\n",
      "INFO:esy.osmfilter.pre_filter:1.2\n",
      "INFO:esy.osmfilter.pre_filter:1.2\n",
      "INFO:esy.osmfilter.pre_filter:1.2\n",
      "INFO:esy.osmfilter.pre_filter:1.2\n",
      "INFO:esy.osmfilter.pre_filter:1.2\n",
      "INFO:esy.osmfilter.pre_filter:1.2\n",
      "INFO:esy.osmfilter.pre_filter:1.2\n",
      "INFO:esy.osmfilter.pre_filter:1.2\n",
      "INFO:esy.osmfilter.pre_filter:1.2\n",
      "INFO:esy.osmfilter.pre_filter:1.2\n",
      "INFO:esy.osmfilter.pre_filter:1.2\n",
      "INFO:esy.osmfilter.pre_filter:1.2\n",
      "INFO:esy.osmfilter.pre_filter:1.2\n",
      "INFO:esy.osmfilter.pre_filter:1.2\n",
      "INFO:esy.osmfilter.pre_filter:1.2\n",
      "INFO:esy.osmfilter.pre_filter:1.2\n",
      "INFO:esy.osmfilter.pre_filter:1.2\n",
      "INFO:esy.osmfilter.pre_filter:1.2\n",
      "INFO:esy.osmfilter.pre_filter:1.2\n",
      "INFO:esy.osmfilter.pre_filter:1.2\n",
      "INFO:esy.osmfilter.pre_filter:1.2\n",
      "INFO:esy.osmfilter.pre_filter:1.2\n",
      "INFO:esy.osmfilter.pre_filter:1.2\n",
      "INFO:esy.osmfilter.pre_filter:1.2\n",
      "INFO:esy.osmfilter.pre_filter:1.2\n",
      "INFO:esy.osmfilter.pre_filter:1.2\n",
      "INFO:esy.osmfilter.pre_filter:1.2\n",
      "INFO:esy.osmfilter.pre_filter:1.2\n",
      "INFO:esy.osmfilter.pre_filter:1.2\n",
      "INFO:esy.osmfilter.pre_filter:1.2\n",
      "INFO:esy.osmfilter.pre_filter:1.2\n",
      "INFO:esy.osmfilter.pre_filter:1.2\n",
      "INFO:esy.osmfilter.pre_filter:1.2\n",
      "INFO:esy.osmfilter.pre_filter:1.2\n",
      "INFO:esy.osmfilter.pre_filter:1.2\n",
      "INFO:esy.osmfilter.pre_filter:1.2\n",
      "INFO:esy.osmfilter.pre_filter:1.2\n",
      "INFO:esy.osmfilter.pre_filter:1.3\n",
      "INFO:esy.osmfilter.pre_filter:2\n",
      "INFO:esy.osmfilter.pre_filter:3\n",
      "INFO:esy.osmfilter.pre_filter:Outputfile    : \u001b[36m/home/laia/code/Laiagdla/livablestreets/notebooks/test-osmfilter/liechtenstein-latest.json\u001b[0m\n",
      "Size          : 83              kbyte \n",
      "Time Elapsed  : 0.99            s\n",
      "\n",
      "\n"
     ]
    }
   ],
   "source": [
    ">>> [Data,_]=run_filter('noname',\n",
    "...                     PBF_inputfile, \n",
    "...                     JSON_outputfile, \n",
    "...                     prefilter,\n",
    "...                     whitefilter, \n",
    "...                     blackfilter, \n",
    "...                     NewPreFilterData=True, \n",
    "...                     CreateElements=False, \n",
    "...                     LoadElements=False,\n",
    "...                     verbose=True)"
   ]
  },
  {
   "cell_type": "code",
   "execution_count": 49,
   "id": "c54f9ccf",
   "metadata": {},
   "outputs": [
    {
     "data": {
      "text/plain": [
       "203"
      ]
     },
     "execution_count": 49,
     "metadata": {},
     "output_type": "execute_result"
    }
   ],
   "source": [
    ">>> len(Data['Node'])"
   ]
  },
  {
   "cell_type": "code",
   "execution_count": 50,
   "id": "53bca2c7",
   "metadata": {},
   "outputs": [
    {
     "data": {
      "text/plain": [
       "0"
      ]
     },
     "execution_count": 50,
     "metadata": {},
     "output_type": "execute_result"
    }
   ],
   "source": [
    ">>> len(Data['Relation'])"
   ]
  },
  {
   "cell_type": "code",
   "execution_count": 51,
   "id": "2c69a745",
   "metadata": {},
   "outputs": [
    {
     "data": {
      "text/plain": [
       "45"
      ]
     },
     "execution_count": 51,
     "metadata": {},
     "output_type": "execute_result"
    }
   ],
   "source": [
    ">>> len(Data['Way'])"
   ]
  },
  {
   "cell_type": "markdown",
   "id": "68bb47a4",
   "metadata": {},
   "source": [
    "## Filter out (blackfilter)"
   ]
  },
  {
   "cell_type": "code",
   "execution_count": 52,
   "id": "a405bb57",
   "metadata": {},
   "outputs": [
    {
     "data": {
      "text/plain": [
       "1"
      ]
     },
     "execution_count": 52,
     "metadata": {},
     "output_type": "execute_result"
    }
   ],
   "source": [
    ">>> [_,Elements]=run_filter('funny-waterway-pipelines',\n",
    "...                            PBF_inputfile, \n",
    "...                            JSON_outputfile, \n",
    "...                            prefilter,\n",
    "...                            whitefilter, \n",
    "...                            blackfilter, \n",
    "...                            NewPreFilterData=False, \n",
    "...                            CreateElements=True, \n",
    "...                            LoadElements=False,\n",
    "...                            verbose=True)\n",
    ">>> len(Elements['funny-waterway-pipelines']['Node'])\n",
    "0\n",
    ">>> len(Elements['funny-waterway-pipelines']['Relation'])\n",
    "0\n",
    ">>> len(Elements['funny-waterway-pipelines']['Way'])"
   ]
  },
  {
   "cell_type": "markdown",
   "id": "96e90b1f",
   "metadata": {},
   "source": [
    "## save geojson"
   ]
  },
  {
   "cell_type": "code",
   "execution_count": 54,
   "id": "1117c7b5",
   "metadata": {},
   "outputs": [],
   "source": [
    ">>> from esy.osmfilter import export_geojson\n",
    ">>> export_geojson(Elements['funny-waterway-pipelines']['Way'],Data,\n",
    "... filename=f'test-osmfilter/{city_name}.geojson',jsontype='Line')"
   ]
  },
  {
   "cell_type": "markdown",
   "id": "3c6936f4",
   "metadata": {},
   "source": [
    "## open geosjon"
   ]
  },
  {
   "cell_type": "code",
   "execution_count": 62,
   "id": "0166625d",
   "metadata": {},
   "outputs": [
    {
     "data": {
      "image/svg+xml": [
       "<svg xmlns=\"http://www.w3.org/2000/svg\" xmlns:xlink=\"http://www.w3.org/1999/xlink\" width=\"100.0\" height=\"100.0\" viewBox=\"9.501720632000026 47.15532713199993 0.005631336000000431 0.002379636000007679\" preserveAspectRatio=\"xMinYMin meet\"><g transform=\"matrix(1,0,0,-1,0,94.31303389999988)\"><polyline fill=\"none\" stroke=\"#66cc99\" stroke-width=\"0.00011262672000000862\" points=\"9.501929200000026,47.15553569999993 9.502723100000027,47.15566699999992 9.502805000000027,47.15572889999992 9.503079300000026,47.15575869999992 9.503700600000027,47.15584689999992 9.504410900000027,47.15620189999992 9.505139400000036,47.15663890000015 9.506049100000027,47.15718449999992 9.50640110000003,47.157285299999934 9.507143400000027,47.15749819999994\" opacity=\"0.8\" /></g></svg>"
      ],
      "text/plain": [
       "<shapely.geometry.linestring.LineString at 0x7f910e0e39d0>"
      ]
     },
     "execution_count": 62,
     "metadata": {},
     "output_type": "execute_result"
    }
   ],
   "source": [
    "import geopandas as gpd\n",
    "elements = gpd.read_file(f'test-osmfilter/{city_name}.geojson')\n",
    "elements['geometry'][0]"
   ]
  },
  {
   "cell_type": "markdown",
   "id": "2184bb27",
   "metadata": {},
   "source": [
    "# shapely, create geometry from geojson"
   ]
  },
  {
   "cell_type": "code",
   "execution_count": 57,
   "id": "800caaa3",
   "metadata": {},
   "outputs": [],
   "source": [
    "import shapely.geometry as geometry\n",
    "from shapely.ops import linemerge, unary_union, polygonize"
   ]
  },
  {
   "cell_type": "code",
   "execution_count": 63,
   "id": "c3c250d9",
   "metadata": {},
   "outputs": [
    {
     "ename": "TypeError",
     "evalue": "'LineString' object is not iterable",
     "output_type": "error",
     "traceback": [
      "\u001b[0;31m---------------------------------------------------------------------------\u001b[0m",
      "\u001b[0;31mTypeError\u001b[0m                                 Traceback (most recent call last)",
      "\u001b[0;32m/tmp/ipykernel_2138/17944026.py\u001b[0m in \u001b[0;36m<module>\u001b[0;34m\u001b[0m\n\u001b[1;32m      1\u001b[0m \u001b[0;32mfrom\u001b[0m \u001b[0mshapely\u001b[0m\u001b[0;34m.\u001b[0m\u001b[0mgeometry\u001b[0m \u001b[0;32mimport\u001b[0m \u001b[0mPolygon\u001b[0m\u001b[0;34m\u001b[0m\u001b[0;34m\u001b[0m\u001b[0m\n\u001b[1;32m      2\u001b[0m \u001b[0;34m\u001b[0m\u001b[0m\n\u001b[0;32m----> 3\u001b[0;31m \u001b[0mPolygon\u001b[0m\u001b[0;34m(\u001b[0m\u001b[0;34m[\u001b[0m\u001b[0mtuple\u001b[0m\u001b[0;34m(\u001b[0m\u001b[0ml\u001b[0m\u001b[0;34m)\u001b[0m \u001b[0;32mfor\u001b[0m \u001b[0ml\u001b[0m \u001b[0;32min\u001b[0m \u001b[0melements\u001b[0m\u001b[0;34m[\u001b[0m\u001b[0;34m'geometry'\u001b[0m\u001b[0;34m]\u001b[0m\u001b[0;34m[\u001b[0m\u001b[0;36m0\u001b[0m\u001b[0;34m]\u001b[0m\u001b[0;34m]\u001b[0m\u001b[0;34m)\u001b[0m\u001b[0;34m\u001b[0m\u001b[0;34m\u001b[0m\u001b[0m\n\u001b[0m",
      "\u001b[0;31mTypeError\u001b[0m: 'LineString' object is not iterable"
     ]
    }
   ],
   "source": [
    "from shapely.geometry import Polygon\n",
    "\n",
    "Polygon([tuple(l) for l in elements['geometry'][0]])"
   ]
  },
  {
   "cell_type": "markdown",
   "id": "756a8e8f",
   "metadata": {},
   "source": [
    "# test"
   ]
  },
  {
   "cell_type": "code",
   "execution_count": 65,
   "id": "d64cfef3",
   "metadata": {},
   "outputs": [
    {
     "name": "stderr",
     "output_type": "stream",
     "text": [
      "INFO:esy.osmfilter.pre_filter:\u001b[30m\u001b[47mPreFilter OSM GAS DATA\u001b[0m\n",
      "INFO:esy.osmfilter.pre_filter:InputFile     : \u001b[36mtest-osmfilter/liechtenstein-latest.osm.pbf\u001b[0m\n",
      "INFO:esy.osmfilter.pre_filter:Size          : 2692            kbyte\n",
      "INFO:esy.osmfilter.pre_filter:Estimated Time: 0.38            s\n",
      "INFO:esy.osmfilter.pre_filter:=============================\n",
      "INFO:esy.osmfilter.pre_filter:0.5\n",
      "INFO:esy.osmfilter.pre_filter:1\n",
      "INFO:esy.osmfilter.pre_filter:1.2\n",
      "INFO:esy.osmfilter.pre_filter:1.2\n",
      "INFO:esy.osmfilter.pre_filter:1.2\n",
      "INFO:esy.osmfilter.pre_filter:1.2\n",
      "INFO:esy.osmfilter.pre_filter:1.2\n",
      "INFO:esy.osmfilter.pre_filter:1.2\n",
      "INFO:esy.osmfilter.pre_filter:1.2\n",
      "INFO:esy.osmfilter.pre_filter:1.2\n",
      "INFO:esy.osmfilter.pre_filter:1.2\n",
      "INFO:esy.osmfilter.pre_filter:1.2\n",
      "INFO:esy.osmfilter.pre_filter:1.2\n",
      "INFO:esy.osmfilter.pre_filter:1.2\n",
      "INFO:esy.osmfilter.pre_filter:1.2\n",
      "INFO:esy.osmfilter.pre_filter:1.2\n",
      "INFO:esy.osmfilter.pre_filter:1.2\n",
      "INFO:esy.osmfilter.pre_filter:1.2\n",
      "INFO:esy.osmfilter.pre_filter:1.2\n",
      "INFO:esy.osmfilter.pre_filter:1.2\n",
      "INFO:esy.osmfilter.pre_filter:1.2\n",
      "INFO:esy.osmfilter.pre_filter:1.2\n",
      "INFO:esy.osmfilter.pre_filter:1.2\n",
      "INFO:esy.osmfilter.pre_filter:1.2\n",
      "INFO:esy.osmfilter.pre_filter:1.2\n",
      "INFO:esy.osmfilter.pre_filter:1.2\n",
      "INFO:esy.osmfilter.pre_filter:1.2\n",
      "INFO:esy.osmfilter.pre_filter:1.2\n",
      "INFO:esy.osmfilter.pre_filter:1.2\n",
      "INFO:esy.osmfilter.pre_filter:1.2\n",
      "INFO:esy.osmfilter.pre_filter:1.2\n",
      "INFO:esy.osmfilter.pre_filter:1.2\n",
      "INFO:esy.osmfilter.pre_filter:1.2\n",
      "INFO:esy.osmfilter.pre_filter:1.2\n",
      "INFO:esy.osmfilter.pre_filter:1.2\n",
      "INFO:esy.osmfilter.pre_filter:1.2\n",
      "INFO:esy.osmfilter.pre_filter:1.2\n",
      "INFO:esy.osmfilter.pre_filter:1.2\n",
      "INFO:esy.osmfilter.pre_filter:1.2\n",
      "INFO:esy.osmfilter.pre_filter:1.2\n",
      "INFO:esy.osmfilter.pre_filter:1.2\n",
      "INFO:esy.osmfilter.pre_filter:1.2\n",
      "INFO:esy.osmfilter.pre_filter:1.2\n",
      "INFO:esy.osmfilter.pre_filter:1.2\n",
      "INFO:esy.osmfilter.pre_filter:1.2\n",
      "INFO:esy.osmfilter.pre_filter:1.2\n",
      "INFO:esy.osmfilter.pre_filter:1.2\n",
      "INFO:esy.osmfilter.pre_filter:1.2\n",
      "INFO:esy.osmfilter.pre_filter:1.2\n",
      "INFO:esy.osmfilter.pre_filter:1.2\n",
      "INFO:esy.osmfilter.pre_filter:1.2\n",
      "INFO:esy.osmfilter.pre_filter:1.2\n",
      "INFO:esy.osmfilter.pre_filter:1.2\n",
      "INFO:esy.osmfilter.pre_filter:1.2\n",
      "INFO:esy.osmfilter.pre_filter:1.2\n",
      "INFO:esy.osmfilter.pre_filter:1.2\n",
      "INFO:esy.osmfilter.pre_filter:1.2\n",
      "INFO:esy.osmfilter.pre_filter:1.2\n",
      "INFO:esy.osmfilter.pre_filter:1.2\n",
      "INFO:esy.osmfilter.pre_filter:1.2\n",
      "INFO:esy.osmfilter.pre_filter:1.2\n",
      "INFO:esy.osmfilter.pre_filter:1.2\n",
      "INFO:esy.osmfilter.pre_filter:1.2\n",
      "INFO:esy.osmfilter.pre_filter:1.2\n",
      "INFO:esy.osmfilter.pre_filter:1.2\n",
      "INFO:esy.osmfilter.pre_filter:1.2\n",
      "INFO:esy.osmfilter.pre_filter:1.2\n",
      "INFO:esy.osmfilter.pre_filter:1.2\n",
      "INFO:esy.osmfilter.pre_filter:1.2\n",
      "INFO:esy.osmfilter.pre_filter:1.2\n",
      "INFO:esy.osmfilter.pre_filter:1.2\n",
      "INFO:esy.osmfilter.pre_filter:1.2\n",
      "INFO:esy.osmfilter.pre_filter:1.2\n",
      "INFO:esy.osmfilter.pre_filter:1.2\n",
      "INFO:esy.osmfilter.pre_filter:1.2\n",
      "INFO:esy.osmfilter.pre_filter:1.2\n",
      "INFO:esy.osmfilter.pre_filter:1.2\n",
      "INFO:esy.osmfilter.pre_filter:1.2\n",
      "INFO:esy.osmfilter.pre_filter:1.2\n",
      "INFO:esy.osmfilter.pre_filter:1.2\n",
      "INFO:esy.osmfilter.pre_filter:1.2\n",
      "INFO:esy.osmfilter.pre_filter:1.2\n",
      "INFO:esy.osmfilter.pre_filter:1.2\n",
      "INFO:esy.osmfilter.pre_filter:1.2\n",
      "INFO:esy.osmfilter.pre_filter:1.2\n",
      "INFO:esy.osmfilter.pre_filter:1.2\n",
      "INFO:esy.osmfilter.pre_filter:1.2\n",
      "INFO:esy.osmfilter.pre_filter:1.2\n",
      "INFO:esy.osmfilter.pre_filter:1.2\n",
      "INFO:esy.osmfilter.pre_filter:1.2\n",
      "INFO:esy.osmfilter.pre_filter:1.2\n",
      "INFO:esy.osmfilter.pre_filter:1.2\n",
      "INFO:esy.osmfilter.pre_filter:1.2\n",
      "INFO:esy.osmfilter.pre_filter:1.2\n",
      "INFO:esy.osmfilter.pre_filter:1.2\n",
      "INFO:esy.osmfilter.pre_filter:1.2\n",
      "INFO:esy.osmfilter.pre_filter:1.2\n",
      "INFO:esy.osmfilter.pre_filter:1.2\n",
      "INFO:esy.osmfilter.pre_filter:1.2\n",
      "INFO:esy.osmfilter.pre_filter:1.2\n",
      "INFO:esy.osmfilter.pre_filter:1.2\n",
      "INFO:esy.osmfilter.pre_filter:1.2\n",
      "INFO:esy.osmfilter.pre_filter:1.2\n",
      "INFO:esy.osmfilter.pre_filter:1.2\n",
      "INFO:esy.osmfilter.pre_filter:1.2\n",
      "INFO:esy.osmfilter.pre_filter:1.2\n",
      "INFO:esy.osmfilter.pre_filter:1.2\n",
      "INFO:esy.osmfilter.pre_filter:1.2\n",
      "INFO:esy.osmfilter.pre_filter:1.2\n",
      "INFO:esy.osmfilter.pre_filter:1.2\n",
      "INFO:esy.osmfilter.pre_filter:1.2\n",
      "INFO:esy.osmfilter.pre_filter:1.2\n",
      "INFO:esy.osmfilter.pre_filter:1.2\n",
      "INFO:esy.osmfilter.pre_filter:1.2\n",
      "INFO:esy.osmfilter.pre_filter:1.2\n",
      "INFO:esy.osmfilter.pre_filter:1.2\n",
      "INFO:esy.osmfilter.pre_filter:1.2\n",
      "INFO:esy.osmfilter.pre_filter:1.2\n",
      "INFO:esy.osmfilter.pre_filter:1.2\n",
      "INFO:esy.osmfilter.pre_filter:1.2\n",
      "INFO:esy.osmfilter.pre_filter:1.2\n",
      "INFO:esy.osmfilter.pre_filter:1.2\n",
      "INFO:esy.osmfilter.pre_filter:1.2\n",
      "INFO:esy.osmfilter.pre_filter:1.2\n",
      "INFO:esy.osmfilter.pre_filter:1.2\n",
      "INFO:esy.osmfilter.pre_filter:1.2\n",
      "INFO:esy.osmfilter.pre_filter:1.2\n",
      "INFO:esy.osmfilter.pre_filter:1.2\n",
      "INFO:esy.osmfilter.pre_filter:1.2\n",
      "INFO:esy.osmfilter.pre_filter:1.2\n",
      "INFO:esy.osmfilter.pre_filter:1.2\n",
      "INFO:esy.osmfilter.pre_filter:1.2\n",
      "INFO:esy.osmfilter.pre_filter:1.2\n",
      "INFO:esy.osmfilter.pre_filter:1.2\n",
      "INFO:esy.osmfilter.pre_filter:1.2\n",
      "INFO:esy.osmfilter.pre_filter:1.2\n",
      "INFO:esy.osmfilter.pre_filter:1.2\n",
      "INFO:esy.osmfilter.pre_filter:1.2\n",
      "INFO:esy.osmfilter.pre_filter:1.2\n",
      "INFO:esy.osmfilter.pre_filter:1.2\n",
      "INFO:esy.osmfilter.pre_filter:1.2\n",
      "INFO:esy.osmfilter.pre_filter:1.2\n",
      "INFO:esy.osmfilter.pre_filter:1.2\n",
      "INFO:esy.osmfilter.pre_filter:1.2\n",
      "INFO:esy.osmfilter.pre_filter:1.2\n",
      "INFO:esy.osmfilter.pre_filter:1.2\n",
      "INFO:esy.osmfilter.pre_filter:1.2\n",
      "INFO:esy.osmfilter.pre_filter:1.2\n",
      "INFO:esy.osmfilter.pre_filter:1.2\n",
      "INFO:esy.osmfilter.pre_filter:1.2\n",
      "INFO:esy.osmfilter.pre_filter:1.2\n",
      "INFO:esy.osmfilter.pre_filter:1.2\n",
      "INFO:esy.osmfilter.pre_filter:1.2\n",
      "INFO:esy.osmfilter.pre_filter:1.2\n",
      "INFO:esy.osmfilter.pre_filter:1.2\n",
      "INFO:esy.osmfilter.pre_filter:1.2\n",
      "INFO:esy.osmfilter.pre_filter:1.2\n",
      "INFO:esy.osmfilter.pre_filter:1.2\n",
      "INFO:esy.osmfilter.pre_filter:1.2\n",
      "INFO:esy.osmfilter.pre_filter:1.2\n",
      "INFO:esy.osmfilter.pre_filter:1.2\n",
      "INFO:esy.osmfilter.pre_filter:1.2\n",
      "INFO:esy.osmfilter.pre_filter:1.2\n",
      "INFO:esy.osmfilter.pre_filter:1.2\n",
      "INFO:esy.osmfilter.pre_filter:1.2\n",
      "INFO:esy.osmfilter.pre_filter:1.2\n",
      "INFO:esy.osmfilter.pre_filter:1.2\n",
      "INFO:esy.osmfilter.pre_filter:1.2\n",
      "INFO:esy.osmfilter.pre_filter:1.2\n",
      "INFO:esy.osmfilter.pre_filter:1.2\n",
      "INFO:esy.osmfilter.pre_filter:1.2\n",
      "INFO:esy.osmfilter.pre_filter:1.2\n",
      "INFO:esy.osmfilter.pre_filter:1.2\n",
      "INFO:esy.osmfilter.pre_filter:1.2\n",
      "INFO:esy.osmfilter.pre_filter:1.2\n",
      "INFO:esy.osmfilter.pre_filter:1.2\n",
      "INFO:esy.osmfilter.pre_filter:1.2\n",
      "INFO:esy.osmfilter.pre_filter:1.2\n",
      "INFO:esy.osmfilter.pre_filter:1.2\n",
      "INFO:esy.osmfilter.pre_filter:1.2\n",
      "INFO:esy.osmfilter.pre_filter:1.2\n",
      "INFO:esy.osmfilter.pre_filter:1.2\n",
      "INFO:esy.osmfilter.pre_filter:1.2\n",
      "INFO:esy.osmfilter.pre_filter:1.2\n",
      "INFO:esy.osmfilter.pre_filter:1.2\n",
      "INFO:esy.osmfilter.pre_filter:1.2\n",
      "INFO:esy.osmfilter.pre_filter:1.2\n",
      "INFO:esy.osmfilter.pre_filter:1.2\n",
      "INFO:esy.osmfilter.pre_filter:1.2\n",
      "INFO:esy.osmfilter.pre_filter:1.2\n",
      "INFO:esy.osmfilter.pre_filter:1.2\n",
      "INFO:esy.osmfilter.pre_filter:1.2\n",
      "INFO:esy.osmfilter.pre_filter:1.2\n",
      "INFO:esy.osmfilter.pre_filter:1.2\n",
      "INFO:esy.osmfilter.pre_filter:1.2\n",
      "INFO:esy.osmfilter.pre_filter:1.2\n",
      "INFO:esy.osmfilter.pre_filter:1.2\n",
      "INFO:esy.osmfilter.pre_filter:1.2\n",
      "INFO:esy.osmfilter.pre_filter:1.2\n",
      "INFO:esy.osmfilter.pre_filter:1.2\n",
      "INFO:esy.osmfilter.pre_filter:1.2\n",
      "INFO:esy.osmfilter.pre_filter:1.2\n",
      "INFO:esy.osmfilter.pre_filter:1.2\n",
      "INFO:esy.osmfilter.pre_filter:1.2\n",
      "INFO:esy.osmfilter.pre_filter:1.2\n",
      "INFO:esy.osmfilter.pre_filter:1.2\n",
      "INFO:esy.osmfilter.pre_filter:1.2\n",
      "INFO:esy.osmfilter.pre_filter:1.2\n",
      "INFO:esy.osmfilter.pre_filter:1.2\n",
      "INFO:esy.osmfilter.pre_filter:1.2\n",
      "INFO:esy.osmfilter.pre_filter:1.2\n",
      "INFO:esy.osmfilter.pre_filter:1.2\n",
      "INFO:esy.osmfilter.pre_filter:1.2\n",
      "INFO:esy.osmfilter.pre_filter:1.2\n",
      "INFO:esy.osmfilter.pre_filter:1.2\n",
      "INFO:esy.osmfilter.pre_filter:1.2\n",
      "INFO:esy.osmfilter.pre_filter:1.3\n",
      "INFO:esy.osmfilter.pre_filter:2\n",
      "INFO:esy.osmfilter.pre_filter:3\n",
      "INFO:esy.osmfilter.pre_filter:Outputfile    : \u001b[36m/home/laia/code/Laiagdla/livablestreets/notebooks/test-osmfilter/liechtenstein-latest.json\u001b[0m\n",
      "Size          : 365             kbyte \n",
      "Time Elapsed  : 1.23            s\n",
      "\n",
      "\n"
     ]
    }
   ],
   "source": [
    "prefilter   = {Node: {}, Way: {\"highway\":[\"cycleway\",],}, Relation: {}}\n",
    "\n",
    "\n",
    "[Data,_]=run_filter('noname',\n",
    "                    PBF_inputfile, \n",
    "                    JSON_outputfile, \n",
    "                    prefilter,\n",
    "                    whitefilter, \n",
    "                    blackfilter, \n",
    "                    NewPreFilterData=True, \n",
    "                    CreateElements=False, \n",
    "                    LoadElements=False,\n",
    "                    verbose=True)"
   ]
  },
  {
   "cell_type": "code",
   "execution_count": 66,
   "id": "43fce96d",
   "metadata": {},
   "outputs": [
    {
     "data": {
      "text/plain": [
       "214"
      ]
     },
     "execution_count": 66,
     "metadata": {},
     "output_type": "execute_result"
    }
   ],
   "source": [
    ">>> len(Data['Way'])"
   ]
  },
  {
   "cell_type": "code",
   "execution_count": 73,
   "id": "65c2f1a5",
   "metadata": {},
   "outputs": [
    {
     "ename": "TypeError",
     "evalue": "export_geojson() missing 1 required positional argument: 'Data'",
     "output_type": "error",
     "traceback": [
      "\u001b[0;31m---------------------------------------------------------------------------\u001b[0m",
      "\u001b[0;31mTypeError\u001b[0m                                 Traceback (most recent call last)",
      "\u001b[0;32m/tmp/ipykernel_2138/3266956616.py\u001b[0m in \u001b[0;36m<module>\u001b[0;34m\u001b[0m\n\u001b[0;32m----> 1\u001b[0;31m export_geojson(Data['Way'],\n\u001b[0m\u001b[1;32m      2\u001b[0m filename=f'test-osmfilter/{city_name}.geojson',jsontype='Line')\n",
      "\u001b[0;31mTypeError\u001b[0m: export_geojson() missing 1 required positional argument: 'Data'"
     ]
    }
   ],
   "source": [
    "export_geojson(Data['Way'],\n",
    "filename=f'test-osmfilter/{city_name}.geojson',jsontype='Line')"
   ]
  },
  {
   "cell_type": "code",
   "execution_count": null,
   "id": "6db1083d",
   "metadata": {},
   "outputs": [],
   "source": []
  },
  {
   "cell_type": "code",
   "execution_count": null,
   "id": "a697a035",
   "metadata": {},
   "outputs": [],
   "source": []
  }
 ],
 "metadata": {
  "kernelspec": {
   "display_name": "Python 3 (ipykernel)",
   "language": "python",
   "name": "python3"
  },
  "language_info": {
   "codemirror_mode": {
    "name": "ipython",
    "version": 3
   },
   "file_extension": ".py",
   "mimetype": "text/x-python",
   "name": "python",
   "nbconvert_exporter": "python",
   "pygments_lexer": "ipython3",
   "version": "3.8.12"
  },
  "toc": {
   "base_numbering": 1,
   "nav_menu": {},
   "number_sections": true,
   "sideBar": true,
   "skip_h1_title": false,
   "title_cell": "Table of Contents",
   "title_sidebar": "Contents",
   "toc_cell": false,
   "toc_position": {},
   "toc_section_display": true,
   "toc_window_display": true
  }
 },
 "nbformat": 4,
 "nbformat_minor": 5
}
