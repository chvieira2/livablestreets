{
 "cells": [
  {
   "cell_type": "markdown",
   "id": "9854ec7c",
   "metadata": {},
   "source": [
    "# count points in a grid"
   ]
  },
  {
   "cell_type": "markdown",
   "id": "8cd1666d",
   "metadata": {},
   "source": [
    "## use of np.histogram2d\n",
    "\n",
    "Created a 3D mesh and counts points on each cell(grid):\n",
    "\n",
    "https://stackoverflow.com/questions/33970021/using-numpy-arrays-to-count-the-number-of-points-within-the-cells-of-a-regular-g"
   ]
  },
  {
   "cell_type": "code",
   "execution_count": 3,
   "id": "39472d87",
   "metadata": {},
   "outputs": [
    {
     "name": "stderr",
     "output_type": "stream",
     "text": [
      "/tmp/ipykernel_2177/1224163875.py:28: MatplotlibDeprecationWarning: The 'b' parameter of grid() has been renamed 'visible' since Matplotlib 3.5; support for the old name will be dropped two minor releases later.\n",
      "  plt.grid(b=True, which='both')\n"
     ]
    },
    {
     "data": {
      "image/png": "[encoded data removed]",
      "text/plain": [
       "<Figure size 432x288 with 1 Axes>"
      ]
     },
     "metadata": {
      "needs_background": "light"
     },
     "output_type": "display_data"
    }
   ],
   "source": [
    "# Setup\n",
    "import numpy as np\n",
    "import matplotlib.pyplot as plt\n",
    "from mpl_toolkits.mplot3d import Axes3D\n",
    "\n",
    "# Load in X,Y,Z values from a sub-sample of 10 points for testing\n",
    "# XY Values are scaled to a reasonable point of origin\n",
    "z_vals = np.array([3.08,4.46,0.27,2.40,0.48,0.21,0.31,3.28,4.09,1.75])\n",
    "x_vals = np.array([22.88,20.00,20.36,24.11,40.48,29.08,36.02,29.14,32.20,18.96])\n",
    "y_vals = np.array([31.31,25.04,31.86,41.81,38.23,31.57,42.65,18.09,35.78,31.78])\n",
    "\n",
    "# Updated code below\n",
    "# Variables needed for 2D,3D histograms\n",
    "xmax, ymax, zmax = int(x_vals.max())+1, int(y_vals.max())+1, int(z_vals.max())+1\n",
    "xmin, ymin, zmin = int(x_vals.min()), int(y_vals.min()), int(z_vals.min())\n",
    "xrange, yrange, zrange = xmax-xmin, ymax-ymin, zmax-zmin\n",
    "xedges = np.linspace(xmin, xmax, (xrange + 1), dtype=int)\n",
    "yedges = np.linspace(ymin, ymax, (yrange + 1), dtype=int)\n",
    "zedges = np.linspace(zmin, zmax, (zrange + 1), dtype=int)\n",
    "\n",
    "# Make the 2D histogram\n",
    "h2d, xedges, yedges = np.histogram2d(x_vals, y_vals, bins=(xedges, yedges))\n",
    "assert np.count_nonzero(h2d) == len(x_vals), \"Unclassified points in the array\"\n",
    "extent = [xedges[0], xedges[-1], yedges[0], yedges[-1]]\n",
    "plt.imshow(h2d.transpose(), extent=extent,  interpolation='none') #, origin='low')\n",
    "# Transpose and origin must be used to make the array line up when using imshow, unsure why\n",
    "# Plot settings, not sure yet on matplotlib update/override objects\n",
    "plt.grid(b=True, which='both')\n",
    "plt.xticks(xedges)\n",
    "plt.yticks(yedges)\n",
    "plt.xlabel('X-Axis')\n",
    "plt.ylabel('Y-Axis')\n",
    "plt.plot(x_vals, y_vals, 'ro')\n",
    "plt.show()\n",
    "\n",
    "# # 3-dimensional histogram with 1 x 1 x 1 m bins. Produces point counts in each 1m3 cell.\n",
    "# xyzstack = np.stack([x_vals,y_vals,z_vals], axis=1)\n",
    "# h3d, Hedges = np.histogramdd(xyzstack, bins=(xedges, yedges, zedges))\n",
    "# assert np.count_nonzero(h3d) == len(x_vals), \"Unclassified points in the array\"\n",
    "# h3d.shape  # Shape of the array should be same as the edge dimensions\n",
    "# testzbin = np.sum(np.logical_and(z_vals >= 1, z_vals < 2))  # Slice to test with\n",
    "# np.sum(h3d[:,:,1]) == testzbin  # Test num points in second bins\n",
    "# np.sum(h3d, axis=2)  # Sum of all vertical points above each x,y 'pixel'\n",
    "# # only in this example the h2d and np.sum(h3d,axis=2) arrays will match as no z bins have >1 points\n",
    "\n",
    "# # Remaining issue - how to get a r x c count of empty z bins.\n",
    "# # i.e. for each 'pixel'  how many z bins contained no points?\n",
    "# # Possible solution is to reshape to use logical operators\n",
    "# count2d = h3d.reshape(xrange * yrange, zrange)  # Maintain dimensions per num 3D cells defined\n",
    "# zerobins = (count2d == 0).sum(1)\n",
    "# zerobins.shape\n",
    "# # Get back to x,y grid with counts - ready for output as image with counts=pixel digital number\n",
    "# bincount_pixels = zerobins.reshape(xrange,yrange)\n",
    "# # Appears to work, perhaps there is a way without reshapeing?\n"
   ]
  },
  {
   "cell_type": "markdown",
   "id": "78eee2cd",
   "metadata": {},
   "source": [
    "## numpy meshgrid\n",
    "\n",
    "https://www.javatpoint.com/numpy-meshgrid\n",
    "\n",
    "creating a meshgrid with numpy "
   ]
  },
  {
   "cell_type": "markdown",
   "id": "f716b771",
   "metadata": {},
   "source": [
    "## matrix of coordinates\n",
    "\n",
    "https://stackoverflow.com/questions/24436063/numpy-matrix-of-coordinates"
   ]
  },
  {
   "cell_type": "markdown",
   "id": "cde432d1",
   "metadata": {},
   "source": [
    "## counting values between interval\n",
    "\n",
    "https://stackoverflow.com/questions/2946519/counting-number-of-values-between-interval\n",
    "\n",
    "you will have to iterate the list at least once.\n",
    "\n",
    "The solution below works with any sequence/interval that implements comparision (<, >, etc) and uses bisect algorithm to find the correct point in the interval, so it is very fast.\n",
    "\n",
    "It will work with floats, text, or whatever. Just pass a sequence and a list of the intervals.\n"
   ]
  },
  {
   "cell_type": "code",
   "execution_count": 6,
   "id": "75264a9c",
   "metadata": {},
   "outputs": [
    {
     "name": "stdout",
     "output_type": "stream",
     "text": [
      "defaultdict(<class 'int'>, {10: 10, 20: 9})\n"
     ]
    }
   ],
   "source": [
    "from collections import defaultdict\n",
    "from bisect import bisect_left\n",
    "\n",
    "def count_intervals(sequence, intervals):\n",
    "    count = defaultdict(int)\n",
    "    intervals.sort()\n",
    "    for item in sequence:\n",
    "        pos = bisect_left(intervals, item)\n",
    "        if pos == len(intervals):\n",
    "            count[None] += 1\n",
    "        else:\n",
    "            count[intervals[pos]] += 1\n",
    "    return count\n",
    "\n",
    "data = [4,4,1,18,2,15,6,14,2,16,2,17,12,3,12,4,15,5,17]\n",
    "print (count_intervals(data, [10, 20]))"
   ]
  },
  {
   "cell_type": "markdown",
   "id": "2c1e888b",
   "metadata": {},
   "source": [
    "## bins in 2d array\n",
    "\n",
    "https://stackoverflow.com/questions/36063658/how-to-bin-a-2d-array-in-numpy"
   ]
  },
  {
   "cell_type": "code",
   "execution_count": 8,
   "id": "a8e53f6d",
   "metadata": {},
   "outputs": [
    {
     "data": {
      "text/plain": [
       "array([[ 0,  1,  2,  3,  4,  5],\n",
       "       [ 6,  7,  8,  9, 10, 11],\n",
       "       [12, 13, 14, 15, 16, 17],\n",
       "       [18, 19, 20, 21, 22, 23]])"
      ]
     },
     "execution_count": 8,
     "metadata": {},
     "output_type": "execute_result"
    }
   ],
   "source": [
    ">>> a = np.arange(24).reshape(4, 6)\n",
    ">>> a\n"
   ]
  },
  {
   "cell_type": "code",
   "execution_count": 10,
   "id": "1fb9565e",
   "metadata": {},
   "outputs": [
    {
     "data": {
      "text/plain": [
       "array([[ 24,  42],\n",
       "       [ 96, 114]])"
      ]
     },
     "execution_count": 10,
     "metadata": {},
     "output_type": "execute_result"
    }
   ],
   "source": [
    ">>> a.reshape(2, 2, 2, 3).sum(3).sum(1)"
   ]
  },
  {
   "cell_type": "markdown",
   "id": "8db0cee6",
   "metadata": {},
   "source": [
    "## sorting 2d coordinates\n",
    "\n",
    "https://stackoverflow.com/questions/37111798/how-to-sort-a-list-of-x-y-coordinates"
   ]
  },
  {
   "cell_type": "code",
   "execution_count": 11,
   "id": "59df7ecf",
   "metadata": {},
   "outputs": [
    {
     "data": {
      "text/plain": [
       "[[0, 0], [1, 0], [2, 0], [0, 1], [1, 1], [2, 1], [0, 2], [1, 2], [2, 2]]"
      ]
     },
     "execution_count": 11,
     "metadata": {},
     "output_type": "execute_result"
    }
   ],
   "source": [
    "my_list = [[1,2],[0,2],[2,1],[1,1],[2,2],[2,0],[0,1],[1,0],[0,0]]\n",
    ">>> sorted(my_list , key=lambda k: [k[1], k[0]])"
   ]
  },
  {
   "cell_type": "code",
   "execution_count": null,
   "id": "37202c5d",
   "metadata": {},
   "outputs": [],
   "source": []
  }
 ],
 "metadata": {
  "kernelspec": {
   "display_name": "Python 3 (ipykernel)",
   "language": "python",
   "name": "python3"
  },
  "language_info": {
   "codemirror_mode": {
    "name": "ipython",
    "version": 3
   },
   "file_extension": ".py",
   "mimetype": "text/x-python",
   "name": "python",
   "nbconvert_exporter": "python",
   "pygments_lexer": "ipython3",
   "version": "3.8.12"
  },
  "toc": {
   "base_numbering": 1,
   "nav_menu": {},
   "number_sections": true,
   "sideBar": true,
   "skip_h1_title": false,
   "title_cell": "Table of Contents",
   "title_sidebar": "Contents",
   "toc_cell": false,
   "toc_position": {},
   "toc_section_display": true,
   "toc_window_display": true
  }
 },
 "nbformat": 4,
 "nbformat_minor": 5
}
