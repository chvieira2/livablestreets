{
 "cells": [
  {
   "cell_type": "markdown",
   "id": "f1bc8d5f",
   "metadata": {},
   "source": [
    "# Manipulating Data with Osmosis\n"
   ]
  },
  {
   "cell_type": "markdown",
   "id": "0c901d7e",
   "metadata": {},
   "source": [
    "https://learnosm.org/en/osm-data/osmosis/\n",
    "\n",
    "https://stackoverflow.com/questions/56680075/integrating-osmosis-and-python-to-get-data-from-osm-files\n",
    "\n",
    "https://wiki.openstreetmap.org/wiki/Osmosis/Detailed_Usage_0.43\n",
    "\n",
    "https://osmcode.org/osmium-tool/\n",
    "\n",
    "https://github.com/osmcode/pyosmium/tree/master/examples"
   ]
  },
  {
   "cell_type": "code",
   "execution_count": 3,
   "id": "c453175f",
   "metadata": {},
   "outputs": [
    {
     "name": "stdout",
     "output_type": "stream",
     "text": [
      "Usage: python /home/laia/.pyenv/versions/3.8.12/envs/lewagon/lib/python3.8/site-packages/ipykernel_launcher.py <osmfile>\n"
     ]
    },
    {
     "ename": "SystemExit",
     "evalue": "-1",
     "output_type": "error",
     "traceback": [
      "An exception has occurred, use %tb to see the full traceback.\n",
      "\u001b[0;31mSystemExit\u001b[0m\u001b[0;31m:\u001b[0m -1\n"
     ]
    }
   ],
   "source": [
    "\"\"\"\n",
    "Extract all objects with an amenity tag from an osm file and list them\n",
    "with their name and position.\n",
    "This example shows how geometries from osmium objects can be imported\n",
    "into shapely using the WKBFactory.\n",
    "\"\"\"\n",
    "import osmium as o\n",
    "import sys\n",
    "import shapely.wkb as wkblib\n",
    "\n",
    "wkbfab = o.geom.WKBFactory()\n",
    "\n",
    "class AmenityListHandler(o.SimpleHandler):\n",
    "\n",
    "    def print_amenity(self, tags, lon, lat):\n",
    "        name = tags.get('name', '')\n",
    "        print(\"%f %f %-15s %s\" % (lon, lat, tags['amenity'], name))\n",
    "\n",
    "    def node(self, n):\n",
    "        if 'amenity' in n.tags:\n",
    "            self.print_amenity(n.tags, n.location.lon, n.location.lat)\n",
    "\n",
    "    def area(self, a):\n",
    "        if 'amenity' in a.tags:\n",
    "            wkb = wkbfab.create_multipolygon(a)\n",
    "            poly = wkblib.loads(wkb, hex=True)\n",
    "            centroid = poly.representative_point()\n",
    "            self.print_amenity(a.tags, centroid.x, centroid.y)\n",
    "\n",
    "\n",
    "def main(osmfile):\n",
    "\n",
    "    handler = AmenityListHandler()\n",
    "\n",
    "    handler.apply_file(osmfile)\n",
    "\n",
    "    return 0\n",
    "\n",
    "if __name__ == '__main__':\n",
    "    if len(sys.argv) != 2:\n",
    "        print(\"Usage: python %s <osmfile>\" % sys.argv[0])\n",
    "        sys.exit(-1)\n",
    "\n",
    "    exit(main(sys.argv[1]))"
   ]
  },
  {
   "cell_type": "code",
   "execution_count": null,
   "id": "7828836f",
   "metadata": {},
   "outputs": [],
   "source": []
  }
 ],
 "metadata": {
  "kernelspec": {
   "display_name": "Python 3 (ipykernel)",
   "language": "python",
   "name": "python3"
  },
  "language_info": {
   "codemirror_mode": {
    "name": "ipython",
    "version": 3
   },
   "file_extension": ".py",
   "mimetype": "text/x-python",
   "name": "python",
   "nbconvert_exporter": "python",
   "pygments_lexer": "ipython3",
   "version": "3.8.12"
  },
  "toc": {
   "base_numbering": 1,
   "nav_menu": {},
   "number_sections": true,
   "sideBar": true,
   "skip_h1_title": false,
   "title_cell": "Table of Contents",
   "title_sidebar": "Contents",
   "toc_cell": false,
   "toc_position": {},
   "toc_section_display": true,
   "toc_window_display": true
  }
 },
 "nbformat": 4,
 "nbformat_minor": 5
}
