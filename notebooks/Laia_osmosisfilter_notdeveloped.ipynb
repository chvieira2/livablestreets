{
 "cells": [
  {
   "cell_type": "markdown",
   "id": "f1bc8d5f",
   "metadata": {},
   "source": [
    "# Manipulating Data with Osmosis\n"
   ]
  },
  {
   "cell_type": "markdown",
   "id": "0c901d7e",
   "metadata": {},
   "source": [
    "https://learnosm.org/en/osm-data/osmosis/\n",
    "\n",
    "https://stackoverflow.com/questions/56680075/integrating-osmosis-and-python-to-get-data-from-osm-files\n",
    "\n",
    "https://wiki.openstreetmap.org/wiki/Osmosis/Detailed_Usage_0.43"
   ]
  },
  {
   "cell_type": "code",
   "execution_count": null,
   "id": "c453175f",
   "metadata": {},
   "outputs": [],
   "source": []
  }
 ],
 "metadata": {
  "kernelspec": {
   "display_name": "Python 3 (ipykernel)",
   "language": "python",
   "name": "python3"
  },
  "language_info": {
   "codemirror_mode": {
    "name": "ipython",
    "version": 3
   },
   "file_extension": ".py",
   "mimetype": "text/x-python",
   "name": "python",
   "nbconvert_exporter": "python",
   "pygments_lexer": "ipython3",
   "version": "3.8.12"
  },
  "toc": {
   "base_numbering": 1,
   "nav_menu": {},
   "number_sections": true,
   "sideBar": true,
   "skip_h1_title": false,
   "title_cell": "Table of Contents",
   "title_sidebar": "Contents",
   "toc_cell": false,
   "toc_position": {},
   "toc_section_display": true,
   "toc_window_display": true
  }
 },
 "nbformat": 4,
 "nbformat_minor": 5
}
